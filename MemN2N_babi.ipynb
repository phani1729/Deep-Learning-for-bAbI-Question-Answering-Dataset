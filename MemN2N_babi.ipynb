{
 "cells": [
  {
   "cell_type": "code",
   "execution_count": 1,
   "metadata": {
    "colab": {
     "autoexec": {
      "startup": false,
      "wait_interval": 0
     }
    },
    "colab_type": "code",
    "id": "AM3T017mKvNp"
   },
   "outputs": [],
   "source": [
    "import numpy as np"
   ]
  },
  {
   "cell_type": "code",
   "execution_count": 2,
   "metadata": {
    "colab": {
     "autoexec": {
      "startup": false,
      "wait_interval": 0
     }
    },
    "colab_type": "code",
    "id": "28LkzM4kKvNw"
   },
   "outputs": [],
   "source": [
    "np.random.seed(42)"
   ]
  },
  {
   "cell_type": "markdown",
   "metadata": {
    "colab_type": "text",
    "id": "HSJ-WEVjKvNz"
   },
   "source": [
    "Download the data from http://www.thespermwhale.com/jaseweston/babi/tasks_1-20_v1-2.tar.gz"
   ]
  },
  {
   "cell_type": "markdown",
   "metadata": {
    "colab_type": "text",
    "id": "zT6IaX57KvN6"
   },
   "source": [
    "Parse bAbI stories"
   ]
  },
  {
   "cell_type": "code",
   "execution_count": 3,
   "metadata": {
    "colab": {
     "autoexec": {
      "startup": false,
      "wait_interval": 0
     }
    },
    "colab_type": "code",
    "id": "0rpGiJGxKvN7"
   },
   "outputs": [],
   "source": [
    "def parse_stories(lines):\n",
    "    \n",
    "    stories = []\n",
    "    questions = []\n",
    "    answers = []\n",
    "    \n",
    "    story = ''\n",
    "    for line in lines:\n",
    "        line = line.decode('utf-8').strip()\n",
    "        #Get line number and rest of the line\n",
    "        nid, line = line.split(' ', 1)\n",
    "        nid = int(nid)\n",
    "        if nid == 1:\n",
    "            #Start a new story\n",
    "            story = ''\n",
    "        if '\\t' in line:\n",
    "            #End of the story\n",
    "            q, a, supporting = line.split('\\t')\n",
    "            stories.append(story)\n",
    "            questions.append(q)\n",
    "            answers.append(a)            \n",
    "        else:\n",
    "            if (story == ''):\n",
    "                story = line\n",
    "            else:\n",
    "                story += ' ' + line\n",
    "    return stories, questions, answers"
   ]
  },
  {
   "cell_type": "code",
   "execution_count": 4,
   "metadata": {
    "colab": {
     "autoexec": {
      "startup": false,
      "wait_interval": 0
     }
    },
    "colab_type": "code",
    "id": "Q4MnM8n1KvN_"
   },
   "outputs": [],
   "source": [
    "import tarfile"
   ]
  },
  {
   "cell_type": "markdown",
   "metadata": {
    "colab_type": "text",
    "id": "uEeO28WcKvOC"
   },
   "source": [
    "Checking the content of the file"
   ]
  },
  {
   "cell_type": "code",
   "execution_count": 5,
   "metadata": {
    "colab": {
     "autoexec": {
      "startup": false,
      "wait_interval": 0
     }
    },
    "colab_type": "code",
    "id": "Y583dw4_KvOE"
   },
   "outputs": [
    {
     "name": "stdout",
     "output_type": "stream",
     "text": [
      "[b'1 John travelled to the hallway.\\n', b'2 Mary journeyed to the bathroom.\\n', b'3 Where is John? \\thallway\\t1\\n', b'4 Daniel went back to the bathroom.\\n', b'5 John moved to the bedroom.\\n', b'6 Where is Mary? \\tbathroom\\t2\\n', b'7 John went to the hallway.\\n', b'8 Sandra journeyed to the kitchen.\\n', b'9 Where is Sandra? \\tkitchen\\t8\\n', b'10 Sandra travelled to the hallway.\\n', b'11 John went to the garden.\\n', b'12 Where is Sandra? \\thallway\\t10\\n', b'13 Sandra went back to the bathroom.\\n', b'14 Sandra moved to the kitchen.\\n', b'15 Where is Sandra? \\tkitchen\\t14\\n', b'1 Sandra travelled to the kitchen.\\n', b'2 Sandra travelled to the hallway.\\n', b'3 Where is Sandra? \\thallway\\t2\\n', b'4 Mary went to the bathroom.\\n', b'5 Sandra moved to the garden.\\n', b'6 Where is Sandra? \\tgarden\\t5\\n', b'7 Sandra travelled to the office.\\n', b'8 Daniel journeyed to the hallway.\\n', b'9 Where is Daniel? \\thallway\\t8\\n', b'10 Daniel journeyed to the office.\\n', b'11 John moved to the hallway.\\n', b'12 Where is Sandra? \\toffice\\t7\\n', b'13 John travelled to the bathroom.\\n', b'14 John journeyed to the office.\\n', b'15 Where is Daniel? \\toffice\\t10\\n', b'1 John travelled to the office.\\n', b'2 Mary journeyed to the kitchen.\\n', b'3 Where is Mary? \\tkitchen\\t2\\n', b'4 Mary moved to the garden.\\n', b'5 Daniel went to the office.\\n', b'6 Where is Mary? \\tgarden\\t4\\n', b'7 John went to the hallway.\\n', b'8 Mary moved to the kitchen.\\n', b'9 Where is Daniel? \\toffice\\t5\\n', b'10 Mary travelled to the bedroom.\\n', b'11 Daniel journeyed to the garden.\\n', b'12 Where is Mary? \\tbedroom\\t10\\n', b'13 John journeyed to the garden.\\n', b'14 Sandra journeyed to the bedroom.\\n', b'15 Where is Mary? \\tbedroom\\t10\\n', b'1 John moved to the hallway.\\n', b'2 John journeyed to the kitchen.\\n', b'3 Where is John? \\tkitchen\\t2\\n', b'4 Sandra travelled to the garden.\\n', b'5 John journeyed to the garden.\\n', b'6 Where is John? \\tgarden\\t5\\n', b'7 Daniel journeyed to the office.\\n', b'8 John went to the kitchen.\\n', b'9 Where is John? \\tkitchen\\t8\\n', b'10 Sandra journeyed to the hallway.\\n', b'11 Mary went to the hallway.\\n', b'12 Where is Daniel? \\toffice\\t7\\n', b'13 Mary went to the kitchen.\\n', b'14 Sandra travelled to the garden.\\n', b'15 Where is John? \\tkitchen\\t8\\n', b'1 Mary journeyed to the kitchen.\\n', b'2 Mary travelled to the hallway.\\n', b'3 Where is Mary? \\thallway\\t2\\n', b'4 Sandra moved to the office.\\n', b'5 John journeyed to the office.\\n', b'6 Where is John? \\toffice\\t5\\n', b'7 Sandra travelled to the hallway.\\n', b'8 Daniel went back to the bathroom.\\n', b'9 Where is John? \\toffice\\t5\\n', b'10 Mary travelled to the garden.\\n', b'11 Daniel moved to the bedroom.\\n', b'12 Where is Sandra? \\thallway\\t7\\n', b'13 John went to the garden.\\n', b'14 Sandra travelled to the office.\\n', b'15 Where is Daniel? \\tbedroom\\t11\\n', b'1 Sandra moved to the bedroom.\\n', b'2 Mary went back to the kitchen.\\n', b'3 Where is Sandra? \\tbedroom\\t1\\n', b'4 Mary went to the bedroom.\\n', b'5 Daniel journeyed to the bedroom.\\n', b'6 Where is Mary? \\tbedroom\\t4\\n', b'7 John travelled to the bathroom.\\n', b'8 Daniel travelled to the kitchen.\\n', b'9 Where is Daniel? \\tkitchen\\t8\\n', b'10 John went back to the office.\\n', b'11 Sandra journeyed to the garden.\\n', b'12 Where is Daniel? \\tkitchen\\t8\\n', b'13 Mary journeyed to the bathroom.\\n', b'14 Mary journeyed to the kitchen.\\n', b'15 Where is Daniel? \\tkitchen\\t8\\n', b'1 Sandra moved to the hallway.\\n', b'2 Daniel went to the office.\\n', b'3 Where is Sandra? \\thallway\\t1\\n', b'4 Sandra travelled to the kitchen.\\n', b'5 John moved to the office.\\n', b'6 Where is John? \\toffice\\t5\\n', b'7 Sandra went to the bathroom.\\n', b'8 Sandra moved to the kitchen.\\n', b'9 Where is Sandra? \\tkitchen\\t8\\n', b'10 Sandra journeyed to the bedroom.\\n', b'11 Sandra went to the kitchen.\\n', b'12 Where is Sandra? \\tkitchen\\t11\\n', b'13 John went to the garden.\\n', b'14 Sandra went to the bathroom.\\n', b'15 Where is Sandra? \\tbathroom\\t14\\n', b'1 Mary went back to the bedroom.\\n', b'2 Mary moved to the office.\\n', b'3 Where is Mary? \\toffice\\t2\\n', b'4 Mary went back to the bathroom.\\n', b'5 Sandra moved to the hallway.\\n', b'6 Where is Mary? \\tbathroom\\t4\\n', b'7 Mary went to the garden.\\n', b'8 Sandra went to the kitchen.\\n', b'9 Where is Mary? \\tgarden\\t7\\n', b'10 Daniel journeyed to the bedroom.\\n', b'11 John journeyed to the hallway.\\n', b'12 Where is Sandra? \\tkitchen\\t8\\n', b'13 Sandra moved to the office.\\n', b'14 Sandra journeyed to the garden.\\n', b'15 Where is Daniel? \\tbedroom\\t10\\n', b'1 Sandra went to the office.\\n', b'2 Sandra travelled to the bathroom.\\n', b'3 Where is Sandra? \\tbathroom\\t2\\n', b'4 Mary went back to the bedroom.\\n', b'5 Daniel moved to the garden.\\n', b'6 Where is Daniel? \\tgarden\\t5\\n', b'7 John journeyed to the garden.\\n', b'8 Daniel went back to the hallway.\\n', b'9 Where is Sandra? \\tbathroom\\t2\\n', b'10 John journeyed to the bedroom.\\n', b'11 Mary travelled to the kitchen.\\n', b'12 Where is Daniel? \\thallway\\t8\\n', b'13 Sandra went to the bedroom.\\n', b'14 Daniel went to the garden.\\n', b'15 Where is Daniel? \\tgarden\\t14\\n', b'1 Mary went back to the kitchen.\\n', b'2 Daniel journeyed to the hallway.\\n', b'3 Where is Mary? \\tkitchen\\t1\\n', b'4 Mary went back to the hallway.\\n', b'5 Sandra journeyed to the bedroom.\\n', b'6 Where is Daniel? \\thallway\\t2\\n', b'7 Sandra moved to the garden.\\n', b'8 Sandra moved to the bathroom.\\n', b'9 Where is Sandra? \\tbathroom\\t8\\n', b'10 Daniel travelled to the bedroom.\\n', b'11 John moved to the office.\\n', b'12 Where is John? \\toffice\\t11\\n', b'13 Sandra moved to the hallway.\\n', b'14 John moved to the bedroom.\\n', b'15 Where is John? \\tbedroom\\t14\\n', b'1 John journeyed to the hallway.\\n', b'2 John journeyed to the bedroom.\\n', b'3 Where is John? \\tbedroom\\t2\\n', b'4 Daniel journeyed to the bedroom.\\n', b'5 John journeyed to the office.\\n', b'6 Where is John? \\toffice\\t5\\n', b'7 John moved to the garden.\\n', b'8 Daniel moved to the garden.\\n', b'9 Where is John? \\tgarden\\t7\\n', b'10 Daniel went back to the kitchen.\\n', b'11 Mary journeyed to the hallway.\\n', b'12 Where is John? \\tgarden\\t7\\n', b'13 John moved to the office.\\n', b'14 Mary journeyed to the kitchen.\\n', b'15 Where is Daniel? \\tkitchen\\t10\\n', b'1 Mary went to the bedroom.\\n', b'2 Daniel journeyed to the bathroom.\\n', b'3 Where is Mary? \\tbedroom\\t1\\n', b'4 Mary travelled to the kitchen.\\n', b'5 Daniel moved to the garden.\\n', b'6 Where is Mary? \\tkitchen\\t4\\n', b'7 Sandra travelled to the bedroom.\\n', b'8 Mary journeyed to the hallway.\\n', b'9 Where is Mary? \\thallway\\t8\\n', b'10 Sandra went back to the office.\\n', b'11 Sandra went to the kitchen.\\n', b'12 Where is Daniel? \\tgarden\\t5\\n', b'13 Sandra went to the hallway.\\n', b'14 John moved to the office.\\n', b'15 Where is Sandra? \\thallway\\t13\\n', b'1 Sandra went back to the hallway.\\n', b'2 John moved to the hallway.\\n', b'3 Where is Sandra? \\thallway\\t1\\n', b'4 John travelled to the bathroom.\\n', b'5 Daniel travelled to the office.\\n', b'6 Where is Daniel? \\toffice\\t5\\n', b'7 John moved to the office.\\n', b'8 Sandra travelled to the bathroom.\\n', b'9 Where is Sandra? \\tbathroom\\t8\\n', b'10 Daniel went back to the bedroom.\\n', b'11 Daniel went back to the garden.\\n', b'12 Where is Daniel? \\tgarden\\t11\\n', b'13 Sandra moved to the hallway.\\n', b'14 John went back to the bathroom.\\n', b'15 Where is Daniel? \\tgarden\\t11\\n', b'1 Mary went to the kitchen.\\n', b'2 John went back to the kitchen.\\n', b'3 Where is John? \\tkitchen\\t2\\n', b'4 Daniel went back to the hallway.\\n', b'5 Daniel went to the bathroom.\\n', b'6 Where is John? \\tkitchen\\t2\\n', b'7 Sandra travelled to the bathroom.\\n', b'8 Sandra travelled to the bedroom.\\n', b'9 Where is Daniel? \\tbathroom\\t5\\n', b'10 Daniel went to the kitchen.\\n', b'11 Daniel moved to the office.\\n', b'12 Where is Daniel? \\toffice\\t11\\n', b'13 Mary moved to the bathroom.\\n', b'14 Mary went back to the hallway.\\n', b'15 Where is Daniel? \\toffice\\t11\\n', b'1 Sandra journeyed to the bedroom.\\n', b'2 Mary journeyed to the garden.\\n', b'3 Where is Mary? \\tgarden\\t2\\n', b'4 Sandra moved to the hallway.\\n', b'5 Mary travelled to the office.\\n', b'6 Where is Sandra? \\thallway\\t4\\n', b'7 Mary travelled to the kitchen.\\n', b'8 Mary journeyed to the garden.\\n', b'9 Where is Mary? \\tgarden\\t8\\n', b'10 John moved to the hallway.\\n', b'11 Mary went to the bedroom.\\n', b'12 Where is Mary? \\tbedroom\\t11\\n', b'13 John moved to the bathroom.\\n', b'14 Mary went to the bathroom.\\n', b'15 Where is Mary? \\tbathroom\\t14\\n', b'1 John travelled to the kitchen.\\n', b'2 Daniel went back to the kitchen.\\n', b'3 Where is Daniel? \\tkitchen\\t2\\n', b'4 Daniel went to the garden.\\n', b'5 Mary went back to the office.\\n', b'6 Where is John? \\tkitchen\\t1\\n', b'7 Daniel journeyed to the office.\\n', b'8 Daniel moved to the kitchen.\\n', b'9 Where is Daniel? \\tkitchen\\t8\\n', b'10 Daniel went back to the hallway.\\n', b'11 Sandra went back to the bedroom.\\n', b'12 Where is Daniel? \\thallway\\t10\\n', b'13 Sandra went to the garden.\\n', b'14 Daniel went back to the office.\\n', b'15 Where is Daniel? \\toffice\\t14\\n', b'1 Daniel went to the garden.\\n', b'2 John travelled to the garden.\\n', b'3 Where is John? \\tgarden\\t2\\n', b'4 John travelled to the bathroom.\\n', b'5 Mary went to the garden.\\n', b'6 Where is John? \\tbathroom\\t4\\n', b'7 Sandra moved to the kitchen.\\n', b'8 Sandra went back to the bedroom.\\n', b'9 Where is Sandra? \\tbedroom\\t8\\n', b'10 John journeyed to the office.\\n', b'11 Sandra went to the office.\\n', b'12 Where is Mary? \\tgarden\\t5\\n', b'13 Mary travelled to the kitchen.\\n', b'14 Daniel travelled to the office.\\n', b'15 Where is Daniel? \\toffice\\t14\\n', b'1 John travelled to the garden.\\n', b'2 Sandra travelled to the garden.\\n', b'3 Where is Sandra? \\tgarden\\t2\\n', b'4 Mary journeyed to the office.\\n', b'5 Mary went to the garden.\\n', b'6 Where is Mary? \\tgarden\\t5\\n', b'7 John went to the hallway.\\n', b'8 Mary went to the bedroom.\\n', b'9 Where is John? \\thallway\\t7\\n', b'10 John went to the office.\\n', b'11 Sandra went back to the kitchen.\\n', b'12 Where is Sandra? \\tkitchen\\t11\\n', b'13 John travelled to the kitchen.\\n', b'14 Daniel went back to the kitchen.\\n', b'15 Where is Daniel? \\tkitchen\\t14\\n', b'1 Sandra moved to the kitchen.\\n', b'2 Sandra went back to the bathroom.\\n', b'3 Where is Sandra? \\tbathroom\\t2\\n', b'4 Mary journeyed to the bedroom.\\n', b'5 John journeyed to the bathroom.\\n', b'6 Where is John? \\tbathroom\\t5\\n', b'7 Sandra moved to the bedroom.\\n', b'8 Sandra travelled to the hallway.\\n', b'9 Where is Sandra? \\thallway\\t8\\n', b'10 Sandra travelled to the garden.\\n', b'11 Sandra travelled to the bathroom.\\n', b'12 Where is Sandra? \\tbathroom\\t11\\n', b'13 Daniel journeyed to the kitchen.\\n', b'14 John journeyed to the office.\\n', b'15 Where is Sandra? \\tbathroom\\t11\\n', b'1 John travelled to the kitchen.\\n', b'2 Sandra moved to the kitchen.\\n', b'3 Where is John? \\tkitchen\\t1\\n', b'4 Daniel went to the kitchen.\\n', b'5 John journeyed to the hallway.\\n', b'6 Where is Sandra? \\tkitchen\\t2\\n', b'7 Mary journeyed to the bedroom.\\n', b'8 Mary journeyed to the kitchen.\\n', b'9 Where is Mary? \\tkitchen\\t8\\n', b'10 Mary travelled to the bedroom.\\n', b'11 Sandra travelled to the bedroom.\\n', b'12 Where is Mary? \\tbedroom\\t10\\n', b'13 John went to the office.\\n', b'14 John went back to the kitchen.\\n', b'15 Where is Mary? \\tbedroom\\t10\\n', b'1 Mary travelled to the garden.\\n', b'2 Mary moved to the bedroom.\\n', b'3 Where is Mary? \\tbedroom\\t2\\n', b'4 Sandra went to the bathroom.\\n', b'5 Daniel travelled to the bathroom.\\n', b'6 Where is Sandra? \\tbathroom\\t4\\n', b'7 Mary travelled to the office.\\n', b'8 Daniel moved to the hallway.\\n', b'9 Where is Mary? \\toffice\\t7\\n', b'10 John moved to the kitchen.\\n', b'11 Daniel went to the garden.\\n', b'12 Where is Daniel? \\tgarden\\t11\\n', b'13 Mary journeyed to the garden.\\n', b'14 John journeyed to the bedroom.\\n', b'15 Where is Daniel? \\tgarden\\t11\\n', b'1 Mary journeyed to the office.\\n', b'2 Mary moved to the hallway.\\n', b'3 Where is Mary? \\thallway\\t2\\n', b'4 John journeyed to the hallway.\\n', b'5 Daniel travelled to the bedroom.\\n', b'6 Where is Daniel? \\tbedroom\\t5\\n', b'7 Daniel travelled to the bathroom.\\n', b'8 John travelled to the kitchen.\\n', b'9 Where is Daniel? \\tbathroom\\t7\\n', b'10 Daniel moved to the office.\\n', b'11 Mary went to the garden.\\n', b'12 Where is Daniel? \\toffice\\t10\\n', b'13 Daniel moved to the kitchen.\\n', b'14 John travelled to the bedroom.\\n', b'15 Where is John? \\tbedroom\\t14\\n', b'1 Daniel went to the office.\\n', b'2 Daniel travelled to the bathroom.\\n', b'3 Where is Daniel? \\tbathroom\\t2\\n', b'4 John travelled to the kitchen.\\n', b'5 John went to the bedroom.\\n', b'6 Where is Daniel? \\tbathroom\\t2\\n', b'7 John went to the office.\\n', b'8 John journeyed to the kitchen.\\n', b'9 Where is John? \\tkitchen\\t8\\n', b'10 Mary moved to the kitchen.\\n', b'11 John went back to the hallway.\\n', b'12 Where is John? \\thallway\\t11\\n', b'13 Sandra went to the bathroom.\\n', b'14 Sandra moved to the office.\\n', b'15 Where is Mary? \\tkitchen\\t10\\n', b'1 Sandra went back to the garden.\\n', b'2 John moved to the office.\\n', b'3 Where is Sandra? \\tgarden\\t1\\n', b'4 Sandra travelled to the bathroom.\\n', b'5 Mary went back to the kitchen.\\n', b'6 Where is John? \\toffice\\t2\\n', b'7 John went to the bathroom.\\n', b'8 Daniel travelled to the bathroom.\\n', b'9 Where is Mary? \\tkitchen\\t5\\n', b'10 John went back to the kitchen.\\n', b'11 John went to the hallway.\\n', b'12 Where is Daniel? \\tbathroom\\t8\\n', b'13 Daniel journeyed to the garden.\\n', b'14 Daniel went back to the office.\\n', b'15 Where is Daniel? \\toffice\\t14\\n', b'1 Daniel journeyed to the office.\\n', b'2 Daniel travelled to the bedroom.\\n', b'3 Where is Daniel? \\tbedroom\\t2\\n', b'4 Sandra travelled to the bathroom.\\n', b'5 Mary journeyed to the bathroom.\\n', b'6 Where is Mary? \\tbathroom\\t5\\n', b'7 John went back to the office.\\n', b'8 Mary journeyed to the kitchen.\\n', b'9 Where is Daniel? \\tbedroom\\t2\\n', b'10 Daniel journeyed to the hallway.\\n', b'11 John travelled to the bathroom.\\n', b'12 Where is Daniel? \\thallway\\t10\\n', b'13 Mary travelled to the bedroom.\\n', b'14 John travelled to the office.\\n', b'15 Where is Mary? \\tbedroom\\t13\\n', b'1 John moved to the kitchen.\\n', b'2 Sandra travelled to the office.\\n', b'3 Where is Sandra? \\toffice\\t2\\n', b'4 Daniel went to the garden.\\n', b'5 John journeyed to the garden.\\n', b'6 Where is John? \\tgarden\\t5\\n', b'7 Sandra moved to the kitchen.\\n', b'8 John went back to the office.\\n', b'9 Where is Daniel? \\tgarden\\t4\\n', b'10 Mary moved to the bedroom.\\n', b'11 Sandra travelled to the garden.\\n', b'12 Where is Sandra? \\tgarden\\t11\\n', b'13 Sandra moved to the bathroom.\\n', b'14 Mary journeyed to the garden.\\n', b'15 Where is Sandra? \\tbathroom\\t13\\n', b'1 Mary journeyed to the hallway.\\n', b'2 Sandra journeyed to the garden.\\n', b'3 Where is Sandra? \\tgarden\\t2\\n', b'4 John went back to the bedroom.\\n', b'5 Sandra went back to the office.\\n', b'6 Where is Mary? \\thallway\\t1\\n', b'7 Sandra travelled to the bathroom.\\n', b'8 John journeyed to the kitchen.\\n', b'9 Where is Sandra? \\tbathroom\\t7\\n', b'10 Sandra moved to the garden.\\n', b'11 Mary went to the bedroom.\\n', b'12 Where is Sandra? \\tgarden\\t10\\n', b'13 Daniel journeyed to the garden.\\n', b'14 Sandra journeyed to the bedroom.\\n', b'15 Where is John? \\tkitchen\\t8\\n', b'1 Daniel moved to the kitchen.\\n', b'2 Sandra travelled to the bathroom.\\n', b'3 Where is Sandra? \\tbathroom\\t2\\n', b'4 Sandra travelled to the office.\\n', b'5 Daniel journeyed to the office.\\n', b'6 Where is Sandra? \\toffice\\t4\\n', b'7 Sandra went back to the bedroom.\\n', b'8 John moved to the kitchen.\\n', b'9 Where is John? \\tkitchen\\t8\\n', b'10 Sandra travelled to the bathroom.\\n', b'11 John moved to the bathroom.\\n', b'12 Where is Sandra? \\tbathroom\\t10\\n', b'13 Mary moved to the garden.\\n', b'14 Daniel journeyed to the bathroom.\\n', b'15 Where is John? \\tbathroom\\t11\\n', b'1 Mary journeyed to the garden.\\n', b'2 Mary travelled to the office.\\n', b'3 Where is Mary? \\toffice\\t2\\n', b'4 Mary went to the hallway.\\n', b'5 John journeyed to the hallway.\\n', b'6 Where is Mary? \\thallway\\t4\\n', b'7 John moved to the bathroom.\\n', b'8 Sandra went to the office.\\n', b'9 Where is Mary? \\thallway\\t4\\n', b'10 Daniel travelled to the kitchen.\\n', b'11 Mary travelled to the bathroom.\\n', b'12 Where is Sandra? \\toffice\\t8\\n', b'13 Daniel travelled to the hallway.\\n', b'14 Sandra went to the bedroom.\\n', b'15 Where is Sandra? \\tbedroom\\t14\\n', b'1 Daniel went to the bedroom.\\n', b'2 Sandra went to the kitchen.\\n', b'3 Where is Sandra? \\tkitchen\\t2\\n', b'4 Daniel moved to the kitchen.\\n', b'5 John went back to the bedroom.\\n', b'6 Where is Sandra? \\tkitchen\\t2\\n', b'7 Daniel journeyed to the bedroom.\\n', b'8 Daniel travelled to the kitchen.\\n', b'9 Where is Daniel? \\tkitchen\\t8\\n', b'10 Sandra went back to the bathroom.\\n', b'11 Sandra went to the kitchen.\\n', b'12 Where is Sandra? \\tkitchen\\t11\\n', b'13 John travelled to the garden.\\n', b'14 Sandra travelled to the office.\\n', b'15 Where is Daniel? \\tkitchen\\t8\\n', b'1 Mary travelled to the bedroom.\\n', b'2 Daniel went back to the garden.\\n', b'3 Where is Daniel? \\tgarden\\t2\\n', b'4 Sandra moved to the garden.\\n', b'5 Daniel went back to the bathroom.\\n', b'6 Where is Sandra? \\tgarden\\t4\\n', b'7 John moved to the office.\\n', b'8 Sandra travelled to the office.\\n', b'9 Where is Daniel? \\tbathroom\\t5\\n', b'10 Daniel went back to the office.\\n', b'11 Mary moved to the office.\\n', b'12 Where is Daniel? \\toffice\\t10\\n', b'13 John travelled to the hallway.\\n', b'14 John travelled to the bedroom.\\n', b'15 Where is John? \\tbedroom\\t14\\n', b'1 Mary moved to the bathroom.\\n', b'2 Daniel journeyed to the bedroom.\\n', b'3 Where is Mary? \\tbathroom\\t1\\n', b'4 Daniel went to the garden.\\n', b'5 John went to the bedroom.\\n', b'6 Where is Daniel? \\tgarden\\t4\\n', b'7 Sandra journeyed to the office.\\n', b'8 Sandra went to the bathroom.\\n', b'9 Where is John? \\tbedroom\\t5\\n', b'10 Sandra went to the bedroom.\\n', b'11 John went back to the office.\\n', b'12 Where is John? \\toffice\\t11\\n', b'13 Mary went back to the office.\\n', b'14 Mary journeyed to the hallway.\\n', b'15 Where is Mary? \\thallway\\t14\\n', b'1 Daniel moved to the bedroom.\\n', b'2 Sandra journeyed to the hallway.\\n', b'3 Where is Daniel? \\tbedroom\\t1\\n', b'4 Mary journeyed to the kitchen.\\n', b'5 Mary went back to the bathroom.\\n', b'6 Where is Daniel? \\tbedroom\\t1\\n', b'7 Mary journeyed to the hallway.\\n', b'8 Mary went to the bedroom.\\n', b'9 Where is Mary? \\tbedroom\\t8\\n', b'10 Mary moved to the garden.\\n', b'11 Sandra travelled to the office.\\n', b'12 Where is Mary? \\tgarden\\t10\\n', b'13 Daniel travelled to the bathroom.\\n', b'14 Sandra went back to the bathroom.\\n', b'15 Where is Daniel? \\tbathroom\\t13\\n', b'1 Mary went back to the hallway.\\n', b'2 Sandra went back to the garden.\\n', b'3 Where is Sandra? \\tgarden\\t2\\n', b'4 Mary went to the office.\\n', b'5 Daniel travelled to the garden.\\n', b'6 Where is Sandra? \\tgarden\\t2\\n', b'7 Mary went to the bedroom.\\n', b'8 Sandra went back to the kitchen.\\n', b'9 Where is Daniel? \\tgarden\\t5\\n', b'10 Daniel went to the kitchen.\\n', b'11 John moved to the hallway.\\n', b'12 Where is Daniel? \\tkitchen\\t10\\n', b'13 Mary went back to the kitchen.\\n', b'14 Mary moved to the bedroom.\\n', b'15 Where is Mary? \\tbedroom\\t14\\n', b'1 Daniel journeyed to the kitchen.\\n', b'2 Daniel journeyed to the office.\\n', b'3 Where is Daniel? \\toffice\\t2\\n', b'4 Mary travelled to the hallway.\\n', b'5 John moved to the garden.\\n', b'6 Where is Daniel? \\toffice\\t2\\n', b'7 Mary travelled to the office.\\n', b'8 Mary travelled to the garden.\\n', b'9 Where is John? \\tgarden\\t5\\n', b'10 John travelled to the hallway.\\n', b'11 Sandra went back to the bathroom.\\n', b'12 Where is Sandra? \\tbathroom\\t11\\n', b'13 Mary moved to the hallway.\\n', b'14 Daniel moved to the bedroom.\\n', b'15 Where is Sandra? \\tbathroom\\t11\\n', b'1 Sandra went to the kitchen.\\n', b'2 Sandra went to the office.\\n', b'3 Where is Sandra? \\toffice\\t2\\n', b'4 Sandra travelled to the hallway.\\n', b'5 Sandra went back to the kitchen.\\n', b'6 Where is Sandra? \\tkitchen\\t5\\n', b'7 Mary travelled to the hallway.\\n', b'8 Sandra went to the bedroom.\\n', b'9 Where is Sandra? \\tbedroom\\t8\\n', b'10 John went to the garden.\\n', b'11 Sandra travelled to the office.\\n', b'12 Where is Sandra? \\toffice\\t11\\n', b'13 John journeyed to the office.\\n', b'14 Daniel journeyed to the kitchen.\\n', b'15 Where is Sandra? \\toffice\\t11\\n', b'1 Mary travelled to the office.\\n', b'2 Mary went back to the hallway.\\n', b'3 Where is Mary? \\thallway\\t2\\n', b'4 John travelled to the hallway.\\n', b'5 Daniel went back to the office.\\n', b'6 Where is Mary? \\thallway\\t2\\n', b'7 John went to the office.\\n', b'8 Daniel journeyed to the hallway.\\n', b'9 Where is Daniel? \\thallway\\t8\\n', b'10 Mary moved to the office.\\n', b'11 Mary moved to the hallway.\\n', b'12 Where is Mary? \\thallway\\t11\\n', b'13 John travelled to the kitchen.\\n', b'14 Sandra went to the bedroom.\\n', b'15 Where is Sandra? \\tbedroom\\t14\\n', b'1 Mary went back to the kitchen.\\n', b'2 John went to the bathroom.\\n', b'3 Where is John? \\tbathroom\\t2\\n', b'4 Daniel travelled to the office.\\n', b'5 Sandra journeyed to the bathroom.\\n', b'6 Where is Daniel? \\toffice\\t4\\n', b'7 Daniel went to the bedroom.\\n', b'8 Mary moved to the garden.\\n', b'9 Where is Mary? \\tgarden\\t8\\n', b'10 Mary went to the bathroom.\\n', b'11 Sandra journeyed to the kitchen.\\n', b'12 Where is Sandra? \\tkitchen\\t11\\n', b'13 Sandra went back to the office.\\n', b'14 John travelled to the hallway.\\n', b'15 Where is Sandra? \\toffice\\t13\\n', b'1 Sandra travelled to the hallway.\\n', b'2 Mary went back to the hallway.\\n', b'3 Where is Mary? \\thallway\\t2\\n', b'4 Mary moved to the office.\\n', b'5 Sandra journeyed to the kitchen.\\n', b'6 Where is Sandra? \\tkitchen\\t5\\n', b'7 John journeyed to the bathroom.\\n', b'8 Sandra went to the garden.\\n', b'9 Where is Sandra? \\tgarden\\t8\\n', b'10 Sandra journeyed to the hallway.\\n', b'11 John moved to the bedroom.\\n', b'12 Where is Sandra? \\thallway\\t10\\n', b'13 John travelled to the hallway.\\n', b'14 John journeyed to the office.\\n', b'15 Where is Sandra? \\thallway\\t10\\n', b'1 John went to the office.\\n', b'2 Mary travelled to the garden.\\n', b'3 Where is Mary? \\tgarden\\t2\\n', b'4 Daniel journeyed to the kitchen.\\n', b'5 Mary went back to the bedroom.\\n', b'6 Where is John? \\toffice\\t1\\n', b'7 Mary travelled to the office.\\n', b'8 John travelled to the bathroom.\\n', b'9 Where is Daniel? \\tkitchen\\t4\\n', b'10 Mary went to the bathroom.\\n', b'11 John travelled to the kitchen.\\n', b'12 Where is Mary? \\tbathroom\\t10\\n', b'13 John went back to the bathroom.\\n', b'14 John went back to the bedroom.\\n', b'15 Where is John? \\tbedroom\\t14\\n', b'1 Mary moved to the hallway.\\n', b'2 Daniel travelled to the office.\\n', b'3 Where is Mary? \\thallway\\t1\\n', b'4 John went back to the hallway.\\n', b'5 John moved to the office.\\n', b'6 Where is John? \\toffice\\t5\\n', b'7 Sandra journeyed to the kitchen.\\n', b'8 Mary moved to the bedroom.\\n', b'9 Where is Daniel? \\toffice\\t2\\n', b'10 John went back to the kitchen.\\n', b'11 Sandra went to the bedroom.\\n', b'12 Where is Sandra? \\tbedroom\\t11\\n', b'13 Sandra travelled to the hallway.\\n', b'14 Daniel went to the bedroom.\\n', b'15 Where is Sandra? \\thallway\\t13\\n', b'1 Mary moved to the hallway.\\n', b'2 Sandra travelled to the bathroom.\\n', b'3 Where is Sandra? \\tbathroom\\t2\\n', b'4 Mary travelled to the kitchen.\\n', b'5 Sandra went to the garden.\\n', b'6 Where is Mary? \\tkitchen\\t4\\n', b'7 Sandra travelled to the hallway.\\n', b'8 John went to the hallway.\\n', b'9 Where is Sandra? \\thallway\\t7\\n', b'10 Daniel went to the bathroom.\\n', b'11 Sandra journeyed to the bedroom.\\n', b'12 Where is Daniel? \\tbathroom\\t10\\n', b'13 Mary moved to the garden.\\n', b'14 Sandra went to the kitchen.\\n', b'15 Where is John? \\thallway\\t8\\n', b'1 John moved to the bathroom.\\n', b'2 Sandra moved to the garden.\\n', b'3 Where is John? \\tbathroom\\t1\\n', b'4 John went back to the office.\\n', b'5 John travelled to the bedroom.\\n', b'6 Where is John? \\tbedroom\\t5\\n', b'7 Daniel moved to the hallway.\\n', b'8 Sandra moved to the bathroom.\\n', b'9 Where is Daniel? \\thallway\\t7\\n', b'10 Mary went back to the bedroom.\\n', b'11 Daniel went back to the bathroom.\\n', b'12 Where is Mary? \\tbedroom\\t10\\n', b'13 Mary went to the kitchen.\\n', b'14 Mary went to the bedroom.\\n', b'15 Where is Sandra? \\tbathroom\\t8\\n', b'1 Mary travelled to the bedroom.\\n', b'2 John went back to the hallway.\\n', b'3 Where is Mary? \\tbedroom\\t1\\n', b'4 John moved to the bathroom.\\n', b'5 Sandra journeyed to the garden.\\n', b'6 Where is John? \\tbathroom\\t4\\n', b'7 Daniel moved to the kitchen.\\n', b'8 John went to the hallway.\\n', b'9 Where is John? \\thallway\\t8\\n', b'10 Sandra moved to the hallway.\\n', b'11 John journeyed to the bathroom.\\n', b'12 Where is Sandra? \\thallway\\t10\\n', b'13 Daniel went back to the garden.\\n', b'14 Mary went to the garden.\\n', b'15 Where is John? \\tbathroom\\t11\\n', b'1 Mary travelled to the bathroom.\\n', b'2 Daniel went back to the hallway.\\n', b'3 Where is Mary? \\tbathroom\\t1\\n', b'4 Sandra went back to the office.\\n', b'5 Sandra went back to the hallway.\\n', b'6 Where is Daniel? \\thallway\\t2\\n', b'7 John went back to the bathroom.\\n', b'8 Daniel went to the kitchen.\\n', b'9 Where is Daniel? \\tkitchen\\t8\\n', b'10 John moved to the kitchen.\\n', b'11 Daniel went to the bedroom.\\n', b'12 Where is Sandra? \\thallway\\t5\\n', b'13 Sandra journeyed to the kitchen.\\n', b'14 John moved to the bedroom.\\n', b'15 Where is John? \\tbedroom\\t14\\n', b'1 Daniel travelled to the hallway.\\n', b'2 John moved to the office.\\n', b'3 Where is John? \\toffice\\t2\\n', b'4 John went to the bathroom.\\n', b'5 John travelled to the office.\\n', b'6 Where is Daniel? \\thallway\\t1\\n', b'7 Daniel moved to the bathroom.\\n', b'8 Sandra moved to the garden.\\n', b'9 Where is Sandra? \\tgarden\\t8\\n', b'10 John travelled to the kitchen.\\n', b'11 John went back to the bathroom.\\n', b'12 Where is John? \\tbathroom\\t11\\n', b'13 Sandra travelled to the office.\\n', b'14 Mary travelled to the office.\\n', b'15 Where is John? \\tbathroom\\t11\\n', b'1 Sandra travelled to the bathroom.\\n', b'2 Daniel went to the office.\\n', b'3 Where is Daniel? \\toffice\\t2\\n', b'4 Mary went back to the garden.\\n', b'5 John went back to the kitchen.\\n', b'6 Where is Mary? \\tgarden\\t4\\n', b'7 Daniel moved to the hallway.\\n', b'8 Sandra moved to the garden.\\n', b'9 Where is Daniel? \\thallway\\t7\\n', b'10 John went back to the hallway.\\n', b'11 Daniel went back to the office.\\n', b'12 Where is Daniel? \\toffice\\t11\\n', b'13 Mary moved to the hallway.\\n', b'14 Mary moved to the bathroom.\\n', b'15 Where is John? \\thallway\\t10\\n', b'1 Daniel went to the garden.\\n', b'2 Mary moved to the bedroom.\\n', b'3 Where is Mary? \\tbedroom\\t2\\n', b'4 Daniel journeyed to the bathroom.\\n', b'5 Sandra journeyed to the bathroom.\\n', b'6 Where is Mary? \\tbedroom\\t2\\n', b'7 Daniel moved to the hallway.\\n', b'8 Sandra journeyed to the kitchen.\\n', b'9 Where is Mary? \\tbedroom\\t2\\n', b'10 Sandra moved to the office.\\n', b'11 Daniel travelled to the bedroom.\\n', b'12 Where is Daniel? \\tbedroom\\t11\\n', b'13 Mary went back to the office.\\n', b'14 Daniel went back to the kitchen.\\n', b'15 Where is Sandra? \\toffice\\t10\\n', b'1 Mary went back to the hallway.\\n', b'2 Daniel went to the hallway.\\n', b'3 Where is Daniel? \\thallway\\t2\\n', b'4 John travelled to the bathroom.\\n', b'5 Mary moved to the kitchen.\\n', b'6 Where is Mary? \\tkitchen\\t5\\n', b'7 Sandra journeyed to the kitchen.\\n', b'8 Mary journeyed to the garden.\\n', b'9 Where is Mary? \\tgarden\\t8\\n', b'10 Daniel went back to the bedroom.\\n', b'11 John went back to the hallway.\\n', b'12 Where is Mary? \\tgarden\\t8\\n', b'13 Mary moved to the office.\\n', b'14 Mary went back to the kitchen.\\n', b'15 Where is Mary? \\tkitchen\\t14\\n', b'1 Daniel travelled to the kitchen.\\n', b'2 John journeyed to the kitchen.\\n', b'3 Where is John? \\tkitchen\\t2\\n', b'4 Sandra moved to the kitchen.\\n', b'5 Sandra went to the garden.\\n', b'6 Where is Sandra? \\tgarden\\t5\\n', b'7 John travelled to the office.\\n', b'8 Daniel went to the bathroom.\\n', b'9 Where is Sandra? \\tgarden\\t5\\n', b'10 Mary went back to the kitchen.\\n', b'11 Daniel moved to the kitchen.\\n', b'12 Where is Sandra? \\tgarden\\t5\\n', b'13 Mary journeyed to the bathroom.\\n', b'14 Daniel moved to the garden.\\n', b'15 Where is Daniel? \\tgarden\\t14\\n', b'1 Mary went back to the office.\\n', b'2 Daniel went to the bedroom.\\n', b'3 Where is Daniel? \\tbedroom\\t2\\n', b'4 Sandra moved to the bedroom.\\n', b'5 Daniel travelled to the kitchen.\\n', b'6 Where is Mary? \\toffice\\t1\\n', b'7 Daniel travelled to the garden.\\n', b'8 Daniel moved to the bathroom.\\n', b'9 Where is Daniel? \\tbathroom\\t8\\n', b'10 Sandra journeyed to the garden.\\n', b'11 John went to the bedroom.\\n', b'12 Where is Daniel? \\tbathroom\\t8\\n', b'13 John went back to the office.\\n', b'14 John journeyed to the bedroom.\\n', b'15 Where is John? \\tbedroom\\t14\\n', b'1 Sandra moved to the garden.\\n', b'2 John journeyed to the bedroom.\\n', b'3 Where is John? \\tbedroom\\t2\\n', b'4 Mary went back to the bedroom.\\n', b'5 Sandra travelled to the office.\\n', b'6 Where is Sandra? \\toffice\\t5\\n', b'7 John travelled to the bathroom.\\n', b'8 Mary travelled to the garden.\\n', b'9 Where is Sandra? \\toffice\\t5\\n', b'10 Mary moved to the kitchen.\\n', b'11 Sandra went back to the garden.\\n', b'12 Where is Mary? \\tkitchen\\t10\\n', b'13 Mary journeyed to the hallway.\\n', b'14 Mary went to the garden.\\n', b'15 Where is Mary? \\tgarden\\t14\\n', b'1 Mary went back to the bedroom.\\n', b'2 Sandra moved to the garden.\\n', b'3 Where is Sandra? \\tgarden\\t2\\n', b'4 Daniel journeyed to the bathroom.\\n', b'5 Mary travelled to the office.\\n', b'6 Where is Mary? \\toffice\\t5\\n', b'7 Daniel went to the hallway.\\n', b'8 Sandra travelled to the hallway.\\n', b'9 Where is Sandra? \\thallway\\t8\\n', b'10 John journeyed to the garden.\\n', b'11 John journeyed to the office.\\n', b'12 Where is John? \\toffice\\t11\\n', b'13 Daniel moved to the garden.\\n', b'14 Mary travelled to the bathroom.\\n', b'15 Where is John? \\toffice\\t11\\n', b'1 Sandra journeyed to the bathroom.\\n', b'2 John moved to the garden.\\n', b'3 Where is Sandra? \\tbathroom\\t1\\n', b'4 Sandra went back to the garden.\\n', b'5 Daniel moved to the kitchen.\\n', b'6 Where is Sandra? \\tgarden\\t4\\n', b'7 Sandra travelled to the bedroom.\\n', b'8 John went to the bathroom.\\n', b'9 Where is Sandra? \\tbedroom\\t7\\n', b'10 Daniel went back to the bathroom.\\n', b'11 Mary journeyed to the bedroom.\\n', b'12 Where is John? \\tbathroom\\t8\\n', b'13 Daniel went to the garden.\\n', b'14 Daniel journeyed to the bedroom.\\n', b'15 Where is Daniel? \\tbedroom\\t14\\n', b'1 John went to the bathroom.\\n', b'2 Daniel moved to the kitchen.\\n', b'3 Where is Daniel? \\tkitchen\\t2\\n', b'4 Sandra travelled to the office.\\n', b'5 Daniel went to the office.\\n', b'6 Where is Sandra? \\toffice\\t4\\n', b'7 John moved to the office.\\n', b'8 Daniel journeyed to the garden.\\n', b'9 Where is Sandra? \\toffice\\t4\\n', b'10 Sandra went back to the bedroom.\\n', b'11 Daniel went back to the kitchen.\\n', b'12 Where is Daniel? \\tkitchen\\t11\\n', b'13 Daniel went back to the bathroom.\\n', b'14 Mary went back to the garden.\\n', b'15 Where is Daniel? \\tbathroom\\t13\\n', b'1 Sandra moved to the office.\\n', b'2 Daniel moved to the kitchen.\\n', b'3 Where is Sandra? \\toffice\\t1\\n', b'4 Mary moved to the garden.\\n', b'5 Mary journeyed to the kitchen.\\n', b'6 Where is Daniel? \\tkitchen\\t2\\n', b'7 Mary moved to the hallway.\\n', b'8 John went to the bedroom.\\n', b'9 Where is Mary? \\thallway\\t7\\n', b'10 John moved to the office.\\n', b'11 Daniel went back to the hallway.\\n', b'12 Where is John? \\toffice\\t10\\n', b'13 Daniel journeyed to the garden.\\n', b'14 John travelled to the bathroom.\\n', b'15 Where is John? \\tbathroom\\t14\\n', b'1 Sandra journeyed to the office.\\n', b'2 Sandra travelled to the bathroom.\\n', b'3 Where is Sandra? \\tbathroom\\t2\\n', b'4 Daniel moved to the bedroom.\\n', b'5 Daniel went to the garden.\\n', b'6 Where is Daniel? \\tgarden\\t5\\n', b'7 Mary journeyed to the hallway.\\n', b'8 Sandra went to the office.\\n', b'9 Where is Sandra? \\toffice\\t8\\n', b'10 Daniel went back to the bathroom.\\n', b'11 Mary travelled to the kitchen.\\n', b'12 Where is Sandra? \\toffice\\t8\\n', b'13 Daniel went back to the garden.\\n', b'14 John journeyed to the garden.\\n', b'15 Where is John? \\tgarden\\t14\\n', b'1 Sandra went to the bedroom.\\n', b'2 John went back to the office.\\n', b'3 Where is John? \\toffice\\t2\\n', b'4 Sandra moved to the bathroom.\\n', b'5 Mary went to the garden.\\n', b'6 Where is Sandra? \\tbathroom\\t4\\n', b'7 Daniel travelled to the bedroom.\\n', b'8 Sandra moved to the hallway.\\n', b'9 Where is John? \\toffice\\t2\\n', b'10 John travelled to the kitchen.\\n', b'11 Daniel moved to the garden.\\n', b'12 Where is Daniel? \\tgarden\\t11\\n', b'13 Sandra journeyed to the bathroom.\\n', b'14 Mary journeyed to the bathroom.\\n', b'15 Where is Sandra? \\tbathroom\\t13\\n', b'1 John travelled to the kitchen.\\n', b'2 Mary travelled to the kitchen.\\n', b'3 Where is Mary? \\tkitchen\\t2\\n', b'4 Mary went back to the bathroom.\\n', b'5 Sandra travelled to the hallway.\\n', b'6 Where is John? \\tkitchen\\t1\\n', b'7 Mary went to the garden.\\n', b'8 John travelled to the bedroom.\\n', b'9 Where is John? \\tbedroom\\t8\\n', b'10 John travelled to the office.\\n', b'11 Mary travelled to the kitchen.\\n', b'12 Where is Mary? \\tkitchen\\t11\\n', b'13 Daniel moved to the kitchen.\\n', b'14 John went to the kitchen.\\n', b'15 Where is John? \\tkitchen\\t14\\n', b'1 Sandra went to the garden.\\n', b'2 Daniel went to the garden.\\n', b'3 Where is Sandra? \\tgarden\\t1\\n', b'4 Sandra journeyed to the kitchen.\\n', b'5 John journeyed to the hallway.\\n', b'6 Where is Daniel? \\tgarden\\t2\\n', b'7 Mary moved to the bathroom.\\n', b'8 Mary journeyed to the garden.\\n', b'9 Where is John? \\thallway\\t5\\n', b'10 Mary moved to the hallway.\\n', b'11 Sandra went back to the hallway.\\n', b'12 Where is Mary? \\thallway\\t10\\n', b'13 Mary went back to the bathroom.\\n', b'14 Daniel travelled to the bedroom.\\n', b'15 Where is Mary? \\tbathroom\\t13\\n', b'1 Sandra went to the bathroom.\\n', b'2 Mary journeyed to the bathroom.\\n', b'3 Where is Mary? \\tbathroom\\t2\\n', b'4 Sandra went back to the kitchen.\\n', b'5 Daniel went back to the hallway.\\n', b'6 Where is Mary? \\tbathroom\\t2\\n', b'7 John moved to the garden.\\n', b'8 Daniel went to the office.\\n', b'9 Where is Mary? \\tbathroom\\t2\\n', b'10 Mary moved to the hallway.\\n', b'11 John travelled to the office.\\n', b'12 Where is John? \\toffice\\t11\\n', b'13 Daniel journeyed to the kitchen.\\n', b'14 Sandra went to the office.\\n', b'15 Where is Mary? \\thallway\\t10\\n', b'1 Daniel went to the bathroom.\\n', b'2 Daniel moved to the garden.\\n', b'3 Where is Daniel? \\tgarden\\t2\\n', b'4 Daniel travelled to the bedroom.\\n', b'5 Daniel journeyed to the bathroom.\\n', b'6 Where is Daniel? \\tbathroom\\t5\\n', b'7 Daniel journeyed to the office.\\n', b'8 John journeyed to the bathroom.\\n', b'9 Where is Daniel? \\toffice\\t7\\n', b'10 John went to the garden.\\n', b'11 Sandra travelled to the bathroom.\\n', b'12 Where is Daniel? \\toffice\\t7\\n', b'13 Mary went to the office.\\n', b'14 John went back to the kitchen.\\n', b'15 Where is John? \\tkitchen\\t14\\n', b'1 Sandra journeyed to the garden.\\n', b'2 Daniel journeyed to the garden.\\n', b'3 Where is Daniel? \\tgarden\\t2\\n', b'4 John journeyed to the bedroom.\\n', b'5 Daniel journeyed to the office.\\n', b'6 Where is Sandra? \\tgarden\\t1\\n', b'7 Mary journeyed to the garden.\\n', b'8 Sandra travelled to the hallway.\\n', b'9 Where is Daniel? \\toffice\\t5\\n', b'10 John travelled to the garden.\\n', b'11 Sandra travelled to the bedroom.\\n', b'12 Where is Sandra? \\tbedroom\\t11\\n', b'13 Mary moved to the hallway.\\n', b'14 Mary went back to the kitchen.\\n', b'15 Where is John? \\tgarden\\t10\\n', b'1 John travelled to the garden.\\n', b'2 Mary went back to the office.\\n', b'3 Where is Mary? \\toffice\\t2\\n', b'4 Sandra went back to the hallway.\\n', b'5 Daniel travelled to the bedroom.\\n', b'6 Where is Daniel? \\tbedroom\\t5\\n', b'7 Mary went back to the kitchen.\\n', b'8 Mary went to the office.\\n', b'9 Where is Mary? \\toffice\\t8\\n', b'10 John went back to the bedroom.\\n', b'11 Daniel went back to the kitchen.\\n', b'12 Where is Mary? \\toffice\\t8\\n', b'13 Daniel went to the garden.\\n', b'14 John moved to the kitchen.\\n', b'15 Where is Daniel? \\tgarden\\t13\\n', b'1 Sandra moved to the garden.\\n', b'2 John went to the garden.\\n', b'3 Where is John? \\tgarden\\t2\\n', b'4 Sandra went to the bathroom.\\n', b'5 Sandra went to the kitchen.\\n', b'6 Where is Sandra? \\tkitchen\\t5\\n', b'7 Daniel moved to the kitchen.\\n', b'8 Mary journeyed to the kitchen.\\n', b'9 Where is Sandra? \\tkitchen\\t5\\n', b'10 Daniel journeyed to the office.\\n', b'11 Daniel went to the garden.\\n', b'12 Where is Daniel? \\tgarden\\t11\\n', b'13 John moved to the bedroom.\\n', b'14 Mary went back to the office.\\n', b'15 Where is Daniel? \\tgarden\\t11\\n', b'1 Daniel travelled to the bedroom.\\n', b'2 Sandra moved to the bathroom.\\n', b'3 Where is Sandra? \\tbathroom\\t2\\n', b'4 John went back to the bedroom.\\n', b'5 Sandra travelled to the kitchen.\\n', b'6 Where is John? \\tbedroom\\t4\\n', b'7 Sandra went back to the office.\\n', b'8 Sandra moved to the garden.\\n', b'9 Where is Sandra? \\tgarden\\t8\\n', b'10 Daniel went to the kitchen.\\n', b'11 John travelled to the bathroom.\\n', b'12 Where is Sandra? \\tgarden\\t8\\n', b'13 Daniel went to the bedroom.\\n', b'14 Mary went back to the office.\\n', b'15 Where is Daniel? \\tbedroom\\t13\\n', b'1 Daniel journeyed to the hallway.\\n', b'2 Sandra went to the kitchen.\\n', b'3 Where is Sandra? \\tkitchen\\t2\\n', b'4 John travelled to the kitchen.\\n', b'5 John went back to the office.\\n', b'6 Where is John? \\toffice\\t5\\n', b'7 Mary moved to the bathroom.\\n', b'8 Daniel travelled to the office.\\n', b'9 Where is Sandra? \\tkitchen\\t2\\n', b'10 Daniel went back to the bedroom.\\n', b'11 Sandra went to the office.\\n', b'12 Where is Daniel? \\tbedroom\\t10\\n', b'13 Sandra went back to the garden.\\n', b'14 Mary moved to the kitchen.\\n', b'15 Where is Daniel? \\tbedroom\\t10\\n', b'1 John journeyed to the office.\\n', b'2 Sandra travelled to the garden.\\n', b'3 Where is John? \\toffice\\t1\\n', b'4 Sandra moved to the office.\\n', b'5 Daniel travelled to the hallway.\\n', b'6 Where is Daniel? \\thallway\\t5\\n', b'7 John travelled to the bathroom.\\n', b'8 Daniel journeyed to the garden.\\n', b'9 Where is Sandra? \\toffice\\t4\\n', b'10 Sandra journeyed to the kitchen.\\n', b'11 Sandra went back to the hallway.\\n', b'12 Where is Sandra? \\thallway\\t11\\n', b'13 Mary journeyed to the bedroom.\\n', b'14 Mary went back to the office.\\n', b'15 Where is Sandra? \\thallway\\t11\\n', b'1 Mary moved to the bathroom.\\n', b'2 Mary went to the hallway.\\n', b'3 Where is Mary? \\thallway\\t2\\n', b'4 Daniel travelled to the bedroom.\\n', b'5 Mary journeyed to the garden.\\n', b'6 Where is Mary? \\tgarden\\t5\\n', b'7 John travelled to the office.\\n', b'8 Daniel travelled to the office.\\n', b'9 Where is Daniel? \\toffice\\t8\\n', b'10 Mary went to the bedroom.\\n', b'11 Sandra went back to the kitchen.\\n', b'12 Where is Sandra? \\tkitchen\\t11\\n', b'13 Sandra journeyed to the bedroom.\\n', b'14 Sandra went to the garden.\\n', b'15 Where is Sandra? \\tgarden\\t14\\n', b'1 Daniel went back to the hallway.\\n', b'2 Mary went back to the office.\\n', b'3 Where is Mary? \\toffice\\t2\\n', b'4 Mary went to the garden.\\n', b'5 Mary went back to the kitchen.\\n', b'6 Where is Daniel? \\thallway\\t1\\n', b'7 Sandra moved to the bedroom.\\n', b'8 John travelled to the hallway.\\n', b'9 Where is John? \\thallway\\t8\\n', b'10 Sandra went back to the garden.\\n', b'11 John journeyed to the kitchen.\\n', b'12 Where is Mary? \\tkitchen\\t5\\n', b'13 John journeyed to the bathroom.\\n', b'14 John moved to the kitchen.\\n', b'15 Where is John? \\tkitchen\\t14\\n', b'1 Sandra travelled to the bedroom.\\n', b'2 John travelled to the garden.\\n', b'3 Where is Sandra? \\tbedroom\\t1\\n', b'4 Mary went to the hallway.\\n', b'5 Mary went back to the bedroom.\\n', b'6 Where is John? \\tgarden\\t2\\n', b'7 Sandra went to the kitchen.\\n', b'8 Sandra journeyed to the garden.\\n', b'9 Where is Sandra? \\tgarden\\t8\\n', b'10 Daniel journeyed to the office.\\n', b'11 Sandra moved to the bedroom.\\n', b'12 Where is Sandra? \\tbedroom\\t11\\n', b'13 Mary moved to the kitchen.\\n', b'14 Mary went to the bathroom.\\n', b'15 Where is Sandra? \\tbedroom\\t11\\n', b'1 Sandra travelled to the bathroom.\\n', b'2 Mary journeyed to the office.\\n', b'3 Where is Sandra? \\tbathroom\\t1\\n', b'4 Sandra travelled to the kitchen.\\n', b'5 John moved to the office.\\n', b'6 Where is John? \\toffice\\t5\\n', b'7 Mary went to the hallway.\\n', b'8 John went back to the hallway.\\n', b'9 Where is Mary? \\thallway\\t7\\n', b'10 John moved to the bedroom.\\n', b'11 Mary moved to the garden.\\n', b'12 Where is Mary? \\tgarden\\t11\\n', b'13 John journeyed to the bathroom.\\n', b'14 Mary went back to the hallway.\\n', b'15 Where is Mary? \\thallway\\t14\\n', b'1 Daniel went back to the kitchen.\\n', b'2 Daniel travelled to the garden.\\n', b'3 Where is Daniel? \\tgarden\\t2\\n', b'4 Daniel travelled to the bathroom.\\n', b'5 Mary went back to the bathroom.\\n', b'6 Where is Daniel? \\tbathroom\\t4\\n', b'7 Mary travelled to the garden.\\n', b'8 John went back to the garden.\\n', b'9 Where is Mary? \\tgarden\\t7\\n', b'10 Daniel went to the office.\\n', b'11 Daniel moved to the garden.\\n', b'12 Where is John? \\tgarden\\t8\\n', b'13 Sandra travelled to the bathroom.\\n', b'14 John moved to the bedroom.\\n', b'15 Where is Daniel? \\tgarden\\t11\\n', b'1 Sandra travelled to the hallway.\\n', b'2 Sandra went to the garden.\\n', b'3 Where is Sandra? \\tgarden\\t2\\n', b'4 Mary moved to the bedroom.\\n', b'5 Daniel went to the kitchen.\\n', b'6 Where is Sandra? \\tgarden\\t2\\n', b'7 John travelled to the hallway.\\n', b'8 Daniel went back to the hallway.\\n', b'9 Where is Daniel? \\thallway\\t8\\n', b'10 Mary travelled to the hallway.\\n', b'11 John went to the office.\\n', b'12 Where is Mary? \\thallway\\t10\\n', b'13 John travelled to the garden.\\n', b'14 Sandra went to the kitchen.\\n', b'15 Where is Daniel? \\thallway\\t8\\n', b'1 Daniel travelled to the office.\\n', b'2 Daniel journeyed to the hallway.\\n', b'3 Where is Daniel? \\thallway\\t2\\n', b'4 Sandra travelled to the bathroom.\\n', b'5 Sandra moved to the hallway.\\n', b'6 Where is Daniel? \\thallway\\t2\\n', b'7 Mary went to the garden.\\n', b'8 Daniel moved to the bedroom.\\n', b'9 Where is Mary? \\tgarden\\t7\\n', b'10 John went to the hallway.\\n', b'11 Sandra travelled to the kitchen.\\n', b'12 Where is Mary? \\tgarden\\t7\\n', b'13 Sandra moved to the garden.\\n', b'14 Mary moved to the office.\\n', b'15 Where is Mary? \\toffice\\t14\\n', b'1 Mary journeyed to the office.\\n', b'2 Mary journeyed to the bedroom.\\n', b'3 Where is Mary? \\tbedroom\\t2\\n', b'4 Sandra went to the garden.\\n', b'5 Sandra moved to the kitchen.\\n', b'6 Where is Sandra? \\tkitchen\\t5\\n', b'7 Sandra went to the bathroom.\\n', b'8 Daniel moved to the office.\\n', b'9 Where is Sandra? \\tbathroom\\t7\\n', b'10 John went back to the office.\\n', b'11 John went to the garden.\\n', b'12 Where is Sandra? \\tbathroom\\t7\\n', b'13 John went to the bedroom.\\n', b'14 Mary moved to the garden.\\n', b'15 Where is John? \\tbedroom\\t13\\n', b'1 John travelled to the bedroom.\\n', b'2 Mary went to the bathroom.\\n', b'3 Where is Mary? \\tbathroom\\t2\\n', b'4 Mary journeyed to the bedroom.\\n', b'5 Sandra travelled to the hallway.\\n', b'6 Where is John? \\tbedroom\\t1\\n', b'7 Daniel went back to the hallway.\\n', b'8 Sandra journeyed to the office.\\n', b'9 Where is Mary? \\tbedroom\\t4\\n', b'10 John moved to the garden.\\n', b'11 Mary travelled to the office.\\n', b'12 Where is Sandra? \\toffice\\t8\\n', b'13 John travelled to the kitchen.\\n', b'14 Daniel went back to the kitchen.\\n', b'15 Where is Mary? \\toffice\\t11\\n', b'1 Sandra journeyed to the kitchen.\\n', b'2 Daniel journeyed to the bathroom.\\n', b'3 Where is Sandra? \\tkitchen\\t1\\n', b'4 Mary went to the garden.\\n', b'5 Mary travelled to the office.\\n', b'6 Where is Mary? \\toffice\\t5\\n', b'7 Sandra travelled to the bedroom.\\n', b'8 John travelled to the office.\\n', b'9 Where is John? \\toffice\\t8\\n', b'10 Sandra journeyed to the office.\\n', b'11 Sandra moved to the kitchen.\\n', b'12 Where is Mary? \\toffice\\t5\\n', b'13 Mary travelled to the bedroom.\\n', b'14 Mary moved to the hallway.\\n', b'15 Where is Sandra? \\tkitchen\\t11\\n', b'1 Daniel travelled to the garden.\\n', b'2 Mary went to the kitchen.\\n', b'3 Where is Mary? \\tkitchen\\t2\\n', b'4 John travelled to the bedroom.\\n', b'5 Daniel journeyed to the hallway.\\n', b'6 Where is Daniel? \\thallway\\t5\\n', b'7 Mary moved to the bathroom.\\n', b'8 John travelled to the garden.\\n', b'9 Where is Mary? \\tbathroom\\t7\\n', b'10 Sandra went back to the hallway.\\n', b'11 Mary travelled to the bedroom.\\n', b'12 Where is Mary? \\tbedroom\\t11\\n', b'13 Sandra journeyed to the office.\\n', b'14 Mary went back to the bathroom.\\n', b'15 Where is Sandra? \\toffice\\t13\\n', b'1 Daniel went back to the kitchen.\\n', b'2 Daniel moved to the office.\\n', b'3 Where is Daniel? \\toffice\\t2\\n', b'4 Daniel went back to the bedroom.\\n', b'5 John moved to the garden.\\n', b'6 Where is Daniel? \\tbedroom\\t4\\n', b'7 Daniel travelled to the office.\\n', b'8 Mary journeyed to the garden.\\n', b'9 Where is Daniel? \\toffice\\t7\\n', b'10 Sandra went to the bathroom.\\n', b'11 Mary moved to the bedroom.\\n', b'12 Where is Sandra? \\tbathroom\\t10\\n', b'13 Sandra moved to the garden.\\n', b'14 John travelled to the hallway.\\n', b'15 Where is Sandra? \\tgarden\\t13\\n', b'1 Sandra moved to the garden.\\n', b'2 John went to the bedroom.\\n', b'3 Where is John? \\tbedroom\\t2\\n', b'4 John moved to the bathroom.\\n', b'5 John went to the garden.\\n', b'6 Where is John? \\tgarden\\t5\\n', b'7 John journeyed to the bedroom.\\n', b'8 Sandra went to the office.\\n', b'9 Where is John? \\tbedroom\\t7\\n', b'10 Sandra went to the bathroom.\\n', b'11 Sandra moved to the kitchen.\\n', b'12 Where is Sandra? \\tkitchen\\t11\\n', b'13 Sandra went to the bedroom.\\n', b'14 Sandra went to the office.\\n', b'15 Where is Sandra? \\toffice\\t14\\n', b'1 Daniel journeyed to the kitchen.\\n', b'2 Sandra went to the bedroom.\\n', b'3 Where is Daniel? \\tkitchen\\t1\\n', b'4 Daniel went back to the hallway.\\n', b'5 Mary went back to the office.\\n', b'6 Where is Daniel? \\thallway\\t4\\n', b'7 Mary went to the garden.\\n', b'8 Daniel journeyed to the office.\\n', b'9 Where is Sandra? \\tbedroom\\t2\\n', b'10 Sandra went to the bathroom.\\n', b'11 John travelled to the bedroom.\\n', b'12 Where is Mary? \\tgarden\\t7\\n', b'13 Sandra went to the kitchen.\\n', b'14 Daniel travelled to the bedroom.\\n', b'15 Where is Sandra? \\tkitchen\\t13\\n', b'1 John went back to the bathroom.\\n', b'2 John went to the bedroom.\\n', b'3 Where is John? \\tbedroom\\t2\\n', b'4 Daniel travelled to the bedroom.\\n', b'5 Sandra journeyed to the garden.\\n', b'6 Where is Sandra? \\tgarden\\t5\\n', b'7 Daniel went back to the bathroom.\\n', b'8 Sandra journeyed to the bathroom.\\n', b'9 Where is Sandra? \\tbathroom\\t8\\n', b'10 Mary journeyed to the office.\\n', b'11 Daniel went to the hallway.\\n', b'12 Where is Daniel? \\thallway\\t11\\n', b'13 Sandra journeyed to the bedroom.\\n', b'14 Sandra travelled to the office.\\n', b'15 Where is Sandra? \\toffice\\t14\\n', b'1 Mary travelled to the hallway.\\n', b'2 Daniel journeyed to the bedroom.\\n', b'3 Where is Daniel? \\tbedroom\\t2\\n', b'4 John went back to the garden.\\n', b'5 Sandra journeyed to the bathroom.\\n', b'6 Where is Daniel? \\tbedroom\\t2\\n', b'7 John went to the kitchen.\\n', b'8 Sandra journeyed to the garden.\\n', b'9 Where is John? \\tkitchen\\t7\\n', b'10 Sandra moved to the hallway.\\n', b'11 John went back to the garden.\\n', b'12 Where is Sandra? \\thallway\\t10\\n', b'13 Sandra went to the bathroom.\\n', b'14 Mary went to the office.\\n', b'15 Where is Sandra? \\tbathroom\\t13\\n', b'1 Sandra went back to the hallway.\\n', b'2 Mary went back to the kitchen.\\n', b'3 Where is Sandra? \\thallway\\t1\\n', b'4 John journeyed to the bathroom.\\n', b'5 Daniel went back to the hallway.\\n', b'6 Where is Sandra? \\thallway\\t1\\n', b'7 Sandra moved to the office.\\n', b'8 Sandra journeyed to the bathroom.\\n', b'9 Where is Sandra? \\tbathroom\\t8\\n', b'10 Sandra journeyed to the bedroom.\\n', b'11 John went to the hallway.\\n', b'12 Where is Daniel? \\thallway\\t5\\n', b'13 Mary went to the bathroom.\\n', b'14 Mary travelled to the bedroom.\\n', b'15 Where is Mary? \\tbedroom\\t14\\n', b'1 John travelled to the kitchen.\\n', b'2 Sandra moved to the bathroom.\\n', b'3 Where is John? \\tkitchen\\t1\\n', b'4 Daniel moved to the kitchen.\\n', b'5 Sandra moved to the kitchen.\\n', b'6 Where is John? \\tkitchen\\t1\\n', b'7 Daniel went to the hallway.\\n', b'8 John went to the office.\\n', b'9 Where is John? \\toffice\\t8\\n', b'10 Sandra went back to the garden.\\n', b'11 Sandra went to the bedroom.\\n', b'12 Where is Sandra? \\tbedroom\\t11\\n', b'13 John went to the bedroom.\\n', b'14 John journeyed to the bathroom.\\n', b'15 Where is Sandra? \\tbedroom\\t11\\n', b'1 John went to the office.\\n', b'2 Sandra went to the kitchen.\\n', b'3 Where is John? \\toffice\\t1\\n', b'4 John went back to the kitchen.\\n', b'5 Mary moved to the garden.\\n', b'6 Where is John? \\tkitchen\\t4\\n', b'7 Mary went to the kitchen.\\n', b'8 Sandra moved to the bedroom.\\n', b'9 Where is Mary? \\tkitchen\\t7\\n', b'10 Sandra moved to the hallway.\\n', b'11 John went back to the hallway.\\n', b'12 Where is Mary? \\tkitchen\\t7\\n', b'13 Sandra travelled to the bedroom.\\n', b'14 Daniel moved to the office.\\n', b'15 Where is Daniel? \\toffice\\t14\\n', b'1 Mary went to the kitchen.\\n', b'2 Sandra went to the garden.\\n', b'3 Where is Sandra? \\tgarden\\t2\\n', b'4 John journeyed to the hallway.\\n', b'5 John went back to the bathroom.\\n', b'6 Where is Mary? \\tkitchen\\t1\\n', b'7 Daniel went to the garden.\\n', b'8 Daniel moved to the bedroom.\\n', b'9 Where is John? \\tbathroom\\t5\\n', b'10 Sandra went back to the bedroom.\\n', b'11 John journeyed to the garden.\\n', b'12 Where is Daniel? \\tbedroom\\t8\\n', b'13 Mary travelled to the hallway.\\n', b'14 Daniel travelled to the garden.\\n', b'15 Where is John? \\tgarden\\t11\\n', b'1 Sandra went back to the bedroom.\\n', b'2 John moved to the garden.\\n', b'3 Where is Sandra? \\tbedroom\\t1\\n', b'4 Daniel journeyed to the hallway.\\n', b'5 Sandra travelled to the hallway.\\n', b'6 Where is Daniel? \\thallway\\t4\\n', b'7 Daniel travelled to the bathroom.\\n', b'8 Mary travelled to the garden.\\n', b'9 Where is Daniel? \\tbathroom\\t7\\n', b'10 Daniel journeyed to the garden.\\n', b'11 Daniel moved to the bathroom.\\n', b'12 Where is Mary? \\tgarden\\t8\\n', b'13 Sandra went back to the garden.\\n', b'14 Daniel went to the bedroom.\\n', b'15 Where is Daniel? \\tbedroom\\t14\\n', b'1 Daniel travelled to the garden.\\n', b'2 Sandra journeyed to the bedroom.\\n', b'3 Where is Daniel? \\tgarden\\t1\\n', b'4 Daniel journeyed to the office.\\n', b'5 Daniel travelled to the bathroom.\\n', b'6 Where is Sandra? \\tbedroom\\t2\\n', b'7 Sandra travelled to the kitchen.\\n', b'8 Daniel went to the hallway.\\n', b'9 Where is Daniel? \\thallway\\t8\\n', b'10 Daniel went back to the garden.\\n', b'11 Sandra moved to the garden.\\n', b'12 Where is Daniel? \\tgarden\\t10\\n', b'13 Mary moved to the bedroom.\\n', b'14 Sandra moved to the kitchen.\\n', b'15 Where is Sandra? \\tkitchen\\t14\\n', b'1 John went back to the bathroom.\\n', b'2 John moved to the kitchen.\\n', b'3 Where is John? \\tkitchen\\t2\\n', b'4 Sandra moved to the office.\\n', b'5 Sandra travelled to the bedroom.\\n', b'6 Where is John? \\tkitchen\\t2\\n', b'7 John went to the garden.\\n', b'8 Sandra moved to the kitchen.\\n', b'9 Where is Sandra? \\tkitchen\\t8\\n', b'10 Sandra went to the garden.\\n', b'11 Daniel went to the kitchen.\\n', b'12 Where is Sandra? \\tgarden\\t10\\n', b'13 Sandra went to the bathroom.\\n', b'14 John went to the bathroom.\\n', b'15 Where is Sandra? \\tbathroom\\t13\\n', b'1 Daniel journeyed to the office.\\n', b'2 Sandra went to the kitchen.\\n', b'3 Where is Sandra? \\tkitchen\\t2\\n', b'4 Daniel journeyed to the kitchen.\\n', b'5 Mary moved to the bedroom.\\n', b'6 Where is Mary? \\tbedroom\\t5\\n', b'7 John went to the hallway.\\n', b'8 Daniel went to the bedroom.\\n', b'9 Where is John? \\thallway\\t7\\n', b'10 Daniel travelled to the hallway.\\n', b'11 John moved to the garden.\\n', b'12 Where is John? \\tgarden\\t11\\n', b'13 Mary travelled to the bathroom.\\n', b'14 Sandra went to the hallway.\\n', b'15 Where is Sandra? \\thallway\\t14\\n', b'1 Sandra travelled to the bathroom.\\n', b'2 John went back to the office.\\n', b'3 Where is Sandra? \\tbathroom\\t1\\n', b'4 Sandra went back to the garden.\\n', b'5 John went back to the bedroom.\\n', b'6 Where is Sandra? \\tgarden\\t4\\n', b'7 Daniel journeyed to the hallway.\\n', b'8 Daniel went to the office.\\n', b'9 Where is John? \\tbedroom\\t5\\n', b'10 Sandra went back to the bedroom.\\n', b'11 John went to the office.\\n', b'12 Where is John? \\toffice\\t11\\n', b'13 Mary travelled to the office.\\n', b'14 John moved to the garden.\\n', b'15 Where is John? \\tgarden\\t14\\n', b'1 Mary journeyed to the kitchen.\\n', b'2 Sandra went back to the garden.\\n', b'3 Where is Sandra? \\tgarden\\t2\\n', b'4 Daniel moved to the kitchen.\\n', b'5 Daniel travelled to the bedroom.\\n', b'6 Where is Daniel? \\tbedroom\\t5\\n', b'7 Mary moved to the garden.\\n', b'8 Mary travelled to the bathroom.\\n', b'9 Where is Daniel? \\tbedroom\\t5\\n', b'10 Daniel went to the office.\\n', b'11 Sandra went to the bedroom.\\n', b'12 Where is Sandra? \\tbedroom\\t11\\n', b'13 Mary moved to the kitchen.\\n', b'14 John went back to the office.\\n', b'15 Where is John? \\toffice\\t14\\n', b'1 Mary moved to the hallway.\\n', b'2 John went back to the bedroom.\\n', b'3 Where is Mary? \\thallway\\t1\\n', b'4 Mary went back to the bathroom.\\n', b'5 Mary travelled to the office.\\n', b'6 Where is Mary? \\toffice\\t5\\n', b'7 Daniel went back to the office.\\n', b'8 John moved to the hallway.\\n', b'9 Where is Mary? \\toffice\\t5\\n', b'10 John went back to the bathroom.\\n', b'11 Mary travelled to the garden.\\n', b'12 Where is John? \\tbathroom\\t10\\n', b'13 Daniel went back to the bathroom.\\n', b'14 John went to the kitchen.\\n', b'15 Where is John? \\tkitchen\\t14\\n', b'1 John journeyed to the garden.\\n', b'2 Mary travelled to the office.\\n', b'3 Where is John? \\tgarden\\t1\\n', b'4 John went to the bedroom.\\n', b'5 Mary went back to the bathroom.\\n', b'6 Where is Mary? \\tbathroom\\t5\\n', b'7 Mary journeyed to the hallway.\\n', b'8 Sandra went to the kitchen.\\n', b'9 Where is Sandra? \\tkitchen\\t8\\n', b'10 Daniel moved to the hallway.\\n', b'11 John travelled to the garden.\\n', b'12 Where is John? \\tgarden\\t11\\n', b'13 John went back to the bathroom.\\n', b'14 Sandra went to the bedroom.\\n', b'15 Where is John? \\tbathroom\\t13\\n', b'1 Sandra went back to the bedroom.\\n', b'2 Mary moved to the kitchen.\\n', b'3 Where is Sandra? \\tbedroom\\t1\\n', b'4 Mary moved to the office.\\n', b'5 Daniel travelled to the office.\\n', b'6 Where is Sandra? \\tbedroom\\t1\\n', b'7 Daniel travelled to the hallway.\\n', b'8 John went back to the hallway.\\n', b'9 Where is Daniel? \\thallway\\t7\\n', b'10 Mary moved to the bathroom.\\n', b'11 Sandra journeyed to the hallway.\\n', b'12 Where is John? \\thallway\\t8\\n', b'13 John went to the garden.\\n', b'14 Daniel travelled to the kitchen.\\n', b'15 Where is John? \\tgarden\\t13\\n', b'1 Sandra moved to the garden.\\n', b'2 Daniel travelled to the bedroom.\\n', b'3 Where is Daniel? \\tbedroom\\t2\\n', b'4 Sandra went to the hallway.\\n', b'5 Sandra went back to the bathroom.\\n', b'6 Where is Sandra? \\tbathroom\\t5\\n', b'7 Sandra journeyed to the kitchen.\\n', b'8 Daniel went back to the hallway.\\n', b'9 Where is Daniel? \\thallway\\t8\\n', b'10 John travelled to the bedroom.\\n', b'11 Daniel travelled to the kitchen.\\n', b'12 Where is John? \\tbedroom\\t10\\n', b'13 Sandra moved to the office.\\n', b'14 Daniel moved to the bathroom.\\n', b'15 Where is Daniel? \\tbathroom\\t14\\n', b'1 John went to the kitchen.\\n', b'2 Daniel travelled to the kitchen.\\n', b'3 Where is Daniel? \\tkitchen\\t2\\n', b'4 Sandra journeyed to the kitchen.\\n', b'5 John went to the bedroom.\\n', b'6 Where is John? \\tbedroom\\t5\\n', b'7 Mary went to the bedroom.\\n', b'8 Sandra went back to the bedroom.\\n', b'9 Where is John? \\tbedroom\\t5\\n', b'10 John journeyed to the garden.\\n', b'11 Daniel went back to the bedroom.\\n', b'12 Where is John? \\tgarden\\t10\\n', b'13 Daniel journeyed to the bathroom.\\n', b'14 Daniel went to the kitchen.\\n', b'15 Where is John? \\tgarden\\t10\\n', b'1 Mary moved to the kitchen.\\n', b'2 Sandra travelled to the bedroom.\\n', b'3 Where is Mary? \\tkitchen\\t1\\n', b'4 Daniel journeyed to the office.\\n', b'5 Sandra went back to the kitchen.\\n', b'6 Where is Mary? \\tkitchen\\t1\\n', b'7 Mary travelled to the bedroom.\\n', b'8 Sandra went to the bedroom.\\n', b'9 Where is Sandra? \\tbedroom\\t8\\n', b'10 John travelled to the office.\\n', b'11 John moved to the hallway.\\n', b'12 Where is John? \\thallway\\t11\\n', b'13 Sandra went back to the kitchen.\\n', b'14 Daniel moved to the kitchen.\\n', b'15 Where is John? \\thallway\\t11\\n', b'1 Daniel travelled to the kitchen.\\n', b'2 Sandra went back to the kitchen.\\n', b'3 Where is Daniel? \\tkitchen\\t1\\n', b'4 Daniel journeyed to the garden.\\n', b'5 John journeyed to the garden.\\n', b'6 Where is Daniel? \\tgarden\\t4\\n', b'7 Daniel moved to the bathroom.\\n', b'8 Sandra went back to the bedroom.\\n', b'9 Where is Daniel? \\tbathroom\\t7\\n', b'10 John went to the hallway.\\n', b'11 Daniel journeyed to the kitchen.\\n', b'12 Where is John? \\thallway\\t10\\n', b'13 Mary journeyed to the bedroom.\\n', b'14 Daniel moved to the bathroom.\\n', b'15 Where is Daniel? \\tbathroom\\t14\\n', b'1 Mary moved to the bathroom.\\n', b'2 Mary journeyed to the kitchen.\\n', b'3 Where is Mary? \\tkitchen\\t2\\n', b'4 Sandra journeyed to the bedroom.\\n', b'5 Daniel travelled to the bedroom.\\n', b'6 Where is Sandra? \\tbedroom\\t4\\n', b'7 Daniel journeyed to the bathroom.\\n', b'8 Daniel travelled to the office.\\n', b'9 Where is Daniel? \\toffice\\t8\\n', b'10 Mary went back to the office.\\n', b'11 Sandra moved to the bathroom.\\n', b'12 Where is Daniel? \\toffice\\t8\\n', b'13 Daniel went back to the kitchen.\\n', b'14 Daniel went back to the bedroom.\\n', b'15 Where is Daniel? \\tbedroom\\t14\\n', b'1 Daniel moved to the bedroom.\\n', b'2 John moved to the bedroom.\\n', b'3 Where is John? \\tbedroom\\t2\\n', b'4 Mary went back to the bedroom.\\n', b'5 Mary travelled to the office.\\n', b'6 Where is Mary? \\toffice\\t5\\n', b'7 Mary journeyed to the bedroom.\\n', b'8 John moved to the garden.\\n', b'9 Where is Mary? \\tbedroom\\t7\\n', b'10 Daniel travelled to the office.\\n', b'11 Sandra travelled to the bathroom.\\n', b'12 Where is Mary? \\tbedroom\\t7\\n', b'13 John moved to the hallway.\\n', b'14 Sandra journeyed to the bedroom.\\n', b'15 Where is Daniel? \\toffice\\t10\\n', b'1 Daniel went back to the bathroom.\\n', b'2 Mary went back to the bathroom.\\n', b'3 Where is Mary? \\tbathroom\\t2\\n', b'4 Mary went to the garden.\\n', b'5 Sandra moved to the bedroom.\\n', b'6 Where is Daniel? \\tbathroom\\t1\\n', b'7 Mary moved to the kitchen.\\n', b'8 Mary went to the bathroom.\\n', b'9 Where is Sandra? \\tbedroom\\t5\\n', b'10 John travelled to the hallway.\\n', b'11 Daniel travelled to the hallway.\\n', b'12 Where is Daniel? \\thallway\\t11\\n', b'13 Daniel travelled to the kitchen.\\n', b'14 Daniel journeyed to the garden.\\n', b'15 Where is Daniel? \\tgarden\\t14\\n', b'1 Sandra went to the bathroom.\\n', b'2 Sandra went to the office.\\n', b'3 Where is Sandra? \\toffice\\t2\\n', b'4 Daniel went back to the office.\\n', b'5 Sandra journeyed to the garden.\\n', b'6 Where is Daniel? \\toffice\\t4\\n', b'7 Daniel went back to the hallway.\\n', b'8 Sandra journeyed to the hallway.\\n', b'9 Where is Daniel? \\thallway\\t7\\n', b'10 Mary travelled to the bathroom.\\n', b'11 John journeyed to the bedroom.\\n', b'12 Where is Daniel? \\thallway\\t7\\n', b'13 Daniel went back to the office.\\n', b'14 Sandra went back to the garden.\\n', b'15 Where is Sandra? \\tgarden\\t14\\n', b'1 Sandra went to the kitchen.\\n', b'2 Mary went to the hallway.\\n', b'3 Where is Mary? \\thallway\\t2\\n', b'4 John journeyed to the office.\\n', b'5 Daniel went back to the office.\\n', b'6 Where is Daniel? \\toffice\\t5\\n', b'7 Daniel went back to the kitchen.\\n', b'8 Daniel travelled to the garden.\\n', b'9 Where is Daniel? \\tgarden\\t8\\n', b'10 John travelled to the hallway.\\n', b'11 John went back to the office.\\n', b'12 Where is Daniel? \\tgarden\\t8\\n', b'13 Mary went to the bedroom.\\n', b'14 Mary travelled to the hallway.\\n', b'15 Where is Mary? \\thallway\\t14\\n', b'1 Mary moved to the office.\\n', b'2 John moved to the garden.\\n', b'3 Where is John? \\tgarden\\t2\\n', b'4 Sandra moved to the bedroom.\\n', b'5 Sandra went back to the office.\\n', b'6 Where is John? \\tgarden\\t2\\n', b'7 John went to the bedroom.\\n', b'8 John journeyed to the garden.\\n', b'9 Where is John? \\tgarden\\t8\\n', b'10 Daniel went back to the hallway.\\n', b'11 John journeyed to the bedroom.\\n', b'12 Where is Sandra? \\toffice\\t5\\n', b'13 Daniel journeyed to the bathroom.\\n', b'14 John travelled to the garden.\\n', b'15 Where is Daniel? \\tbathroom\\t13\\n', b'1 John moved to the kitchen.\\n', b'2 Sandra travelled to the garden.\\n', b'3 Where is Sandra? \\tgarden\\t2\\n', b'4 Sandra went back to the bathroom.\\n', b'5 Sandra went back to the bedroom.\\n', b'6 Where is Sandra? \\tbedroom\\t5\\n', b'7 Sandra journeyed to the office.\\n', b'8 Sandra travelled to the hallway.\\n', b'9 Where is Sandra? \\thallway\\t8\\n', b'10 Daniel went back to the hallway.\\n', b'11 Daniel went to the garden.\\n', b'12 Where is Sandra? \\thallway\\t8\\n', b'13 Daniel went to the bedroom.\\n', b'14 Sandra moved to the bedroom.\\n', b'15 Where is Sandra? \\tbedroom\\t14\\n', b'1 Sandra moved to the office.\\n', b'2 John went back to the garden.\\n', b'3 Where is John? \\tgarden\\t2\\n', b'4 Mary went to the office.\\n', b'5 Daniel travelled to the bedroom.\\n', b'6 Where is Mary? \\toffice\\t4\\n', b'7 Sandra travelled to the garden.\\n', b'8 Daniel travelled to the hallway.\\n', b'9 Where is Daniel? \\thallway\\t8\\n', b'10 John travelled to the bedroom.\\n', b'11 John went to the hallway.\\n', b'12 Where is John? \\thallway\\t11\\n', b'13 Daniel moved to the bathroom.\\n', b'14 Daniel travelled to the kitchen.\\n', b'15 Where is Daniel? \\tkitchen\\t14\\n', b'1 Sandra went back to the kitchen.\\n', b'2 Sandra journeyed to the garden.\\n', b'3 Where is Sandra? \\tgarden\\t2\\n', b'4 Mary went back to the kitchen.\\n', b'5 Sandra went to the kitchen.\\n', b'6 Where is Mary? \\tkitchen\\t4\\n', b'7 John journeyed to the office.\\n', b'8 Daniel went to the hallway.\\n', b'9 Where is Mary? \\tkitchen\\t4\\n', b'10 John went back to the hallway.\\n', b'11 Sandra moved to the bedroom.\\n', b'12 Where is John? \\thallway\\t10\\n', b'13 Mary journeyed to the hallway.\\n', b'14 Daniel travelled to the bedroom.\\n', b'15 Where is Daniel? \\tbedroom\\t14\\n', b'1 John travelled to the bedroom.\\n', b'2 Mary travelled to the bedroom.\\n', b'3 Where is John? \\tbedroom\\t1\\n', b'4 John journeyed to the bathroom.\\n', b'5 Sandra went back to the hallway.\\n', b'6 Where is John? \\tbathroom\\t4\\n', b'7 John went to the office.\\n', b'8 Daniel travelled to the kitchen.\\n', b'9 Where is John? \\toffice\\t7\\n', b'10 Daniel journeyed to the bedroom.\\n', b'11 John went back to the garden.\\n', b'12 Where is Daniel? \\tbedroom\\t10\\n', b'13 John moved to the bedroom.\\n', b'14 Daniel journeyed to the kitchen.\\n', b'15 Where is Daniel? \\tkitchen\\t14\\n', b'1 Mary travelled to the bathroom.\\n', b'2 Sandra journeyed to the hallway.\\n', b'3 Where is Sandra? \\thallway\\t2\\n', b'4 Mary went to the kitchen.\\n', b'5 Daniel moved to the office.\\n', b'6 Where is Mary? \\tkitchen\\t4\\n', b'7 Daniel journeyed to the bedroom.\\n', b'8 Mary travelled to the bedroom.\\n', b'9 Where is Daniel? \\tbedroom\\t7\\n', b'10 Sandra moved to the office.\\n', b'11 Sandra went back to the bathroom.\\n', b'12 Where is Daniel? \\tbedroom\\t7\\n', b'13 John went back to the bathroom.\\n', b'14 John moved to the office.\\n', b'15 Where is Mary? \\tbedroom\\t8\\n', b'1 Daniel journeyed to the kitchen.\\n', b'2 Daniel went to the garden.\\n', b'3 Where is Daniel? \\tgarden\\t2\\n', b'4 Mary went to the bathroom.\\n', b'5 Sandra went back to the bedroom.\\n', b'6 Where is Sandra? \\tbedroom\\t5\\n', b'7 Sandra moved to the garden.\\n', b'8 Mary went back to the bedroom.\\n', b'9 Where is Sandra? \\tgarden\\t7\\n', b'10 Daniel moved to the bathroom.\\n', b'11 Daniel moved to the kitchen.\\n', b'12 Where is Daniel? \\tkitchen\\t11\\n', b'13 Sandra went back to the bedroom.\\n', b'14 John moved to the garden.\\n', b'15 Where is Sandra? \\tbedroom\\t13\\n', b'1 John journeyed to the garden.\\n', b'2 John travelled to the bathroom.\\n', b'3 Where is John? \\tbathroom\\t2\\n', b'4 Daniel went back to the garden.\\n', b'5 Daniel journeyed to the kitchen.\\n', b'6 Where is John? \\tbathroom\\t2\\n', b'7 Sandra travelled to the kitchen.\\n', b'8 Sandra moved to the hallway.\\n', b'9 Where is Daniel? \\tkitchen\\t5\\n', b'10 Sandra travelled to the bedroom.\\n', b'11 John went back to the office.\\n', b'12 Where is Sandra? \\tbedroom\\t10\\n', b'13 Mary went back to the kitchen.\\n', b'14 Mary moved to the hallway.\\n', b'15 Where is Sandra? \\tbedroom\\t10\\n', b'1 Daniel went back to the bedroom.\\n', b'2 Sandra went to the garden.\\n', b'3 Where is Daniel? \\tbedroom\\t1\\n', b'4 Sandra moved to the kitchen.\\n', b'5 John travelled to the hallway.\\n', b'6 Where is Daniel? \\tbedroom\\t1\\n', b'7 Daniel moved to the kitchen.\\n', b'8 John journeyed to the kitchen.\\n', b'9 Where is Sandra? \\tkitchen\\t4\\n', b'10 Daniel journeyed to the hallway.\\n', b'11 Sandra went to the office.\\n', b'12 Where is John? \\tkitchen\\t8\\n', b'13 Mary journeyed to the office.\\n', b'14 Daniel travelled to the garden.\\n', b'15 Where is Sandra? \\toffice\\t11\\n', b'1 John travelled to the hallway.\\n', b'2 John travelled to the bathroom.\\n', b'3 Where is John? \\tbathroom\\t2\\n', b'4 Sandra moved to the kitchen.\\n', b'5 John journeyed to the bedroom.\\n', b'6 Where is John? \\tbedroom\\t5\\n', b'7 Daniel journeyed to the hallway.\\n', b'8 John journeyed to the bathroom.\\n', b'9 Where is Daniel? \\thallway\\t7\\n', b'10 Daniel moved to the bedroom.\\n', b'11 Mary went to the bathroom.\\n', b'12 Where is Daniel? \\tbedroom\\t10\\n', b'13 Mary went back to the bedroom.\\n', b'14 Sandra went to the bathroom.\\n', b'15 Where is Daniel? \\tbedroom\\t10\\n', b'1 John went back to the hallway.\\n', b'2 Sandra went to the kitchen.\\n', b'3 Where is John? \\thallway\\t1\\n', b'4 Daniel went back to the bedroom.\\n', b'5 Mary moved to the kitchen.\\n', b'6 Where is John? \\thallway\\t1\\n', b'7 John journeyed to the bedroom.\\n', b'8 Daniel went to the garden.\\n', b'9 Where is Daniel? \\tgarden\\t8\\n', b'10 Daniel went back to the kitchen.\\n', b'11 John went back to the garden.\\n', b'12 Where is Daniel? \\tkitchen\\t10\\n', b'13 John went to the bathroom.\\n', b'14 Mary journeyed to the bedroom.\\n', b'15 Where is Mary? \\tbedroom\\t14\\n', b'1 Sandra travelled to the bedroom.\\n', b'2 Daniel went to the bedroom.\\n', b'3 Where is Sandra? \\tbedroom\\t1\\n', b'4 Sandra journeyed to the garden.\\n', b'5 Daniel went back to the hallway.\\n', b'6 Where is Sandra? \\tgarden\\t4\\n', b'7 Sandra travelled to the office.\\n', b'8 John travelled to the bathroom.\\n', b'9 Where is Daniel? \\thallway\\t5\\n', b'10 Mary went to the bedroom.\\n', b'11 John moved to the bedroom.\\n', b'12 Where is John? \\tbedroom\\t11\\n', b'13 Sandra went to the bedroom.\\n', b'14 Sandra went to the garden.\\n', b'15 Where is Mary? \\tbedroom\\t10\\n', b'1 Sandra went back to the bathroom.\\n', b'2 Sandra journeyed to the office.\\n', b'3 Where is Sandra? \\toffice\\t2\\n', b'4 Mary travelled to the hallway.\\n', b'5 Daniel went to the office.\\n', b'6 Where is Mary? \\thallway\\t4\\n', b'7 Mary journeyed to the garden.\\n', b'8 John travelled to the office.\\n', b'9 Where is John? \\toffice\\t8\\n', b'10 Sandra moved to the kitchen.\\n', b'11 John moved to the garden.\\n', b'12 Where is John? \\tgarden\\t11\\n', b'13 Daniel moved to the garden.\\n', b'14 John went to the bathroom.\\n', b'15 Where is John? \\tbathroom\\t14\\n', b'1 Mary went to the bathroom.\\n', b'2 Sandra went back to the bathroom.\\n', b'3 Where is Sandra? \\tbathroom\\t2\\n', b'4 Sandra moved to the office.\\n', b'5 John journeyed to the hallway.\\n', b'6 Where is Sandra? \\toffice\\t4\\n', b'7 Daniel went to the hallway.\\n', b'8 Daniel went back to the garden.\\n', b'9 Where is Sandra? \\toffice\\t4\\n', b'10 Sandra journeyed to the bathroom.\\n', b'11 Sandra moved to the hallway.\\n', b'12 Where is Daniel? \\tgarden\\t8\\n', b'13 Sandra travelled to the garden.\\n', b'14 Daniel travelled to the bedroom.\\n', b'15 Where is Daniel? \\tbedroom\\t14\\n', b'1 John journeyed to the bathroom.\\n', b'2 John moved to the bedroom.\\n', b'3 Where is John? \\tbedroom\\t2\\n', b'4 Mary journeyed to the office.\\n', b'5 Sandra moved to the bedroom.\\n', b'6 Where is Sandra? \\tbedroom\\t5\\n', b'7 Mary went to the kitchen.\\n', b'8 John travelled to the garden.\\n', b'9 Where is Mary? \\tkitchen\\t7\\n', b'10 John moved to the bathroom.\\n', b'11 Sandra travelled to the kitchen.\\n', b'12 Where is Sandra? \\tkitchen\\t11\\n', b'13 Mary travelled to the office.\\n', b'14 John journeyed to the office.\\n', b'15 Where is John? \\toffice\\t14\\n', b'1 Sandra went back to the bedroom.\\n', b'2 Mary journeyed to the garden.\\n', b'3 Where is Mary? \\tgarden\\t2\\n', b'4 John journeyed to the kitchen.\\n', b'5 Sandra went to the office.\\n', b'6 Where is John? \\tkitchen\\t4\\n', b'7 John moved to the hallway.\\n', b'8 Sandra went back to the garden.\\n', b'9 Where is John? \\thallway\\t7\\n', b'10 John went back to the kitchen.\\n', b'11 Daniel journeyed to the bedroom.\\n', b'12 Where is Sandra? \\tgarden\\t8\\n', b'13 John went to the bathroom.\\n', b'14 Sandra moved to the bedroom.\\n', b'15 Where is Daniel? \\tbedroom\\t11\\n', b'1 Sandra journeyed to the office.\\n', b'2 Daniel moved to the kitchen.\\n', b'3 Where is Daniel? \\tkitchen\\t2\\n', b'4 Mary went to the kitchen.\\n', b'5 John journeyed to the office.\\n', b'6 Where is Sandra? \\toffice\\t1\\n', b'7 Daniel went back to the bathroom.\\n', b'8 John went to the garden.\\n', b'9 Where is Daniel? \\tbathroom\\t7\\n', b'10 Mary journeyed to the office.\\n', b'11 Daniel went to the garden.\\n', b'12 Where is John? \\tgarden\\t8\\n', b'13 Daniel travelled to the bathroom.\\n', b'14 Sandra travelled to the bathroom.\\n', b'15 Where is Sandra? \\tbathroom\\t14\\n', b'1 Daniel went back to the office.\\n', b'2 Sandra moved to the bathroom.\\n', b'3 Where is Daniel? \\toffice\\t1\\n', b'4 Sandra travelled to the kitchen.\\n', b'5 Mary went to the kitchen.\\n', b'6 Where is Sandra? \\tkitchen\\t4\\n', b'7 Daniel travelled to the bathroom.\\n', b'8 Daniel went back to the hallway.\\n', b'9 Where is Daniel? \\thallway\\t8\\n', b'10 Daniel travelled to the bedroom.\\n', b'11 Sandra went back to the office.\\n', b'12 Where is Mary? \\tkitchen\\t5\\n', b'13 John moved to the hallway.\\n', b'14 Daniel travelled to the hallway.\\n', b'15 Where is Sandra? \\toffice\\t11\\n', b'1 Mary journeyed to the bathroom.\\n', b'2 John went back to the garden.\\n', b'3 Where is John? \\tgarden\\t2\\n', b'4 Mary went to the office.\\n', b'5 John went back to the bedroom.\\n', b'6 Where is Mary? \\toffice\\t4\\n', b'7 John journeyed to the bathroom.\\n', b'8 Sandra journeyed to the bathroom.\\n', b'9 Where is Mary? \\toffice\\t4\\n', b'10 Sandra moved to the kitchen.\\n', b'11 John went to the office.\\n', b'12 Where is Sandra? \\tkitchen\\t10\\n', b'13 John travelled to the bedroom.\\n', b'14 John went back to the bathroom.\\n', b'15 Where is John? \\tbathroom\\t14\\n', b'1 Daniel went back to the bedroom.\\n', b'2 John went back to the bedroom.\\n', b'3 Where is Daniel? \\tbedroom\\t1\\n', b'4 John went back to the bathroom.\\n', b'5 Mary journeyed to the hallway.\\n', b'6 Where is John? \\tbathroom\\t4\\n', b'7 Daniel travelled to the bathroom.\\n', b'8 Mary went to the garden.\\n', b'9 Where is John? \\tbathroom\\t4\\n', b'10 John travelled to the hallway.\\n', b'11 John travelled to the bedroom.\\n', b'12 Where is John? \\tbedroom\\t11\\n', b'13 Daniel went to the bedroom.\\n', b'14 Daniel went back to the garden.\\n', b'15 Where is John? \\tbedroom\\t11\\n', b'1 John journeyed to the garden.\\n', b'2 John travelled to the bathroom.\\n', b'3 Where is John? \\tbathroom\\t2\\n', b'4 Mary moved to the kitchen.\\n', b'5 Mary went back to the bedroom.\\n', b'6 Where is Mary? \\tbedroom\\t5\\n', b'7 John went to the hallway.\\n', b'8 John went to the kitchen.\\n', b'9 Where is Mary? \\tbedroom\\t5\\n', b'10 Mary travelled to the kitchen.\\n', b'11 Sandra went back to the bathroom.\\n', b'12 Where is Mary? \\tkitchen\\t10\\n', b'13 John travelled to the garden.\\n', b'14 Mary moved to the bathroom.\\n', b'15 Where is John? \\tgarden\\t13\\n', b'1 John went to the garden.\\n', b'2 Sandra travelled to the garden.\\n', b'3 Where is John? \\tgarden\\t1\\n', b'4 John travelled to the bedroom.\\n', b'5 John travelled to the office.\\n', b'6 Where is Sandra? \\tgarden\\t2\\n', b'7 John went back to the kitchen.\\n', b'8 Mary travelled to the hallway.\\n', b'9 Where is John? \\tkitchen\\t7\\n', b'10 Daniel travelled to the hallway.\\n', b'11 John travelled to the garden.\\n', b'12 Where is Mary? \\thallway\\t8\\n', b'13 Daniel journeyed to the office.\\n', b'14 Sandra went to the bathroom.\\n', b'15 Where is Sandra? \\tbathroom\\t14\\n', b'1 Daniel journeyed to the garden.\\n', b'2 John moved to the garden.\\n', b'3 Where is Daniel? \\tgarden\\t1\\n', b'4 Sandra moved to the bedroom.\\n', b'5 John went back to the office.\\n', b'6 Where is Daniel? \\tgarden\\t1\\n', b'7 John went back to the bedroom.\\n', b'8 Daniel went back to the bedroom.\\n', b'9 Where is Daniel? \\tbedroom\\t8\\n', b'10 John went to the office.\\n', b'11 Sandra went to the garden.\\n', b'12 Where is John? \\toffice\\t10\\n', b'13 Mary went back to the bathroom.\\n', b'14 Daniel went to the garden.\\n', b'15 Where is Sandra? \\tgarden\\t11\\n', b'1 Mary travelled to the garden.\\n', b'2 John went back to the kitchen.\\n', b'3 Where is Mary? \\tgarden\\t1\\n', b'4 Sandra journeyed to the office.\\n', b'5 Sandra journeyed to the hallway.\\n', b'6 Where is Sandra? \\thallway\\t5\\n', b'7 John travelled to the bathroom.\\n', b'8 Sandra moved to the office.\\n', b'9 Where is Sandra? \\toffice\\t8\\n', b'10 Sandra moved to the kitchen.\\n', b'11 Daniel went back to the bathroom.\\n', b'12 Where is Sandra? \\tkitchen\\t10\\n', b'13 Daniel journeyed to the garden.\\n', b'14 John went back to the bedroom.\\n', b'15 Where is Sandra? \\tkitchen\\t10\\n', b'1 Daniel went to the garden.\\n', b'2 Daniel journeyed to the bathroom.\\n', b'3 Where is Daniel? \\tbathroom\\t2\\n', b'4 Mary journeyed to the garden.\\n', b'5 Sandra went back to the garden.\\n', b'6 Where is Sandra? \\tgarden\\t5\\n', b'7 Mary went back to the bedroom.\\n', b'8 Daniel went back to the kitchen.\\n', b'9 Where is Daniel? \\tkitchen\\t8\\n', b'10 Daniel went to the office.\\n', b'11 Mary journeyed to the kitchen.\\n', b'12 Where is Mary? \\tkitchen\\t11\\n', b'13 Sandra travelled to the bathroom.\\n', b'14 Mary travelled to the garden.\\n', b'15 Where is Mary? \\tgarden\\t14\\n', b'1 Daniel went to the bathroom.\\n', b'2 Mary travelled to the bathroom.\\n', b'3 Where is Mary? \\tbathroom\\t2\\n', b'4 John went to the office.\\n', b'5 John journeyed to the kitchen.\\n', b'6 Where is John? \\tkitchen\\t5\\n', b'7 Sandra went to the hallway.\\n', b'8 Sandra travelled to the garden.\\n', b'9 Where is John? \\tkitchen\\t5\\n', b'10 Daniel journeyed to the office.\\n', b'11 Daniel moved to the garden.\\n', b'12 Where is Daniel? \\tgarden\\t11\\n', b'13 Mary moved to the garden.\\n', b'14 Daniel went to the kitchen.\\n', b'15 Where is Daniel? \\tkitchen\\t14\\n', b'1 Sandra journeyed to the kitchen.\\n', b'2 John moved to the hallway.\\n', b'3 Where is Sandra? \\tkitchen\\t1\\n', b'4 Daniel went back to the hallway.\\n', b'5 Mary went to the bathroom.\\n', b'6 Where is Sandra? \\tkitchen\\t1\\n', b'7 John travelled to the garden.\\n', b'8 Mary moved to the hallway.\\n', b'9 Where is John? \\tgarden\\t7\\n', b'10 Mary went back to the bedroom.\\n', b'11 Daniel went to the office.\\n', b'12 Where is Mary? \\tbedroom\\t10\\n', b'13 Daniel went back to the garden.\\n', b'14 Sandra moved to the bathroom.\\n', b'15 Where is Mary? \\tbedroom\\t10\\n', b'1 Mary went to the bathroom.\\n', b'2 Daniel moved to the office.\\n', b'3 Where is Mary? \\tbathroom\\t1\\n', b'4 Sandra journeyed to the office.\\n', b'5 John travelled to the garden.\\n', b'6 Where is Daniel? \\toffice\\t2\\n', b'7 John went back to the hallway.\\n', b'8 John moved to the office.\\n', b'9 Where is John? \\toffice\\t8\\n', b'10 Sandra travelled to the kitchen.\\n', b'11 Sandra journeyed to the bedroom.\\n', b'12 Where is John? \\toffice\\t8\\n', b'13 Sandra went to the garden.\\n', b'14 Daniel went to the hallway.\\n', b'15 Where is John? \\toffice\\t8\\n', b'1 Daniel went back to the office.\\n', b'2 John went to the bedroom.\\n', b'3 Where is John? \\tbedroom\\t2\\n', b'4 Mary went to the kitchen.\\n', b'5 Daniel moved to the garden.\\n', b'6 Where is John? \\tbedroom\\t2\\n', b'7 Daniel travelled to the office.\\n', b'8 Mary journeyed to the office.\\n', b'9 Where is Daniel? \\toffice\\t7\\n', b'10 Daniel went to the bathroom.\\n', b'11 Mary went back to the kitchen.\\n', b'12 Where is Daniel? \\tbathroom\\t10\\n', b'13 John went to the office.\\n', b'14 John moved to the garden.\\n', b'15 Where is Mary? \\tkitchen\\t11\\n', b'1 Daniel went back to the hallway.\\n', b'2 Mary went to the bathroom.\\n', b'3 Where is Mary? \\tbathroom\\t2\\n', b'4 John travelled to the hallway.\\n', b'5 Mary went to the office.\\n', b'6 Where is Mary? \\toffice\\t5\\n', b'7 Sandra travelled to the bathroom.\\n', b'8 Sandra journeyed to the hallway.\\n', b'9 Where is Sandra? \\thallway\\t8\\n', b'10 Daniel journeyed to the bathroom.\\n', b'11 Daniel moved to the bedroom.\\n', b'12 Where is Sandra? \\thallway\\t8\\n', b'13 Mary journeyed to the hallway.\\n', b'14 Daniel travelled to the bathroom.\\n', b'15 Where is Sandra? \\thallway\\t8\\n', b'1 Mary travelled to the bathroom.\\n', b'2 Daniel went back to the kitchen.\\n', b'3 Where is Daniel? \\tkitchen\\t2\\n', b'4 John moved to the bedroom.\\n', b'5 Sandra went to the kitchen.\\n', b'6 Where is Daniel? \\tkitchen\\t2\\n', b'7 Daniel went back to the garden.\\n', b'8 Mary went back to the kitchen.\\n', b'9 Where is Mary? \\tkitchen\\t8\\n', b'10 Mary moved to the bathroom.\\n', b'11 Mary travelled to the office.\\n', b'12 Where is Mary? \\toffice\\t11\\n', b'13 Daniel went to the bathroom.\\n', b'14 Sandra went back to the garden.\\n', b'15 Where is Daniel? \\tbathroom\\t13\\n', b'1 Sandra journeyed to the hallway.\\n', b'2 John went back to the garden.\\n', b'3 Where is John? \\tgarden\\t2\\n', b'4 Daniel journeyed to the office.\\n', b'5 Mary journeyed to the bathroom.\\n', b'6 Where is Mary? \\tbathroom\\t5\\n', b'7 John went to the kitchen.\\n', b'8 Mary journeyed to the office.\\n', b'9 Where is Daniel? \\toffice\\t4\\n', b'10 John journeyed to the bathroom.\\n', b'11 Sandra went to the office.\\n', b'12 Where is John? \\tbathroom\\t10\\n', b'13 Daniel moved to the hallway.\\n', b'14 John journeyed to the hallway.\\n', b'15 Where is John? \\thallway\\t14\\n', b'1 Sandra travelled to the bedroom.\\n', b'2 Sandra journeyed to the garden.\\n', b'3 Where is Sandra? \\tgarden\\t2\\n', b'4 Sandra moved to the hallway.\\n', b'5 Sandra travelled to the bathroom.\\n', b'6 Where is Sandra? \\tbathroom\\t5\\n', b'7 Mary went to the bathroom.\\n', b'8 John moved to the office.\\n', b'9 Where is Sandra? \\tbathroom\\t5\\n', b'10 Sandra went back to the office.\\n', b'11 Mary travelled to the hallway.\\n', b'12 Where is Sandra? \\toffice\\t10\\n', b'13 Mary went to the garden.\\n', b'14 Daniel moved to the office.\\n', b'15 Where is Mary? \\tgarden\\t13\\n', b'1 Mary went back to the bathroom.\\n', b'2 Mary journeyed to the garden.\\n', b'3 Where is Mary? \\tgarden\\t2\\n', b'4 Sandra went back to the bedroom.\\n', b'5 Daniel moved to the bathroom.\\n', b'6 Where is Mary? \\tgarden\\t2\\n', b'7 Mary moved to the hallway.\\n', b'8 Daniel went to the hallway.\\n', b'9 Where is Sandra? \\tbedroom\\t4\\n', b'10 Daniel went to the bedroom.\\n', b'11 Sandra journeyed to the kitchen.\\n', b'12 Where is Sandra? \\tkitchen\\t11\\n', b'13 Mary journeyed to the bedroom.\\n', b'14 Sandra journeyed to the garden.\\n', b'15 Where is Daniel? \\tbedroom\\t10\\n', b'1 Mary moved to the hallway.\\n', b'2 Daniel travelled to the hallway.\\n', b'3 Where is Mary? \\thallway\\t1\\n', b'4 John went back to the hallway.\\n', b'5 John went to the office.\\n', b'6 Where is Mary? \\thallway\\t1\\n', b'7 John moved to the kitchen.\\n', b'8 John travelled to the bathroom.\\n', b'9 Where is John? \\tbathroom\\t8\\n', b'10 Sandra travelled to the garden.\\n', b'11 Sandra went to the bathroom.\\n', b'12 Where is John? \\tbathroom\\t8\\n', b'13 Daniel moved to the bathroom.\\n', b'14 John went to the office.\\n', b'15 Where is John? \\toffice\\t14\\n', b'1 Mary moved to the hallway.\\n', b'2 John travelled to the garden.\\n', b'3 Where is Mary? \\thallway\\t1\\n', b'4 Daniel travelled to the garden.\\n', b'5 Daniel went to the office.\\n', b'6 Where is Mary? \\thallway\\t1\\n', b'7 Daniel moved to the bathroom.\\n', b'8 Sandra went back to the office.\\n', b'9 Where is Daniel? \\tbathroom\\t7\\n', b'10 Mary went back to the garden.\\n', b'11 Mary moved to the hallway.\\n', b'12 Where is Sandra? \\toffice\\t8\\n', b'13 John travelled to the hallway.\\n', b'14 John went to the kitchen.\\n', b'15 Where is Mary? \\thallway\\t11\\n', b'1 John travelled to the bathroom.\\n', b'2 John travelled to the garden.\\n', b'3 Where is John? \\tgarden\\t2\\n', b'4 Daniel journeyed to the office.\\n', b'5 Sandra went to the garden.\\n', b'6 Where is Sandra? \\tgarden\\t5\\n', b'7 John travelled to the kitchen.\\n', b'8 Mary journeyed to the bedroom.\\n', b'9 Where is John? \\tkitchen\\t7\\n', b'10 Mary moved to the hallway.\\n', b'11 Sandra went to the kitchen.\\n', b'12 Where is Sandra? \\tkitchen\\t11\\n', b'13 Daniel went back to the hallway.\\n', b'14 Sandra went to the bathroom.\\n', b'15 Where is Daniel? \\thallway\\t13\\n', b'1 John journeyed to the bedroom.\\n', b'2 Sandra journeyed to the garden.\\n', b'3 Where is Sandra? \\tgarden\\t2\\n', b'4 Daniel went back to the hallway.\\n', b'5 Mary went to the hallway.\\n', b'6 Where is Mary? \\thallway\\t5\\n', b'7 Daniel travelled to the kitchen.\\n', b'8 Daniel went to the office.\\n', b'9 Where is Daniel? \\toffice\\t8\\n', b'10 Daniel travelled to the bedroom.\\n', b'11 Sandra went to the office.\\n', b'12 Where is Mary? \\thallway\\t5\\n', b'13 Mary went back to the bathroom.\\n', b'14 Mary journeyed to the office.\\n', b'15 Where is Sandra? \\toffice\\t11\\n', b'1 Sandra moved to the bedroom.\\n', b'2 Daniel journeyed to the garden.\\n', b'3 Where is Daniel? \\tgarden\\t2\\n', b'4 Mary moved to the bedroom.\\n', b'5 Sandra went back to the hallway.\\n', b'6 Where is Sandra? \\thallway\\t5\\n', b'7 John went to the office.\\n', b'8 Sandra went back to the bathroom.\\n', b'9 Where is Daniel? \\tgarden\\t2\\n', b'10 Sandra went back to the kitchen.\\n', b'11 Sandra travelled to the office.\\n', b'12 Where is Sandra? \\toffice\\t11\\n', b'13 John moved to the garden.\\n', b'14 Daniel went to the bedroom.\\n', b'15 Where is Sandra? \\toffice\\t11\\n', b'1 Sandra went to the garden.\\n', b'2 John travelled to the office.\\n', b'3 Where is Sandra? \\tgarden\\t1\\n', b'4 Sandra went back to the hallway.\\n', b'5 Mary went back to the office.\\n', b'6 Where is John? \\toffice\\t2\\n', b'7 Mary moved to the kitchen.\\n', b'8 Mary went back to the bathroom.\\n', b'9 Where is Mary? \\tbathroom\\t8\\n', b'10 Mary travelled to the garden.\\n', b'11 Daniel went back to the kitchen.\\n', b'12 Where is Mary? \\tgarden\\t10\\n', b'13 Sandra travelled to the kitchen.\\n', b'14 Daniel travelled to the bathroom.\\n', b'15 Where is Daniel? \\tbathroom\\t14\\n', b'1 John went back to the bedroom.\\n', b'2 Sandra journeyed to the bathroom.\\n', b'3 Where is John? \\tbedroom\\t1\\n', b'4 Sandra went to the hallway.\\n', b'5 Mary went back to the hallway.\\n', b'6 Where is John? \\tbedroom\\t1\\n', b'7 Mary moved to the kitchen.\\n', b'8 Daniel went back to the hallway.\\n', b'9 Where is Sandra? \\thallway\\t4\\n', b'10 Daniel travelled to the bedroom.\\n', b'11 Mary travelled to the office.\\n', b'12 Where is Mary? \\toffice\\t11\\n', b'13 Sandra travelled to the garden.\\n', b'14 John went back to the hallway.\\n', b'15 Where is Daniel? \\tbedroom\\t10\\n', b'1 Sandra moved to the bedroom.\\n', b'2 John went to the hallway.\\n', b'3 Where is John? \\thallway\\t2\\n', b'4 Sandra travelled to the office.\\n', b'5 Sandra moved to the bathroom.\\n', b'6 Where is Sandra? \\tbathroom\\t5\\n', b'7 John went back to the garden.\\n', b'8 John travelled to the bathroom.\\n', b'9 Where is John? \\tbathroom\\t8\\n', b'10 Daniel travelled to the garden.\\n', b'11 Mary went back to the bathroom.\\n', b'12 Where is John? \\tbathroom\\t8\\n', b'13 John moved to the kitchen.\\n', b'14 Daniel went back to the bedroom.\\n', b'15 Where is John? \\tkitchen\\t13\\n', b'1 John moved to the bathroom.\\n', b'2 John travelled to the garden.\\n', b'3 Where is John? \\tgarden\\t2\\n', b'4 Sandra travelled to the hallway.\\n', b'5 Daniel moved to the kitchen.\\n', b'6 Where is John? \\tgarden\\t2\\n', b'7 Sandra journeyed to the office.\\n', b'8 Mary moved to the bathroom.\\n', b'9 Where is Daniel? \\tkitchen\\t5\\n', b'10 Daniel went back to the hallway.\\n', b'11 Mary journeyed to the kitchen.\\n', b'12 Where is Sandra? \\toffice\\t7\\n', b'13 John moved to the bathroom.\\n', b'14 Daniel travelled to the bathroom.\\n', b'15 Where is Daniel? \\tbathroom\\t14\\n', b'1 Daniel journeyed to the bedroom.\\n', b'2 Sandra went back to the office.\\n', b'3 Where is Daniel? \\tbedroom\\t1\\n', b'4 Daniel travelled to the garden.\\n', b'5 John went back to the bathroom.\\n', b'6 Where is John? \\tbathroom\\t5\\n', b'7 Mary travelled to the kitchen.\\n', b'8 John went to the hallway.\\n', b'9 Where is John? \\thallway\\t8\\n', b'10 John travelled to the office.\\n', b'11 Daniel went back to the bathroom.\\n', b'12 Where is John? \\toffice\\t10\\n', b'13 Mary travelled to the hallway.\\n', b'14 John went to the kitchen.\\n', b'15 Where is John? \\tkitchen\\t14\\n', b'1 Sandra went to the bedroom.\\n', b'2 Sandra travelled to the office.\\n', b'3 Where is Sandra? \\toffice\\t2\\n', b'4 Daniel went back to the garden.\\n', b'5 Mary travelled to the bedroom.\\n', b'6 Where is Sandra? \\toffice\\t2\\n', b'7 John journeyed to the garden.\\n', b'8 Daniel went back to the hallway.\\n', b'9 Where is Daniel? \\thallway\\t8\\n', b'10 Mary went back to the garden.\\n', b'11 Mary journeyed to the bedroom.\\n', b'12 Where is Mary? \\tbedroom\\t11\\n', b'13 Sandra went back to the kitchen.\\n', b'14 Sandra went to the garden.\\n', b'15 Where is Daniel? \\thallway\\t8\\n', b'1 Daniel went back to the hallway.\\n', b'2 Daniel travelled to the garden.\\n', b'3 Where is Daniel? \\tgarden\\t2\\n', b'4 Sandra went to the office.\\n', b'5 Sandra journeyed to the kitchen.\\n', b'6 Where is Daniel? \\tgarden\\t2\\n', b'7 John moved to the office.\\n', b'8 Daniel journeyed to the bathroom.\\n', b'9 Where is John? \\toffice\\t7\\n', b'10 John went to the bathroom.\\n', b'11 Mary travelled to the garden.\\n', b'12 Where is Sandra? \\tkitchen\\t5\\n', b'13 Mary went to the bathroom.\\n', b'14 Sandra travelled to the bathroom.\\n', b'15 Where is Mary? \\tbathroom\\t13\\n', b'1 Sandra went back to the office.\\n', b'2 John moved to the bathroom.\\n', b'3 Where is Sandra? \\toffice\\t1\\n', b'4 Sandra journeyed to the bedroom.\\n', b'5 Mary journeyed to the bathroom.\\n', b'6 Where is Sandra? \\tbedroom\\t4\\n', b'7 John journeyed to the bedroom.\\n', b'8 Daniel moved to the office.\\n', b'9 Where is Mary? \\tbathroom\\t5\\n', b'10 Mary went to the garden.\\n', b'11 Daniel moved to the garden.\\n', b'12 Where is Daniel? \\tgarden\\t11\\n', b'13 Daniel travelled to the hallway.\\n', b'14 Mary journeyed to the kitchen.\\n', b'15 Where is Daniel? \\thallway\\t13\\n', b'1 Sandra travelled to the kitchen.\\n', b'2 Daniel travelled to the bathroom.\\n', b'3 Where is Sandra? \\tkitchen\\t1\\n', b'4 John went to the hallway.\\n', b'5 Sandra journeyed to the bedroom.\\n', b'6 Where is Daniel? \\tbathroom\\t2\\n', b'7 John journeyed to the kitchen.\\n', b'8 Mary went back to the office.\\n', b'9 Where is John? \\tkitchen\\t7\\n', b'10 John journeyed to the garden.\\n', b'11 Daniel travelled to the hallway.\\n', b'12 Where is Daniel? \\thallway\\t11\\n', b'13 John journeyed to the bedroom.\\n', b'14 Daniel went back to the bathroom.\\n', b'15 Where is John? \\tbedroom\\t13\\n', b'1 Daniel went to the bathroom.\\n', b'2 John went to the garden.\\n', b'3 Where is Daniel? \\tbathroom\\t1\\n', b'4 John went back to the bedroom.\\n', b'5 Mary journeyed to the office.\\n', b'6 Where is John? \\tbedroom\\t4\\n', b'7 Daniel moved to the kitchen.\\n', b'8 John journeyed to the office.\\n', b'9 Where is John? \\toffice\\t8\\n', b'10 Mary journeyed to the kitchen.\\n', b'11 Sandra travelled to the bathroom.\\n', b'12 Where is John? \\toffice\\t8\\n', b'13 Sandra went to the hallway.\\n', b'14 Daniel went back to the bedroom.\\n', b'15 Where is Mary? \\tkitchen\\t10\\n', b'1 Mary went to the garden.\\n', b'2 Daniel journeyed to the kitchen.\\n', b'3 Where is Daniel? \\tkitchen\\t2\\n', b'4 John moved to the kitchen.\\n', b'5 John travelled to the bathroom.\\n', b'6 Where is John? \\tbathroom\\t5\\n', b'7 Mary journeyed to the kitchen.\\n', b'8 Mary moved to the bathroom.\\n', b'9 Where is John? \\tbathroom\\t5\\n', b'10 Sandra journeyed to the hallway.\\n', b'11 Mary went back to the hallway.\\n', b'12 Where is John? \\tbathroom\\t5\\n', b'13 Sandra journeyed to the bathroom.\\n', b'14 Daniel went to the office.\\n', b'15 Where is Daniel? \\toffice\\t14\\n', b'1 John went back to the bedroom.\\n', b'2 Daniel journeyed to the hallway.\\n', b'3 Where is John? \\tbedroom\\t1\\n', b'4 Mary went back to the hallway.\\n', b'5 Daniel went to the office.\\n', b'6 Where is Daniel? \\toffice\\t5\\n', b'7 John journeyed to the hallway.\\n', b'8 Sandra went to the kitchen.\\n', b'9 Where is Daniel? \\toffice\\t5\\n', b'10 Sandra went back to the hallway.\\n', b'11 John moved to the bathroom.\\n', b'12 Where is John? \\tbathroom\\t11\\n', b'13 Mary went to the office.\\n', b'14 John travelled to the garden.\\n', b'15 Where is Sandra? \\thallway\\t10\\n', b'1 John travelled to the office.\\n', b'2 Mary went to the bathroom.\\n', b'3 Where is John? \\toffice\\t1\\n', b'4 Mary went to the kitchen.\\n', b'5 Mary journeyed to the bathroom.\\n', b'6 Where is John? \\toffice\\t1\\n', b'7 Mary went to the hallway.\\n', b'8 Sandra travelled to the bedroom.\\n', b'9 Where is Mary? \\thallway\\t7\\n', b'10 John moved to the kitchen.\\n', b'11 Sandra journeyed to the garden.\\n', b'12 Where is Mary? \\thallway\\t7\\n', b'13 Mary went to the office.\\n', b'14 Daniel travelled to the hallway.\\n', b'15 Where is Sandra? \\tgarden\\t11\\n', b'1 Sandra travelled to the office.\\n', b'2 Sandra moved to the garden.\\n', b'3 Where is Sandra? \\tgarden\\t2\\n', b'4 John journeyed to the bathroom.\\n', b'5 John moved to the bedroom.\\n', b'6 Where is Sandra? \\tgarden\\t2\\n', b'7 Mary went to the hallway.\\n', b'8 John journeyed to the office.\\n', b'9 Where is Sandra? \\tgarden\\t2\\n', b'10 Daniel journeyed to the kitchen.\\n', b'11 Mary moved to the kitchen.\\n', b'12 Where is John? \\toffice\\t8\\n', b'13 Mary went back to the bathroom.\\n', b'14 Mary journeyed to the garden.\\n', b'15 Where is Mary? \\tgarden\\t14\\n', b'1 Daniel travelled to the office.\\n', b'2 Sandra went back to the office.\\n', b'3 Where is Daniel? \\toffice\\t1\\n', b'4 Mary went to the office.\\n', b'5 Daniel moved to the bathroom.\\n', b'6 Where is Sandra? \\toffice\\t2\\n', b'7 John went to the hallway.\\n', b'8 Sandra moved to the bedroom.\\n', b'9 Where is Mary? \\toffice\\t4\\n', b'10 Sandra travelled to the office.\\n', b'11 John went back to the garden.\\n', b'12 Where is Sandra? \\toffice\\t10\\n', b'13 John went to the hallway.\\n', b'14 Mary went to the bathroom.\\n', b'15 Where is Sandra? \\toffice\\t10\\n', b'1 Sandra went to the hallway.\\n', b'2 Daniel moved to the garden.\\n', b'3 Where is Sandra? \\thallway\\t1\\n', b'4 Daniel went back to the bathroom.\\n', b'5 Mary went to the bedroom.\\n', b'6 Where is Daniel? \\tbathroom\\t4\\n', b'7 Mary moved to the office.\\n', b'8 Sandra travelled to the bedroom.\\n', b'9 Where is Mary? \\toffice\\t7\\n', b'10 Mary travelled to the garden.\\n', b'11 Mary journeyed to the kitchen.\\n', b'12 Where is Sandra? \\tbedroom\\t8\\n', b'13 Mary went to the office.\\n', b'14 Sandra moved to the office.\\n', b'15 Where is Mary? \\toffice\\t13\\n', b'1 Mary journeyed to the garden.\\n', b'2 John went back to the garden.\\n', b'3 Where is John? \\tgarden\\t2\\n', b'4 Mary moved to the office.\\n', b'5 John moved to the bedroom.\\n', b'6 Where is John? \\tbedroom\\t5\\n', b'7 Sandra travelled to the bathroom.\\n', b'8 Sandra moved to the garden.\\n', b'9 Where is John? \\tbedroom\\t5\\n', b'10 Daniel went to the bedroom.\\n', b'11 Daniel travelled to the hallway.\\n', b'12 Where is Daniel? \\thallway\\t11\\n', b'13 Mary moved to the bathroom.\\n', b'14 Sandra went back to the kitchen.\\n', b'15 Where is Daniel? \\thallway\\t11\\n', b'1 John journeyed to the kitchen.\\n', b'2 Sandra moved to the garden.\\n', b'3 Where is Sandra? \\tgarden\\t2\\n', b'4 Daniel travelled to the office.\\n', b'5 John moved to the bedroom.\\n', b'6 Where is Sandra? \\tgarden\\t2\\n', b'7 Sandra journeyed to the hallway.\\n', b'8 Mary travelled to the garden.\\n', b'9 Where is Daniel? \\toffice\\t4\\n', b'10 John went back to the kitchen.\\n', b'11 Daniel went back to the hallway.\\n', b'12 Where is Daniel? \\thallway\\t11\\n', b'13 Mary travelled to the hallway.\\n', b'14 Daniel journeyed to the kitchen.\\n', b'15 Where is Mary? \\thallway\\t13\\n', b'1 Daniel went to the bedroom.\\n', b'2 Daniel journeyed to the office.\\n', b'3 Where is Daniel? \\toffice\\t2\\n', b'4 Daniel travelled to the bathroom.\\n', b'5 Mary went to the office.\\n', b'6 Where is Mary? \\toffice\\t5\\n', b'7 John journeyed to the bedroom.\\n', b'8 Daniel went back to the kitchen.\\n', b'9 Where is Daniel? \\tkitchen\\t8\\n', b'10 John went to the garden.\\n', b'11 Daniel travelled to the office.\\n', b'12 Where is John? \\tgarden\\t10\\n', b'13 John travelled to the office.\\n', b'14 Mary travelled to the bathroom.\\n', b'15 Where is Daniel? \\toffice\\t11\\n', b'1 John went back to the bathroom.\\n', b'2 Sandra journeyed to the garden.\\n', b'3 Where is Sandra? \\tgarden\\t2\\n', b'4 John went to the garden.\\n', b'5 John went to the bedroom.\\n', b'6 Where is Sandra? \\tgarden\\t2\\n', b'7 Sandra went to the office.\\n', b'8 Daniel went to the bathroom.\\n', b'9 Where is Daniel? \\tbathroom\\t8\\n', b'10 Mary travelled to the kitchen.\\n', b'11 John went back to the hallway.\\n', b'12 Where is John? \\thallway\\t11\\n', b'13 Sandra moved to the bedroom.\\n', b'14 Sandra journeyed to the bathroom.\\n', b'15 Where is Daniel? \\tbathroom\\t8\\n', b'1 John journeyed to the garden.\\n', b'2 Sandra journeyed to the office.\\n', b'3 Where is Sandra? \\toffice\\t2\\n', b'4 Mary journeyed to the bathroom.\\n', b'5 Daniel went to the hallway.\\n', b'6 Where is Mary? \\tbathroom\\t4\\n', b'7 Mary went back to the kitchen.\\n', b'8 Mary went back to the bedroom.\\n', b'9 Where is Mary? \\tbedroom\\t8\\n', b'10 Mary went back to the bathroom.\\n', b'11 John went back to the kitchen.\\n', b'12 Where is Mary? \\tbathroom\\t10\\n', b'13 John moved to the hallway.\\n', b'14 Daniel moved to the kitchen.\\n', b'15 Where is Daniel? \\tkitchen\\t14\\n', b'1 Daniel went back to the bedroom.\\n', b'2 Mary went to the garden.\\n', b'3 Where is Mary? \\tgarden\\t2\\n', b'4 Sandra went to the kitchen.\\n', b'5 Sandra went back to the bathroom.\\n', b'6 Where is Sandra? \\tbathroom\\t5\\n', b'7 John journeyed to the bedroom.\\n', b'8 John went back to the hallway.\\n', b'9 Where is Mary? \\tgarden\\t2\\n', b'10 Sandra went to the kitchen.\\n', b'11 Mary went to the bathroom.\\n', b'12 Where is Sandra? \\tkitchen\\t10\\n', b'13 Sandra went back to the office.\\n', b'14 Mary journeyed to the bedroom.\\n', b'15 Where is Mary? \\tbedroom\\t14\\n', b'1 Daniel went to the hallway.\\n', b'2 John travelled to the bathroom.\\n', b'3 Where is John? \\tbathroom\\t2\\n', b'4 Daniel moved to the bedroom.\\n', b'5 Daniel went to the bathroom.\\n', b'6 Where is John? \\tbathroom\\t2\\n', b'7 Sandra travelled to the garden.\\n', b'8 Sandra went to the hallway.\\n', b'9 Where is Daniel? \\tbathroom\\t5\\n', b'10 Daniel journeyed to the office.\\n', b'11 John moved to the garden.\\n', b'12 Where is Daniel? \\toffice\\t10\\n', b'13 Daniel went back to the hallway.\\n', b'14 John moved to the bedroom.\\n', b'15 Where is Sandra? \\thallway\\t8\\n', b'1 Mary went to the garden.\\n', b'2 Sandra journeyed to the garden.\\n', b'3 Where is Sandra? \\tgarden\\t2\\n', b'4 Mary journeyed to the bathroom.\\n', b'5 Daniel went to the office.\\n', b'6 Where is Sandra? \\tgarden\\t2\\n', b'7 John went back to the garden.\\n', b'8 John travelled to the office.\\n', b'9 Where is Daniel? \\toffice\\t5\\n', b'10 John moved to the bedroom.\\n', b'11 John travelled to the kitchen.\\n', b'12 Where is John? \\tkitchen\\t11\\n', b'13 Mary travelled to the kitchen.\\n', b'14 Daniel journeyed to the bathroom.\\n', b'15 Where is John? \\tkitchen\\t11\\n', b'1 Sandra went to the bedroom.\\n', b'2 John travelled to the office.\\n', b'3 Where is Sandra? \\tbedroom\\t1\\n', b'4 John travelled to the bedroom.\\n', b'5 Sandra went back to the kitchen.\\n', b'6 Where is John? \\tbedroom\\t4\\n', b'7 Sandra went back to the garden.\\n', b'8 John went back to the office.\\n', b'9 Where is Sandra? \\tgarden\\t7\\n', b'10 Daniel went to the hallway.\\n', b'11 Daniel went to the bathroom.\\n', b'12 Where is Sandra? \\tgarden\\t7\\n', b'13 Daniel travelled to the kitchen.\\n', b'14 Daniel travelled to the garden.\\n', b'15 Where is John? \\toffice\\t8\\n', b'1 Daniel journeyed to the bedroom.\\n', b'2 Sandra journeyed to the kitchen.\\n', b'3 Where is Daniel? \\tbedroom\\t1\\n', b'4 Daniel went to the bathroom.\\n', b'5 Daniel went to the hallway.\\n', b'6 Where is Daniel? \\thallway\\t5\\n', b'7 Daniel travelled to the bathroom.\\n', b'8 Sandra went to the garden.\\n', b'9 Where is Daniel? \\tbathroom\\t7\\n', b'10 Mary moved to the bathroom.\\n', b'11 Daniel travelled to the bedroom.\\n', b'12 Where is Daniel? \\tbedroom\\t11\\n', b'13 Mary travelled to the bedroom.\\n', b'14 Daniel went to the hallway.\\n', b'15 Where is Mary? \\tbedroom\\t13\\n', b'1 Daniel went to the hallway.\\n', b'2 Daniel went to the bedroom.\\n', b'3 Where is Daniel? \\tbedroom\\t2\\n', b'4 John journeyed to the office.\\n', b'5 Mary went back to the bedroom.\\n', b'6 Where is Daniel? \\tbedroom\\t2\\n', b'7 Mary travelled to the office.\\n', b'8 John travelled to the bedroom.\\n', b'9 Where is John? \\tbedroom\\t8\\n', b'10 Mary went to the hallway.\\n', b'11 Mary went back to the kitchen.\\n', b'12 Where is Mary? \\tkitchen\\t11\\n', b'13 Daniel moved to the hallway.\\n', b'14 Mary moved to the office.\\n', b'15 Where is Mary? \\toffice\\t14\\n', b'1 Mary went to the bathroom.\\n', b'2 Daniel travelled to the bathroom.\\n', b'3 Where is Mary? \\tbathroom\\t1\\n', b'4 Mary moved to the garden.\\n', b'5 Daniel journeyed to the hallway.\\n', b'6 Where is Mary? \\tgarden\\t4\\n', b'7 John journeyed to the hallway.\\n', b'8 Mary journeyed to the office.\\n', b'9 Where is Mary? \\toffice\\t8\\n', b'10 Mary went to the kitchen.\\n', b'11 John journeyed to the kitchen.\\n', b'12 Where is Mary? \\tkitchen\\t10\\n', b'13 Mary travelled to the hallway.\\n', b'14 Daniel went to the bedroom.\\n', b'15 Where is Mary? \\thallway\\t13\\n', b'1 Sandra went to the hallway.\\n', b'2 Sandra went to the garden.\\n', b'3 Where is Sandra? \\tgarden\\t2\\n', b'4 John journeyed to the kitchen.\\n', b'5 Mary travelled to the bedroom.\\n', b'6 Where is Mary? \\tbedroom\\t5\\n', b'7 John went back to the garden.\\n', b'8 Daniel travelled to the kitchen.\\n', b'9 Where is Mary? \\tbedroom\\t5\\n', b'10 Sandra travelled to the bathroom.\\n', b'11 John went to the kitchen.\\n', b'12 Where is Daniel? \\tkitchen\\t8\\n', b'13 Sandra travelled to the office.\\n', b'14 John journeyed to the hallway.\\n', b'15 Where is John? \\thallway\\t14\\n', b'1 Mary went to the bedroom.\\n', b'2 John moved to the bathroom.\\n', b'3 Where is Mary? \\tbedroom\\t1\\n', b'4 Sandra went back to the office.\\n', b'5 John travelled to the garden.\\n', b'6 Where is John? \\tgarden\\t5\\n', b'7 Sandra journeyed to the kitchen.\\n', b'8 John journeyed to the hallway.\\n', b'9 Where is John? \\thallway\\t8\\n', b'10 Mary went back to the garden.\\n', b'11 Daniel went to the hallway.\\n', b'12 Where is John? \\thallway\\t8\\n', b'13 Sandra went to the garden.\\n', b'14 John went to the garden.\\n', b'15 Where is Mary? \\tgarden\\t10\\n', b'1 John went back to the bedroom.\\n', b'2 John journeyed to the garden.\\n', b'3 Where is John? \\tgarden\\t2\\n', b'4 Daniel journeyed to the bathroom.\\n', b'5 Sandra went back to the kitchen.\\n', b'6 Where is John? \\tgarden\\t2\\n', b'7 Daniel travelled to the kitchen.\\n', b'8 Sandra went to the hallway.\\n', b'9 Where is Daniel? \\tkitchen\\t7\\n', b'10 Daniel went to the bedroom.\\n', b'11 Mary moved to the garden.\\n', b'12 Where is Sandra? \\thallway\\t8\\n', b'13 Sandra journeyed to the office.\\n', b'14 Mary moved to the kitchen.\\n', b'15 Where is Sandra? \\toffice\\t13\\n', b'1 Mary went back to the kitchen.\\n', b'2 John went to the bedroom.\\n', b'3 Where is John? \\tbedroom\\t2\\n', b'4 Daniel went back to the hallway.\\n', b'5 Mary moved to the office.\\n', b'6 Where is Daniel? \\thallway\\t4\\n', b'7 Sandra journeyed to the kitchen.\\n', b'8 Sandra went back to the bathroom.\\n', b'9 Where is Mary? \\toffice\\t5\\n', b'10 John travelled to the garden.\\n', b'11 John moved to the hallway.\\n', b'12 Where is Mary? \\toffice\\t5\\n', b'13 Mary travelled to the kitchen.\\n', b'14 Daniel travelled to the kitchen.\\n', b'15 Where is John? \\thallway\\t11\\n', b'1 John journeyed to the garden.\\n', b'2 John went back to the bedroom.\\n', b'3 Where is John? \\tbedroom\\t2\\n', b'4 Daniel went back to the office.\\n', b'5 Daniel went to the bedroom.\\n', b'6 Where is Daniel? \\tbedroom\\t5\\n', b'7 Sandra journeyed to the office.\\n', b'8 Daniel went back to the hallway.\\n', b'9 Where is Daniel? \\thallway\\t8\\n', b'10 Daniel went to the bedroom.\\n', b'11 John moved to the bathroom.\\n', b'12 Where is Sandra? \\toffice\\t7\\n', b'13 Sandra journeyed to the bathroom.\\n', b'14 Sandra journeyed to the bedroom.\\n', b'15 Where is Daniel? \\tbedroom\\t10\\n', b'1 John travelled to the garden.\\n', b'2 Mary journeyed to the office.\\n', b'3 Where is John? \\tgarden\\t1\\n', b'4 Sandra went to the garden.\\n', b'5 John went back to the office.\\n', b'6 Where is John? \\toffice\\t5\\n', b'7 John moved to the bedroom.\\n', b'8 John moved to the garden.\\n', b'9 Where is John? \\tgarden\\t8\\n', b'10 Mary went back to the hallway.\\n', b'11 Sandra travelled to the bathroom.\\n', b'12 Where is Mary? \\thallway\\t10\\n', b'13 John went back to the office.\\n', b'14 Daniel moved to the kitchen.\\n', b'15 Where is John? \\toffice\\t13\\n', b'1 Sandra moved to the kitchen.\\n', b'2 John travelled to the office.\\n', b'3 Where is John? \\toffice\\t2\\n', b'4 Sandra went back to the garden.\\n', b'5 John went to the garden.\\n', b'6 Where is Sandra? \\tgarden\\t4\\n', b'7 Daniel travelled to the garden.\\n', b'8 Sandra moved to the hallway.\\n', b'9 Where is Sandra? \\thallway\\t8\\n', b'10 Daniel went to the kitchen.\\n', b'11 Daniel journeyed to the office.\\n', b'12 Where is John? \\tgarden\\t5\\n', b'13 Sandra went back to the bedroom.\\n', b'14 Mary moved to the bathroom.\\n', b'15 Where is Daniel? \\toffice\\t11\\n', b'1 Daniel went back to the office.\\n', b'2 Daniel travelled to the bathroom.\\n', b'3 Where is Daniel? \\tbathroom\\t2\\n', b'4 Mary moved to the hallway.\\n', b'5 Mary moved to the office.\\n', b'6 Where is Daniel? \\tbathroom\\t2\\n', b'7 John journeyed to the kitchen.\\n', b'8 John journeyed to the garden.\\n', b'9 Where is John? \\tgarden\\t8\\n', b'10 John moved to the hallway.\\n', b'11 Sandra went to the garden.\\n', b'12 Where is Mary? \\toffice\\t5\\n', b'13 Daniel moved to the kitchen.\\n', b'14 John moved to the bathroom.\\n', b'15 Where is Sandra? \\tgarden\\t11\\n', b'1 Sandra went back to the bathroom.\\n', b'2 Sandra travelled to the garden.\\n', b'3 Where is Sandra? \\tgarden\\t2\\n', b'4 Mary journeyed to the bathroom.\\n', b'5 Sandra went to the kitchen.\\n', b'6 Where is Sandra? \\tkitchen\\t5\\n', b'7 Daniel journeyed to the office.\\n', b'8 John went to the garden.\\n', b'9 Where is Sandra? \\tkitchen\\t5\\n', b'10 John journeyed to the hallway.\\n', b'11 John travelled to the bathroom.\\n', b'12 Where is Daniel? \\toffice\\t7\\n', b'13 John went to the garden.\\n', b'14 Mary travelled to the office.\\n', b'15 Where is Mary? \\toffice\\t14\\n', b'1 Daniel moved to the bedroom.\\n', b'2 Mary travelled to the hallway.\\n', b'3 Where is Daniel? \\tbedroom\\t1\\n', b'4 Mary travelled to the bedroom.\\n', b'5 John travelled to the office.\\n', b'6 Where is Mary? \\tbedroom\\t4\\n', b'7 Daniel went to the hallway.\\n', b'8 Mary travelled to the bathroom.\\n', b'9 Where is John? \\toffice\\t5\\n', b'10 John moved to the bathroom.\\n', b'11 John travelled to the garden.\\n', b'12 Where is Daniel? \\thallway\\t7\\n', b'13 John went to the office.\\n', b'14 Mary travelled to the garden.\\n', b'15 Where is Mary? \\tgarden\\t14\\n', b'1 Daniel went back to the garden.\\n', b'2 Mary travelled to the kitchen.\\n', b'3 Where is Mary? \\tkitchen\\t2\\n', b'4 Sandra journeyed to the kitchen.\\n', b'5 Sandra went to the hallway.\\n', b'6 Where is Sandra? \\thallway\\t5\\n', b'7 John went to the bedroom.\\n', b'8 Mary went back to the garden.\\n', b'9 Where is Mary? \\tgarden\\t8\\n', b'10 John journeyed to the bathroom.\\n', b'11 Daniel travelled to the office.\\n', b'12 Where is Mary? \\tgarden\\t8\\n', b'13 Daniel journeyed to the bedroom.\\n', b'14 Mary went to the office.\\n', b'15 Where is Daniel? \\tbedroom\\t13\\n', b'1 Daniel went back to the bathroom.\\n', b'2 Mary went to the kitchen.\\n', b'3 Where is Daniel? \\tbathroom\\t1\\n', b'4 Mary went to the hallway.\\n', b'5 Sandra moved to the garden.\\n', b'6 Where is Mary? \\thallway\\t4\\n', b'7 Daniel went back to the hallway.\\n', b'8 John moved to the office.\\n', b'9 Where is Daniel? \\thallway\\t7\\n', b'10 Sandra journeyed to the kitchen.\\n', b'11 Mary went to the kitchen.\\n', b'12 Where is Mary? \\tkitchen\\t11\\n', b'13 Daniel journeyed to the bedroom.\\n', b'14 Mary went to the bedroom.\\n', b'15 Where is Daniel? \\tbedroom\\t13\\n', b'1 Mary moved to the bathroom.\\n', b'2 Daniel went to the garden.\\n', b'3 Where is Mary? \\tbathroom\\t1\\n', b'4 Daniel journeyed to the bathroom.\\n', b'5 Daniel journeyed to the office.\\n', b'6 Where is Daniel? \\toffice\\t5\\n', b'7 Sandra went back to the bathroom.\\n', b'8 Daniel journeyed to the kitchen.\\n', b'9 Where is Daniel? \\tkitchen\\t8\\n', b'10 Mary went back to the garden.\\n', b'11 Daniel moved to the office.\\n', b'12 Where is Daniel? \\toffice\\t11\\n', b'13 John moved to the bedroom.\\n', b'14 Mary travelled to the bathroom.\\n', b'15 Where is Mary? \\tbathroom\\t14\\n', b'1 Sandra went to the office.\\n', b'2 John went back to the bathroom.\\n', b'3 Where is Sandra? \\toffice\\t1\\n', b'4 Daniel travelled to the office.\\n', b'5 John went back to the bedroom.\\n', b'6 Where is Daniel? \\toffice\\t4\\n', b'7 Sandra moved to the kitchen.\\n', b'8 Sandra went to the garden.\\n', b'9 Where is John? \\tbedroom\\t5\\n', b'10 Daniel went back to the bedroom.\\n', b'11 Sandra journeyed to the office.\\n', b'12 Where is Sandra? \\toffice\\t11\\n', b'13 Sandra moved to the kitchen.\\n', b'14 John moved to the kitchen.\\n', b'15 Where is Sandra? \\tkitchen\\t13\\n', b'1 Daniel travelled to the bathroom.\\n', b'2 John travelled to the hallway.\\n', b'3 Where is John? \\thallway\\t2\\n', b'4 Daniel went back to the garden.\\n', b'5 Sandra went to the hallway.\\n', b'6 Where is John? \\thallway\\t2\\n', b'7 John went back to the bathroom.\\n', b'8 Sandra moved to the bedroom.\\n', b'9 Where is Daniel? \\tgarden\\t4\\n', b'10 Mary went to the hallway.\\n', b'11 Mary travelled to the bedroom.\\n', b'12 Where is Sandra? \\tbedroom\\t8\\n', b'13 John journeyed to the kitchen.\\n', b'14 Daniel went back to the bathroom.\\n', b'15 Where is Sandra? \\tbedroom\\t8\\n', b'1 John went back to the kitchen.\\n', b'2 John journeyed to the bedroom.\\n', b'3 Where is John? \\tbedroom\\t2\\n', b'4 Daniel journeyed to the kitchen.\\n', b'5 Daniel went back to the office.\\n', b'6 Where is Daniel? \\toffice\\t5\\n', b'7 Daniel travelled to the bathroom.\\n', b'8 Daniel journeyed to the office.\\n', b'9 Where is Daniel? \\toffice\\t8\\n', b'10 John moved to the kitchen.\\n', b'11 Sandra journeyed to the garden.\\n', b'12 Where is John? \\tkitchen\\t10\\n', b'13 Daniel went to the hallway.\\n', b'14 Sandra journeyed to the bathroom.\\n', b'15 Where is Daniel? \\thallway\\t13\\n', b'1 Mary journeyed to the kitchen.\\n', b'2 Sandra went back to the office.\\n', b'3 Where is Sandra? \\toffice\\t2\\n', b'4 John moved to the bedroom.\\n', b'5 Mary travelled to the bathroom.\\n', b'6 Where is Mary? \\tbathroom\\t5\\n', b'7 Sandra moved to the bathroom.\\n', b'8 Mary travelled to the kitchen.\\n', b'9 Where is Sandra? \\tbathroom\\t7\\n', b'10 Daniel journeyed to the office.\\n', b'11 Daniel journeyed to the garden.\\n', b'12 Where is Mary? \\tkitchen\\t8\\n', b'13 Daniel travelled to the bedroom.\\n', b'14 John went back to the kitchen.\\n', b'15 Where is Daniel? \\tbedroom\\t13\\n', b'1 John went to the hallway.\\n', b'2 Sandra travelled to the hallway.\\n', b'3 Where is John? \\thallway\\t1\\n', b'4 Sandra travelled to the kitchen.\\n', b'5 John went back to the kitchen.\\n', b'6 Where is John? \\tkitchen\\t5\\n', b'7 John went back to the garden.\\n', b'8 Mary moved to the kitchen.\\n', b'9 Where is Sandra? \\tkitchen\\t4\\n', b'10 John moved to the hallway.\\n', b'11 Sandra went to the office.\\n', b'12 Where is Mary? \\tkitchen\\t8\\n', b'13 John journeyed to the kitchen.\\n', b'14 Mary travelled to the garden.\\n', b'15 Where is Sandra? \\toffice\\t11\\n', b'1 John went back to the office.\\n', b'2 Daniel went to the bathroom.\\n', b'3 Where is John? \\toffice\\t1\\n', b'4 John journeyed to the kitchen.\\n', b'5 Mary went to the bathroom.\\n', b'6 Where is John? \\tkitchen\\t4\\n', b'7 Sandra moved to the garden.\\n', b'8 Daniel went back to the bedroom.\\n', b'9 Where is Sandra? \\tgarden\\t7\\n', b'10 Sandra moved to the kitchen.\\n', b'11 Daniel travelled to the garden.\\n', b'12 Where is Sandra? \\tkitchen\\t10\\n', b'13 John went back to the office.\\n', b'14 John went back to the bedroom.\\n', b'15 Where is John? \\tbedroom\\t14\\n', b'1 Daniel went to the bathroom.\\n', b'2 Mary travelled to the hallway.\\n', b'3 Where is Mary? \\thallway\\t2\\n', b'4 John went to the bedroom.\\n', b'5 John travelled to the bathroom.\\n', b'6 Where is Daniel? \\tbathroom\\t1\\n', b'7 Mary went to the office.\\n', b'8 Sandra journeyed to the kitchen.\\n', b'9 Where is John? \\tbathroom\\t5\\n', b'10 Mary moved to the bedroom.\\n', b'11 Daniel went back to the kitchen.\\n', b'12 Where is Mary? \\tbedroom\\t10\\n', b'13 Mary moved to the garden.\\n', b'14 Daniel travelled to the office.\\n', b'15 Where is Mary? \\tgarden\\t13\\n', b'1 Daniel went back to the garden.\\n', b'2 Mary travelled to the office.\\n', b'3 Where is Daniel? \\tgarden\\t1\\n', b'4 Daniel went back to the bedroom.\\n', b'5 Mary journeyed to the bathroom.\\n', b'6 Where is Mary? \\tbathroom\\t5\\n', b'7 Daniel journeyed to the bathroom.\\n', b'8 Sandra went to the kitchen.\\n', b'9 Where is Daniel? \\tbathroom\\t7\\n', b'10 John moved to the bathroom.\\n', b'11 Mary went to the hallway.\\n', b'12 Where is Mary? \\thallway\\t11\\n', b'13 Daniel moved to the office.\\n', b'14 John travelled to the kitchen.\\n', b'15 Where is Sandra? \\tkitchen\\t8\\n', b'1 Sandra moved to the bathroom.\\n', b'2 Daniel travelled to the bathroom.\\n', b'3 Where is Daniel? \\tbathroom\\t2\\n', b'4 Sandra journeyed to the kitchen.\\n', b'5 Daniel moved to the kitchen.\\n', b'6 Where is Daniel? \\tkitchen\\t5\\n', b'7 Mary travelled to the kitchen.\\n', b'8 Sandra went to the bathroom.\\n', b'9 Where is Sandra? \\tbathroom\\t8\\n', b'10 John went back to the bathroom.\\n', b'11 Daniel moved to the hallway.\\n', b'12 Where is Daniel? \\thallway\\t11\\n', b'13 Mary went to the garden.\\n', b'14 John went back to the garden.\\n', b'15 Where is Daniel? \\thallway\\t11\\n', b'1 Daniel journeyed to the bedroom.\\n', b'2 Sandra journeyed to the bathroom.\\n', b'3 Where is Daniel? \\tbedroom\\t1\\n', b'4 John went to the office.\\n', b'5 Sandra moved to the bedroom.\\n', b'6 Where is John? \\toffice\\t4\\n', b'7 Mary journeyed to the garden.\\n', b'8 Mary went to the bedroom.\\n', b'9 Where is John? \\toffice\\t4\\n', b'10 Daniel went to the bathroom.\\n', b'11 John travelled to the kitchen.\\n', b'12 Where is Mary? \\tbedroom\\t8\\n', b'13 Sandra went back to the bathroom.\\n', b'14 Sandra went back to the hallway.\\n', b'15 Where is Sandra? \\thallway\\t14\\n', b'1 Mary journeyed to the kitchen.\\n', b'2 Daniel moved to the bedroom.\\n', b'3 Where is Mary? \\tkitchen\\t1\\n', b'4 Mary went to the bathroom.\\n', b'5 John went to the bathroom.\\n', b'6 Where is Mary? \\tbathroom\\t4\\n', b'7 Sandra went back to the bedroom.\\n', b'8 John went back to the garden.\\n', b'9 Where is Sandra? \\tbedroom\\t7\\n', b'10 Sandra travelled to the office.\\n', b'11 Daniel went to the garden.\\n', b'12 Where is Sandra? \\toffice\\t10\\n', b'13 Mary moved to the garden.\\n', b'14 John moved to the kitchen.\\n', b'15 Where is Mary? \\tgarden\\t13\\n', b'1 Sandra travelled to the garden.\\n', b'2 John travelled to the kitchen.\\n', b'3 Where is Sandra? \\tgarden\\t1\\n', b'4 Mary went to the bathroom.\\n', b'5 Mary travelled to the bedroom.\\n', b'6 Where is Sandra? \\tgarden\\t1\\n', b'7 Mary journeyed to the office.\\n', b'8 Daniel went to the bathroom.\\n', b'9 Where is Mary? \\toffice\\t7\\n', b'10 Sandra journeyed to the bathroom.\\n', b'11 John went to the bathroom.\\n', b'12 Where is John? \\tbathroom\\t11\\n', b'13 John moved to the office.\\n', b'14 John moved to the bathroom.\\n', b'15 Where is John? \\tbathroom\\t14\\n', b'1 Mary moved to the hallway.\\n', b'2 Sandra went to the garden.\\n', b'3 Where is Sandra? \\tgarden\\t2\\n', b'4 Mary went back to the kitchen.\\n', b'5 Sandra journeyed to the kitchen.\\n', b'6 Where is Sandra? \\tkitchen\\t5\\n', b'7 Daniel went back to the garden.\\n', b'8 John went to the garden.\\n', b'9 Where is John? \\tgarden\\t8\\n', b'10 Mary travelled to the office.\\n', b'11 Sandra went to the bathroom.\\n', b'12 Where is Daniel? \\tgarden\\t7\\n', b'13 Mary moved to the garden.\\n', b'14 Daniel went back to the office.\\n', b'15 Where is Mary? \\tgarden\\t13\\n', b'1 Sandra moved to the kitchen.\\n', b'2 John travelled to the kitchen.\\n', b'3 Where is John? \\tkitchen\\t2\\n', b'4 Sandra moved to the hallway.\\n', b'5 Daniel journeyed to the hallway.\\n', b'6 Where is Sandra? \\thallway\\t4\\n', b'7 Sandra travelled to the office.\\n', b'8 John moved to the bedroom.\\n', b'9 Where is Sandra? \\toffice\\t7\\n', b'10 Sandra went back to the garden.\\n', b'11 Sandra travelled to the bathroom.\\n', b'12 Where is Sandra? \\tbathroom\\t11\\n', b'13 Sandra moved to the office.\\n', b'14 Daniel journeyed to the garden.\\n', b'15 Where is John? \\tbedroom\\t8\\n']\n"
     ]
    }
   ],
   "source": [
    "#with tarfile.open(r) as tar:\n",
    "with tarfile.open('C:/Users/ohm/Downloads/Deep Learning/tasks_1-20_v1-2.tar.gz') as tar:\n",
    "    #f = tar.extractfile('tasks_1-20_v1-2/en-10k/qa1_single-supporting-fact_test.txt')\n",
    "    f = tar.extractfile('tasks_1-20_v1-2/en-10k/qa1_single-supporting-fact_test.txt')\n",
    "    print(f.readlines())"
   ]
  },
  {
   "cell_type": "markdown",
   "metadata": {
    "colab_type": "text",
    "id": "JksNOfyJKvN-"
   },
   "source": [
    "Extract the train and test files"
   ]
  },
  {
   "cell_type": "code",
   "execution_count": 6,
   "metadata": {
    "colab": {
     "autoexec": {
      "startup": false,
      "wait_interval": 0
     }
    },
    "colab_type": "code",
    "id": "QEw0BVE2KvOM"
   },
   "outputs": [],
   "source": [
    "with tarfile.open('C:/Users/ohm/Downloads/Deep Learning/tasks_1-20_v1-2.tar.gz') as tar:\n",
    "    train_stories_txt, train_q_txt, train_a_txt  = parse_stories(tar.extractfile('tasks_1-20_v1-2/en-10k/qa1_single-supporting-fact_train.txt'))\n",
    "    test_stories_txt, test_q_txt, test_a_txt = parse_stories(tar.extractfile('tasks_1-20_v1-2/en-10k/qa1_single-supporting-fact_test.txt'))"
   ]
  },
  {
   "cell_type": "code",
   "execution_count": 7,
   "metadata": {
    "colab": {
     "autoexec": {
      "startup": false,
      "wait_interval": 0
     }
    },
    "colab_type": "code",
    "id": "RzTso2R6KvOQ"
   },
   "outputs": [],
   "source": [
    "#tar.getnames()"
   ]
  },
  {
   "cell_type": "code",
   "execution_count": 8,
   "metadata": {
    "colab": {
     "autoexec": {
      "startup": false,
      "wait_interval": 0
     }
    },
    "colab_type": "code",
    "id": "auIhDLWfKvOU"
   },
   "outputs": [
    {
     "data": {
      "text/plain": [
       "'Mary moved to the bathroom. John went to the hallway.'"
      ]
     },
     "execution_count": 8,
     "metadata": {},
     "output_type": "execute_result"
    }
   ],
   "source": [
    "train_stories_txt[0]"
   ]
  },
  {
   "cell_type": "code",
   "execution_count": 9,
   "metadata": {
    "colab": {
     "autoexec": {
      "startup": false,
      "wait_interval": 0
     }
    },
    "colab_type": "code",
    "id": "pdrZelmaDauh"
   },
   "outputs": [
    {
     "data": {
      "text/plain": [
       "'Where is Mary? '"
      ]
     },
     "execution_count": 9,
     "metadata": {},
     "output_type": "execute_result"
    }
   ],
   "source": [
    "train_q_txt[0]"
   ]
  },
  {
   "cell_type": "code",
   "execution_count": 10,
   "metadata": {
    "colab": {
     "autoexec": {
      "startup": false,
      "wait_interval": 0
     }
    },
    "colab_type": "code",
    "id": "4Q0EYJRPDeGg"
   },
   "outputs": [
    {
     "data": {
      "text/plain": [
       "'bathroom'"
      ]
     },
     "execution_count": 10,
     "metadata": {},
     "output_type": "execute_result"
    }
   ],
   "source": [
    "train_a_txt[0]"
   ]
  },
  {
   "cell_type": "markdown",
   "metadata": {
    "colab_type": "text",
    "id": "me6Uh_TaKvOb"
   },
   "source": [
    "# Build Tokenizer"
   ]
  },
  {
   "cell_type": "code",
   "execution_count": 11,
   "metadata": {
    "colab": {
     "autoexec": {
      "startup": false,
      "wait_interval": 0
     }
    },
    "colab_type": "code",
    "id": "gfTtHy25KvOd"
   },
   "outputs": [
    {
     "name": "stderr",
     "output_type": "stream",
     "text": [
      "C:\\Anaconda3\\lib\\site-packages\\h5py\\__init__.py:36: FutureWarning: Conversion of the second argument of issubdtype from `float` to `np.floating` is deprecated. In future, it will be treated as `np.float64 == np.dtype(float).type`.\n",
      "  from ._conv import register_converters as _register_converters\n"
     ]
    }
   ],
   "source": [
    "from tensorflow.python.keras.preprocessing.text import Tokenizer"
   ]
  },
  {
   "cell_type": "code",
   "execution_count": 12,
   "metadata": {
    "colab": {
     "autoexec": {
      "startup": false,
      "wait_interval": 0
     }
    },
    "colab_type": "code",
    "id": "yhDpwwTPKvOg"
   },
   "outputs": [],
   "source": [
    "t = Tokenizer()"
   ]
  },
  {
   "cell_type": "code",
   "execution_count": 13,
   "metadata": {
    "colab": {
     "autoexec": {
      "startup": false,
      "wait_interval": 0
     }
    },
    "colab_type": "code",
    "id": "fmSAJgQ1KvOk"
   },
   "outputs": [],
   "source": [
    "#Fit on training data\n",
    "t.fit_on_texts(train_stories_txt)\n",
    "t.fit_on_texts(train_q_txt)\n",
    "t.fit_on_texts(train_a_txt)"
   ]
  },
  {
   "cell_type": "code",
   "execution_count": 14,
   "metadata": {
    "colab": {
     "autoexec": {
      "startup": false,
      "wait_interval": 0
     }
    },
    "colab_type": "code",
    "id": "fVe4TpH9KvOs"
   },
   "outputs": [],
   "source": [
    "#Fit on test data\n",
    "t.fit_on_texts(test_stories_txt)\n",
    "t.fit_on_texts(test_q_txt)\n",
    "t.fit_on_texts(test_a_txt)"
   ]
  },
  {
   "cell_type": "code",
   "execution_count": 15,
   "metadata": {
    "colab": {
     "autoexec": {
      "startup": false,
      "wait_interval": 0
     }
    },
    "colab_type": "code",
    "id": "yFKCEmutKvO0"
   },
   "outputs": [],
   "source": [
    "vocab_size =  len(t.word_index) + 1 #Tokenizer starts with index 1"
   ]
  },
  {
   "cell_type": "code",
   "execution_count": 16,
   "metadata": {
    "colab": {
     "autoexec": {
      "startup": false,
      "wait_interval": 0
     }
    },
    "colab_type": "code",
    "id": "_gQcJzW4KvO3"
   },
   "outputs": [
    {
     "data": {
      "text/plain": [
       "20"
      ]
     },
     "execution_count": 16,
     "metadata": {},
     "output_type": "execute_result"
    }
   ],
   "source": [
    "vocab_size"
   ]
  },
  {
   "cell_type": "code",
   "execution_count": 17,
   "metadata": {
    "colab": {
     "autoexec": {
      "startup": false,
      "wait_interval": 0
     }
    },
    "colab_type": "code",
    "id": "D7pO9tErKvO_"
   },
   "outputs": [],
   "source": [
    "train_stories_seq = t.texts_to_sequences(train_stories_txt)\n",
    "train_q_seq = t.texts_to_sequences(train_q_txt)\n",
    "train_a_seq = t.texts_to_sequences(train_a_txt)"
   ]
  },
  {
   "cell_type": "code",
   "execution_count": 18,
   "metadata": {
    "colab": {
     "autoexec": {
      "startup": false,
      "wait_interval": 0
     }
    },
    "colab_type": "code",
    "id": "CUjifp6lKvPC"
   },
   "outputs": [],
   "source": [
    "test_stories_seq = t.texts_to_sequences(test_stories_txt)\n",
    "test_q_seq = t.texts_to_sequences(test_q_txt)\n",
    "test_a_seq = t.texts_to_sequences(test_a_txt)"
   ]
  },
  {
   "cell_type": "code",
   "execution_count": 19,
   "metadata": {
    "colab": {
     "autoexec": {
      "startup": false,
      "wait_interval": 0
     }
    },
    "colab_type": "code",
    "id": "kGi1AuSYKvPI"
   },
   "outputs": [],
   "source": [
    "story_maxlen = max([len(txt) for txt in train_stories_seq + test_stories_seq])"
   ]
  },
  {
   "cell_type": "code",
   "execution_count": 20,
   "metadata": {
    "colab": {
     "autoexec": {
      "startup": false,
      "wait_interval": 0
     }
    },
    "colab_type": "code",
    "id": "qYLWxKn3KvPM"
   },
   "outputs": [],
   "source": [
    "question_maxlen = max([len(txt) for txt in train_q_seq + test_q_seq])"
   ]
  },
  {
   "cell_type": "code",
   "execution_count": 21,
   "metadata": {
    "colab": {
     "autoexec": {
      "startup": false,
      "wait_interval": 0
     }
    },
    "colab_type": "code",
    "id": "EUvh_mn8KvPS"
   },
   "outputs": [],
   "source": [
    "answer_maxlen = max([len(txt) for txt in train_a_seq + test_a_seq])"
   ]
  },
  {
   "cell_type": "code",
   "execution_count": 22,
   "metadata": {
    "colab": {
     "autoexec": {
      "startup": false,
      "wait_interval": 0
     }
    },
    "colab_type": "code",
    "id": "VvfFmfIlKvPX"
   },
   "outputs": [
    {
     "data": {
      "text/plain": [
       "58"
      ]
     },
     "execution_count": 22,
     "metadata": {},
     "output_type": "execute_result"
    }
   ],
   "source": [
    "story_maxlen"
   ]
  },
  {
   "cell_type": "code",
   "execution_count": 23,
   "metadata": {
    "colab": {
     "autoexec": {
      "startup": false,
      "wait_interval": 0
     }
    },
    "colab_type": "code",
    "id": "Ac-7AdDyKvPb"
   },
   "outputs": [
    {
     "data": {
      "text/plain": [
       "3"
      ]
     },
     "execution_count": 23,
     "metadata": {},
     "output_type": "execute_result"
    }
   ],
   "source": [
    "question_maxlen"
   ]
  },
  {
   "cell_type": "code",
   "execution_count": 24,
   "metadata": {
    "colab": {
     "autoexec": {
      "startup": false,
      "wait_interval": 0
     }
    },
    "colab_type": "code",
    "id": "rJJFrY-DKvPe"
   },
   "outputs": [
    {
     "data": {
      "text/plain": [
       "1"
      ]
     },
     "execution_count": 24,
     "metadata": {},
     "output_type": "execute_result"
    }
   ],
   "source": [
    "answer_maxlen"
   ]
  },
  {
   "cell_type": "markdown",
   "metadata": {
    "colab_type": "text",
    "id": "t8MOmIaIKvPh"
   },
   "source": [
    "Pad the sequences"
   ]
  },
  {
   "cell_type": "code",
   "execution_count": 25,
   "metadata": {
    "colab": {
     "autoexec": {
      "startup": false,
      "wait_interval": 0
     }
    },
    "colab_type": "code",
    "id": "SBSNiyrqKvPh"
   },
   "outputs": [],
   "source": [
    "from tensorflow.python.keras.preprocessing.sequence import pad_sequences"
   ]
  },
  {
   "cell_type": "code",
   "execution_count": 26,
   "metadata": {
    "colab": {
     "autoexec": {
      "startup": false,
      "wait_interval": 0
     }
    },
    "colab_type": "code",
    "id": "fBfPDOm6KvPj"
   },
   "outputs": [],
   "source": [
    "train_stories_seq = pad_sequences(train_stories_seq,maxlen=story_maxlen)\n",
    "train_q_seq = pad_sequences(train_q_seq,maxlen=question_maxlen)\n",
    "train_a_seq = pad_sequences(train_a_seq,maxlen=answer_maxlen)"
   ]
  },
  {
   "cell_type": "code",
   "execution_count": 27,
   "metadata": {
    "colab": {
     "autoexec": {
      "startup": false,
      "wait_interval": 0
     }
    },
    "colab_type": "code",
    "id": "vUcBCaFDKvPl"
   },
   "outputs": [],
   "source": [
    "test_stories_seq = pad_sequences(test_stories_seq,maxlen=story_maxlen)\n",
    "test_q_seq = pad_sequences(test_q_seq,maxlen=question_maxlen)\n",
    "test_a_seq = pad_sequences(test_a_seq,maxlen=answer_maxlen)"
   ]
  },
  {
   "cell_type": "markdown",
   "metadata": {
    "colab_type": "text",
    "id": "qj1ON1HhKvPo"
   },
   "source": [
    "int to word converter"
   ]
  },
  {
   "cell_type": "code",
   "execution_count": 28,
   "metadata": {
    "colab": {
     "autoexec": {
      "startup": false,
      "wait_interval": 0
     }
    },
    "colab_type": "code",
    "id": "f25qq4WgKvPo"
   },
   "outputs": [],
   "source": [
    "int_to_word = dict((i,w) for w, i in t.word_index.items())"
   ]
  },
  {
   "cell_type": "code",
   "execution_count": 29,
   "metadata": {
    "colab": {
     "autoexec": {
      "startup": false,
      "wait_interval": 0
     }
    },
    "colab_type": "code",
    "id": "GQNVXhnKKvPr"
   },
   "outputs": [
    {
     "data": {
      "text/plain": [
       "'bathroom'"
      ]
     },
     "execution_count": 29,
     "metadata": {},
     "output_type": "execute_result"
    }
   ],
   "source": [
    "int_to_word[11]"
   ]
  },
  {
   "cell_type": "markdown",
   "metadata": {
    "colab_type": "text",
    "id": "g_g96GYdKvPz"
   },
   "source": [
    "# Define the model layers"
   ]
  },
  {
   "cell_type": "code",
   "execution_count": 30,
   "metadata": {
    "colab": {
     "autoexec": {
      "startup": false,
      "wait_interval": 0
     }
    },
    "colab_type": "code",
    "id": "cyabAYgFKvPz"
   },
   "outputs": [],
   "source": [
    "from tensorflow.python.keras.models import Sequential, Model"
   ]
  },
  {
   "cell_type": "code",
   "execution_count": 31,
   "metadata": {
    "colab": {
     "autoexec": {
      "startup": false,
      "wait_interval": 0
     }
    },
    "colab_type": "code",
    "id": "p5xOh2gNKvP1"
   },
   "outputs": [],
   "source": [
    "from tensorflow.python.keras.layers import Embedding, Dense, LSTM, Activation, dot, Permute, add, concatenate, Dropout, Input"
   ]
  },
  {
   "cell_type": "markdown",
   "metadata": {
    "colab_type": "text",
    "id": "BAA07EehKvP3"
   },
   "source": [
    "Define input for story and question"
   ]
  },
  {
   "cell_type": "code",
   "execution_count": 32,
   "metadata": {
    "colab": {
     "autoexec": {
      "startup": false,
      "wait_interval": 0
     }
    },
    "colab_type": "code",
    "id": "UlvMUk3RKvP4"
   },
   "outputs": [],
   "source": [
    "story = Input(shape=(story_maxlen,))"
   ]
  },
  {
   "cell_type": "code",
   "execution_count": 33,
   "metadata": {
    "colab": {
     "autoexec": {
      "startup": false,
      "wait_interval": 0
     }
    },
    "colab_type": "code",
    "id": "th04PtF_KvP6"
   },
   "outputs": [],
   "source": [
    "question = Input(shape=(question_maxlen,))"
   ]
  },
  {
   "cell_type": "markdown",
   "metadata": {
    "colab_type": "text",
    "id": "LFjKW9_9KvP8"
   },
   "source": [
    "Build 3 encoders to provide 3 Embeddings\n",
    "1. Input Memory - m_encoder\n",
    "2. Controller embedding\n",
    "3. Question embedding"
   ]
  },
  {
   "cell_type": "markdown",
   "metadata": {
    "colab_type": "text",
    "id": "AT6lHcwWKvP8"
   },
   "source": [
    "Embedding A for Input memory"
   ]
  },
  {
   "cell_type": "code",
   "execution_count": 34,
   "metadata": {
    "colab": {
     "autoexec": {
      "startup": false,
      "wait_interval": 0
     }
    },
    "colab_type": "code",
    "id": "TT0NrPkPKvP9"
   },
   "outputs": [],
   "source": [
    "m_encoder = Sequential()\n",
    "m_encoder.add(Embedding(input_dim=vocab_size,output_dim=story_maxlen))\n",
    "m_encoder.add(Dropout(0.3))\n",
    "m_embedded_output = m_encoder(story)\n",
    "#output is batch_size x story_maxlen x story_maxlen (embedding size)"
   ]
  },
  {
   "cell_type": "markdown",
   "metadata": {
    "colab_type": "text",
    "id": "f6rcesQlKvP-"
   },
   "source": [
    "Embedding C for use with Controller"
   ]
  },
  {
   "cell_type": "code",
   "execution_count": 35,
   "metadata": {
    "colab": {
     "autoexec": {
      "startup": false,
      "wait_interval": 0
     }
    },
    "colab_type": "code",
    "id": "5das9VdBKvP_"
   },
   "outputs": [],
   "source": [
    "c_encoder = Sequential()\n",
    "c_encoder.add(Embedding(input_dim=vocab_size, output_dim=question_maxlen))\n",
    "c_encoder.add(Dropout(0.3))\n",
    "c_embedded_output = c_encoder(story)\n",
    "#output is batch_size x story_maxlen x question_maxlen (embedding size)"
   ]
  },
  {
   "cell_type": "markdown",
   "metadata": {
    "colab_type": "text",
    "id": "4lg0FbE9KvQB"
   },
   "source": [
    "Embedding B for Question"
   ]
  },
  {
   "cell_type": "code",
   "execution_count": 36,
   "metadata": {
    "colab": {
     "autoexec": {
      "startup": false,
      "wait_interval": 0
     }
    },
    "colab_type": "code",
    "id": "ihO-mSyzKvQE"
   },
   "outputs": [],
   "source": [
    "question_encoder = Sequential()\n",
    "question_encoder.add(Embedding(input_dim=vocab_size, output_dim=story_maxlen, input_length=question_maxlen))\n",
    "question_encoder.add(Dropout(0.3))\n",
    "question_embeddding_output = question_encoder(question)\n",
    "#output is batch_size x question_maxlen x story_maxlen (embedding size)"
   ]
  },
  {
   "cell_type": "markdown",
   "metadata": {
    "colab_type": "text",
    "id": "Rhqinx5nKvQJ"
   },
   "source": [
    "Attention"
   ]
  },
  {
   "cell_type": "code",
   "execution_count": 37,
   "metadata": {
    "colab": {
     "autoexec": {
      "startup": false,
      "wait_interval": 0
     }
    },
    "colab_type": "code",
    "id": "T4xjYgaKKvQK"
   },
   "outputs": [],
   "source": [
    "attention_weights = dot([m_embedded_output, question_embeddding_output], axes=(2, 2))\n",
    "attention_weights = Activation('softmax')(attention_weights)\n",
    "#output is batch_size x story_maxlen x question_maxlen"
   ]
  },
  {
   "cell_type": "markdown",
   "metadata": {
    "colab_type": "text",
    "id": "N94GOAi7KvQM"
   },
   "source": [
    "Calculate Weighted_sum (here we are using Add function)"
   ]
  },
  {
   "cell_type": "code",
   "execution_count": 38,
   "metadata": {
    "colab": {
     "autoexec": {
      "startup": false,
      "wait_interval": 0
     }
    },
    "colab_type": "code",
    "id": "Cb6uVM6eKvQM"
   },
   "outputs": [],
   "source": [
    "weighted_sum = add([attention_weights, c_embedded_output])  \n",
    "#Output batch_size x story_maxlen x question_maxlen\n",
    "\n",
    "permuted_weighted_sum = Permute((2, 1))(weighted_sum)  \n",
    "#Output batch_size x question_maxlen x story_maxlen"
   ]
  },
  {
   "cell_type": "markdown",
   "metadata": {
    "colab_type": "text",
    "id": "OBEIWRbcKvQS"
   },
   "source": [
    "Add both permuted_weighted_sum to Question embedding (for first hop)"
   ]
  },
  {
   "cell_type": "code",
   "execution_count": 39,
   "metadata": {
    "colab": {
     "autoexec": {
      "startup": false,
      "wait_interval": 0
     }
    },
    "colab_type": "code",
    "id": "WQiaMcrhKvQS"
   },
   "outputs": [],
   "source": [
    "output_1 = add([permuted_weighted_sum, question_embeddding_output])\n",
    "#Output batch_size x query_maxlen x story_maxlen"
   ]
  },
  {
   "cell_type": "markdown",
   "metadata": {
    "colab_type": "text",
    "id": "XmQTVPslKvQV"
   },
   "source": [
    "Output using LSTM"
   ]
  },
  {
   "cell_type": "code",
   "execution_count": 40,
   "metadata": {
    "colab": {
     "autoexec": {
      "startup": false,
      "wait_interval": 0
     }
    },
    "colab_type": "code",
    "id": "s9QfrkC-KvQV"
   },
   "outputs": [],
   "source": [
    "answer = LSTM(32)(output_1)\n",
    "#Last hidden state - batch_size x 32"
   ]
  },
  {
   "cell_type": "code",
   "execution_count": 41,
   "metadata": {
    "colab": {
     "autoexec": {
      "startup": false,
      "wait_interval": 0
     }
    },
    "colab_type": "code",
    "id": "E6vpslGFKvQg"
   },
   "outputs": [],
   "source": [
    "answer = Dropout(0.3)(answer)"
   ]
  },
  {
   "cell_type": "markdown",
   "metadata": {
    "colab_type": "text",
    "id": "InM_kB0DKvQj"
   },
   "source": [
    "FC Layer to predict answer using SoftMax"
   ]
  },
  {
   "cell_type": "code",
   "execution_count": 42,
   "metadata": {
    "colab": {
     "autoexec": {
      "startup": false,
      "wait_interval": 0
     }
    },
    "colab_type": "code",
    "id": "tj-2VBrMKvQl"
   },
   "outputs": [],
   "source": [
    "answer = Dense(vocab_size)(answer)\n",
    "answer = Activation('softmax')(answer)\n",
    "#Output batch_size x vocab_size"
   ]
  },
  {
   "cell_type": "markdown",
   "metadata": {
    "colab_type": "text",
    "id": "3bsnM7GlKvQu"
   },
   "source": [
    "# Build the model"
   ]
  },
  {
   "cell_type": "code",
   "execution_count": 43,
   "metadata": {
    "colab": {
     "autoexec": {
      "startup": false,
      "wait_interval": 0
     }
    },
    "colab_type": "code",
    "id": "Sg36B3AEKvQw"
   },
   "outputs": [],
   "source": [
    "model = Model([story, question], answer)"
   ]
  },
  {
   "cell_type": "code",
   "execution_count": 44,
   "metadata": {
    "colab": {
     "autoexec": {
      "startup": false,
      "wait_interval": 0
     }
    },
    "colab_type": "code",
    "id": "-qCS5l67KvQ0"
   },
   "outputs": [],
   "source": [
    "model.compile(optimizer='adam', loss='sparse_categorical_crossentropy',metrics=['accuracy'])"
   ]
  },
  {
   "cell_type": "markdown",
   "metadata": {
    "colab_type": "text",
    "id": "nnOPS6coKvQ3"
   },
   "source": [
    "Train the model"
   ]
  },
  {
   "cell_type": "code",
   "execution_count": 45,
   "metadata": {
    "colab": {
     "autoexec": {
      "startup": false,
      "wait_interval": 0
     }
    },
    "colab_type": "code",
    "id": "Ej5DWSWAKvQ4"
   },
   "outputs": [
    {
     "name": "stderr",
     "output_type": "stream",
     "text": [
      "C:\\Anaconda3\\lib\\site-packages\\tensorflow\\python\\ops\\gradients_impl.py:112: UserWarning: Converting sparse IndexedSlices to a dense Tensor of unknown shape. This may consume a large amount of memory.\n",
      "  \"Converting sparse IndexedSlices to a dense Tensor of unknown shape. \"\n"
     ]
    },
    {
     "name": "stdout",
     "output_type": "stream",
     "text": [
      "Train on 10000 samples, validate on 1000 samples\n",
      "Epoch 1/200\n",
      "10000/10000 [==============================] - 7s 660us/step - loss: 1.9911 - acc: 0.1736 - val_loss: 1.7977 - val_acc: 0.2330\n",
      "Epoch 2/200\n",
      "10000/10000 [==============================] - 4s 365us/step - loss: 1.7509 - acc: 0.2334 - val_loss: 1.6460 - val_acc: 0.2800\n",
      "Epoch 3/200\n",
      "10000/10000 [==============================] - 3s 322us/step - loss: 1.5874 - acc: 0.3618 - val_loss: 1.5036 - val_acc: 0.4170\n",
      "Epoch 4/200\n",
      "10000/10000 [==============================] - 3s 270us/step - loss: 1.5371 - acc: 0.3846 - val_loss: 1.4976 - val_acc: 0.4020\n",
      "Epoch 5/200\n",
      "10000/10000 [==============================] - 3s 268us/step - loss: 1.5046 - acc: 0.4067 - val_loss: 1.4646 - val_acc: 0.4290\n",
      "Epoch 6/200\n",
      "10000/10000 [==============================] - 3s 266us/step - loss: 1.4752 - acc: 0.4232 - val_loss: 1.4141 - val_acc: 0.4490\n",
      "Epoch 7/200\n",
      "10000/10000 [==============================] - 3s 293us/step - loss: 1.4419 - acc: 0.4460 - val_loss: 1.3956 - val_acc: 0.4610\n",
      "Epoch 8/200\n",
      "10000/10000 [==============================] - 3s 277us/step - loss: 1.4116 - acc: 0.4554 - val_loss: 1.3605 - val_acc: 0.4690\n",
      "Epoch 9/200\n",
      "10000/10000 [==============================] - 3s 271us/step - loss: 1.4087 - acc: 0.4550 - val_loss: 1.3884 - val_acc: 0.4560\n",
      "Epoch 10/200\n",
      "10000/10000 [==============================] - 3s 273us/step - loss: 1.3979 - acc: 0.4603 - val_loss: 1.3507 - val_acc: 0.4650\n",
      "Epoch 11/200\n",
      "10000/10000 [==============================] - 3s 275us/step - loss: 1.3914 - acc: 0.4596 - val_loss: 1.3550 - val_acc: 0.4550\n",
      "Epoch 12/200\n",
      "10000/10000 [==============================] - 3s 270us/step - loss: 1.3824 - acc: 0.4689 - val_loss: 1.3236 - val_acc: 0.4970\n",
      "Epoch 13/200\n",
      "10000/10000 [==============================] - 3s 272us/step - loss: 1.3654 - acc: 0.4722 - val_loss: 1.3257 - val_acc: 0.4830\n",
      "Epoch 14/200\n",
      "10000/10000 [==============================] - 3s 273us/step - loss: 1.3621 - acc: 0.4732 - val_loss: 1.3259 - val_acc: 0.4750\n",
      "Epoch 15/200\n",
      "10000/10000 [==============================] - 3s 273us/step - loss: 1.3593 - acc: 0.4741 - val_loss: 1.3208 - val_acc: 0.4950\n",
      "Epoch 16/200\n",
      "10000/10000 [==============================] - 3s 273us/step - loss: 1.3445 - acc: 0.4840 - val_loss: 1.2911 - val_acc: 0.4850\n",
      "Epoch 17/200\n",
      "10000/10000 [==============================] - 3s 275us/step - loss: 1.3264 - acc: 0.4907 - val_loss: 1.2930 - val_acc: 0.4950\n",
      "Epoch 18/200\n",
      "10000/10000 [==============================] - 3s 281us/step - loss: 1.3130 - acc: 0.4930 - val_loss: 1.2762 - val_acc: 0.5020\n",
      "Epoch 19/200\n",
      "10000/10000 [==============================] - 3s 280us/step - loss: 1.3078 - acc: 0.5019 - val_loss: 1.2692 - val_acc: 0.5040\n",
      "Epoch 20/200\n",
      "10000/10000 [==============================] - 3s 274us/step - loss: 1.2920 - acc: 0.5014 - val_loss: 1.2712 - val_acc: 0.4950\n",
      "Epoch 21/200\n",
      "10000/10000 [==============================] - 3s 271us/step - loss: 1.2962 - acc: 0.4993 - val_loss: 1.2617 - val_acc: 0.4990\n",
      "Epoch 22/200\n",
      "10000/10000 [==============================] - 3s 278us/step - loss: 1.2860 - acc: 0.5025 - val_loss: 1.2507 - val_acc: 0.4980\n",
      "Epoch 23/200\n",
      "10000/10000 [==============================] - 3s 275us/step - loss: 1.2814 - acc: 0.5052 - val_loss: 1.2444 - val_acc: 0.5040\n",
      "Epoch 24/200\n",
      "10000/10000 [==============================] - 3s 271us/step - loss: 1.2702 - acc: 0.5138 - val_loss: 1.2348 - val_acc: 0.5030\n",
      "Epoch 25/200\n",
      "10000/10000 [==============================] - 3s 280us/step - loss: 1.2679 - acc: 0.5114 - val_loss: 1.2360 - val_acc: 0.5100\n",
      "Epoch 26/200\n",
      "10000/10000 [==============================] - 3s 278us/step - loss: 1.2548 - acc: 0.5147 - val_loss: 1.2246 - val_acc: 0.5110\n",
      "Epoch 27/200\n",
      "10000/10000 [==============================] - 3s 275us/step - loss: 1.2526 - acc: 0.5066 - val_loss: 1.2258 - val_acc: 0.5160\n",
      "Epoch 28/200\n",
      "10000/10000 [==============================] - 3s 259us/step - loss: 1.2351 - acc: 0.5211 - val_loss: 1.2130 - val_acc: 0.5140\n",
      "Epoch 29/200\n",
      "10000/10000 [==============================] - 3s 264us/step - loss: 1.2299 - acc: 0.5186 - val_loss: 1.1905 - val_acc: 0.5150\n",
      "Epoch 30/200\n",
      "10000/10000 [==============================] - 3s 347us/step - loss: 1.1964 - acc: 0.5399 - val_loss: 1.1461 - val_acc: 0.5370\n",
      "Epoch 31/200\n",
      "10000/10000 [==============================] - 4s 352us/step - loss: 1.1467 - acc: 0.5679 - val_loss: 1.0672 - val_acc: 0.5940\n",
      "Epoch 32/200\n",
      "10000/10000 [==============================] - 3s 298us/step - loss: 1.0598 - acc: 0.6066 - val_loss: 0.9695 - val_acc: 0.6460\n",
      "Epoch 33/200\n",
      "10000/10000 [==============================] - 3s 270us/step - loss: 0.9698 - acc: 0.6499 - val_loss: 0.8861 - val_acc: 0.7010\n",
      "Epoch 34/200\n",
      "10000/10000 [==============================] - 3s 261us/step - loss: 0.9023 - acc: 0.6830 - val_loss: 0.8328 - val_acc: 0.7160\n",
      "Epoch 35/200\n",
      "10000/10000 [==============================] - 3s 305us/step - loss: 0.8558 - acc: 0.7050 - val_loss: 0.7946 - val_acc: 0.7290\n",
      "Epoch 36/200\n",
      "10000/10000 [==============================] - 3s 315us/step - loss: 0.8150 - acc: 0.7152 - val_loss: 0.7585 - val_acc: 0.7370\n",
      "Epoch 37/200\n",
      "10000/10000 [==============================] - 4s 419us/step - loss: 0.7817 - acc: 0.7293 - val_loss: 0.7236 - val_acc: 0.7500\n",
      "Epoch 38/200\n",
      "10000/10000 [==============================] - 3s 302us/step - loss: 0.7436 - acc: 0.7411 - val_loss: 0.7008 - val_acc: 0.7520\n",
      "Epoch 39/200\n",
      "10000/10000 [==============================] - 3s 285us/step - loss: 0.7149 - acc: 0.7536 - val_loss: 0.6822 - val_acc: 0.7600\n",
      "Epoch 40/200\n",
      "10000/10000 [==============================] - 3s 252us/step - loss: 0.6917 - acc: 0.7573 - val_loss: 0.6323 - val_acc: 0.7670\n",
      "Epoch 41/200\n",
      "10000/10000 [==============================] - 3s 268us/step - loss: 0.6594 - acc: 0.7679 - val_loss: 0.6253 - val_acc: 0.7670\n",
      "Epoch 42/200\n",
      "10000/10000 [==============================] - 3s 277us/step - loss: 0.6493 - acc: 0.7709 - val_loss: 0.5973 - val_acc: 0.7780\n",
      "Epoch 43/200\n",
      "10000/10000 [==============================] - 3s 262us/step - loss: 0.6174 - acc: 0.7778 - val_loss: 0.5781 - val_acc: 0.7810\n",
      "Epoch 44/200\n",
      "10000/10000 [==============================] - 3s 311us/step - loss: 0.5987 - acc: 0.7838 - val_loss: 0.5513 - val_acc: 0.7940\n",
      "Epoch 45/200\n",
      "10000/10000 [==============================] - 3s 271us/step - loss: 0.5819 - acc: 0.7937 - val_loss: 0.5437 - val_acc: 0.7960\n",
      "Epoch 46/200\n",
      "10000/10000 [==============================] - 3s 250us/step - loss: 0.5616 - acc: 0.7944 - val_loss: 0.5365 - val_acc: 0.8010\n",
      "Epoch 47/200\n",
      "10000/10000 [==============================] - 2s 243us/step - loss: 0.5502 - acc: 0.8024 - val_loss: 0.5089 - val_acc: 0.8020\n",
      "Epoch 48/200\n",
      "10000/10000 [==============================] - 3s 279us/step - loss: 0.5446 - acc: 0.8032 - val_loss: 0.4869 - val_acc: 0.8300\n",
      "Epoch 49/200\n",
      "10000/10000 [==============================] - 3s 284us/step - loss: 0.5287 - acc: 0.8112 - val_loss: 0.4825 - val_acc: 0.8180\n",
      "Epoch 50/200\n",
      "10000/10000 [==============================] - 3s 293us/step - loss: 0.5182 - acc: 0.8127 - val_loss: 0.4815 - val_acc: 0.8260\n",
      "Epoch 51/200\n",
      "10000/10000 [==============================] - 3s 287us/step - loss: 0.5033 - acc: 0.8137 - val_loss: 0.4648 - val_acc: 0.8280\n",
      "Epoch 52/200\n",
      "10000/10000 [==============================] - 3s 261us/step - loss: 0.4946 - acc: 0.8196 - val_loss: 0.4513 - val_acc: 0.8320\n",
      "Epoch 53/200\n",
      "10000/10000 [==============================] - 3s 263us/step - loss: 0.4847 - acc: 0.8273 - val_loss: 0.4394 - val_acc: 0.8410\n",
      "Epoch 54/200\n",
      "10000/10000 [==============================] - 3s 307us/step - loss: 0.4735 - acc: 0.8280 - val_loss: 0.4384 - val_acc: 0.8390\n",
      "Epoch 55/200\n",
      "10000/10000 [==============================] - 4s 374us/step - loss: 0.4628 - acc: 0.8305 - val_loss: 0.4389 - val_acc: 0.8310\n",
      "Epoch 56/200\n",
      "10000/10000 [==============================] - 3s 271us/step - loss: 0.4566 - acc: 0.8371 - val_loss: 0.4203 - val_acc: 0.8420\n",
      "Epoch 57/200\n",
      "10000/10000 [==============================] - 3s 300us/step - loss: 0.4444 - acc: 0.8379 - val_loss: 0.4111 - val_acc: 0.8410\n",
      "Epoch 58/200\n",
      "10000/10000 [==============================] - 3s 269us/step - loss: 0.4418 - acc: 0.8406 - val_loss: 0.4094 - val_acc: 0.8480\n",
      "Epoch 59/200\n",
      "10000/10000 [==============================] - 3s 259us/step - loss: 0.4363 - acc: 0.8374 - val_loss: 0.3998 - val_acc: 0.8520\n",
      "Epoch 60/200\n",
      "10000/10000 [==============================] - 3s 265us/step - loss: 0.4185 - acc: 0.8500 - val_loss: 0.4051 - val_acc: 0.8520\n",
      "Epoch 61/200\n",
      "10000/10000 [==============================] - 3s 290us/step - loss: 0.4165 - acc: 0.8470 - val_loss: 0.3923 - val_acc: 0.8520\n",
      "Epoch 62/200\n",
      "10000/10000 [==============================] - 4s 376us/step - loss: 0.4159 - acc: 0.8472 - val_loss: 0.3865 - val_acc: 0.8570\n",
      "Epoch 63/200\n",
      "10000/10000 [==============================] - 3s 318us/step - loss: 0.4081 - acc: 0.8481 - val_loss: 0.3841 - val_acc: 0.8530\n",
      "Epoch 64/200\n",
      "10000/10000 [==============================] - 3s 301us/step - loss: 0.4037 - acc: 0.8515 - val_loss: 0.3845 - val_acc: 0.8490\n",
      "Epoch 65/200\n",
      "10000/10000 [==============================] - 3s 278us/step - loss: 0.3937 - acc: 0.8540 - val_loss: 0.3776 - val_acc: 0.8590\n",
      "Epoch 66/200\n",
      "10000/10000 [==============================] - 3s 257us/step - loss: 0.3941 - acc: 0.8534 - val_loss: 0.3715 - val_acc: 0.8600\n",
      "Epoch 67/200\n",
      "10000/10000 [==============================] - 3s 270us/step - loss: 0.3809 - acc: 0.8579 - val_loss: 0.3537 - val_acc: 0.8740\n",
      "Epoch 68/200\n",
      "10000/10000 [==============================] - 3s 302us/step - loss: 0.3759 - acc: 0.8601 - val_loss: 0.3526 - val_acc: 0.8730\n",
      "Epoch 69/200\n",
      "10000/10000 [==============================] - 3s 277us/step - loss: 0.3725 - acc: 0.8651 - val_loss: 0.3493 - val_acc: 0.8660\n",
      "Epoch 70/200\n",
      "10000/10000 [==============================] - 3s 291us/step - loss: 0.3607 - acc: 0.8690 - val_loss: 0.3793 - val_acc: 0.8510\n",
      "Epoch 71/200\n",
      "10000/10000 [==============================] - 3s 283us/step - loss: 0.3607 - acc: 0.8699 - val_loss: 0.3589 - val_acc: 0.8610\n",
      "Epoch 72/200\n",
      "10000/10000 [==============================] - 3s 281us/step - loss: 0.3545 - acc: 0.8666 - val_loss: 0.3395 - val_acc: 0.8640\n",
      "Epoch 73/200\n",
      "10000/10000 [==============================] - 3s 283us/step - loss: 0.3515 - acc: 0.8690 - val_loss: 0.3298 - val_acc: 0.8820\n",
      "Epoch 74/200\n",
      "10000/10000 [==============================] - 3s 268us/step - loss: 0.3412 - acc: 0.8712 - val_loss: 0.3271 - val_acc: 0.8800\n",
      "Epoch 75/200\n",
      "10000/10000 [==============================] - 3s 271us/step - loss: 0.3327 - acc: 0.8750 - val_loss: 0.3281 - val_acc: 0.8730\n",
      "Epoch 76/200\n",
      "10000/10000 [==============================] - 3s 304us/step - loss: 0.3394 - acc: 0.8745 - val_loss: 0.3230 - val_acc: 0.8820\n",
      "Epoch 77/200\n",
      "10000/10000 [==============================] - 3s 278us/step - loss: 0.3355 - acc: 0.8743 - val_loss: 0.3211 - val_acc: 0.8710\n",
      "Epoch 78/200\n",
      "10000/10000 [==============================] - 3s 291us/step - loss: 0.3184 - acc: 0.8788 - val_loss: 0.3220 - val_acc: 0.8770\n",
      "Epoch 79/200\n",
      "10000/10000 [==============================] - 3s 280us/step - loss: 0.3237 - acc: 0.8777 - val_loss: 0.3055 - val_acc: 0.8850\n",
      "Epoch 80/200\n",
      "10000/10000 [==============================] - 3s 281us/step - loss: 0.3140 - acc: 0.8849 - val_loss: 0.3081 - val_acc: 0.8830\n",
      "Epoch 81/200\n",
      "10000/10000 [==============================] - 3s 304us/step - loss: 0.3103 - acc: 0.8856 - val_loss: 0.2998 - val_acc: 0.8930\n",
      "Epoch 82/200\n",
      "10000/10000 [==============================] - 3s 308us/step - loss: 0.3090 - acc: 0.8840 - val_loss: 0.2933 - val_acc: 0.8890\n",
      "Epoch 83/200\n",
      "10000/10000 [==============================] - 3s 322us/step - loss: 0.2962 - acc: 0.8913 - val_loss: 0.3065 - val_acc: 0.8770\n",
      "Epoch 84/200\n",
      "10000/10000 [==============================] - 4s 353us/step - loss: 0.2940 - acc: 0.8931 - val_loss: 0.2872 - val_acc: 0.8990\n",
      "Epoch 85/200\n",
      "10000/10000 [==============================] - 3s 285us/step - loss: 0.2991 - acc: 0.8906 - val_loss: 0.2920 - val_acc: 0.8930\n",
      "Epoch 86/200\n",
      "10000/10000 [==============================] - 3s 277us/step - loss: 0.2926 - acc: 0.8898 - val_loss: 0.2817 - val_acc: 0.8920\n",
      "Epoch 87/200\n",
      "10000/10000 [==============================] - 3s 295us/step - loss: 0.2870 - acc: 0.8911 - val_loss: 0.2750 - val_acc: 0.9010\n",
      "Epoch 88/200\n",
      "10000/10000 [==============================] - 3s 290us/step - loss: 0.2799 - acc: 0.8989 - val_loss: 0.2766 - val_acc: 0.8970\n",
      "Epoch 89/200\n",
      "10000/10000 [==============================] - 3s 313us/step - loss: 0.2884 - acc: 0.8960 - val_loss: 0.2771 - val_acc: 0.8980\n",
      "Epoch 90/200\n",
      "10000/10000 [==============================] - 3s 282us/step - loss: 0.2787 - acc: 0.8965 - val_loss: 0.2721 - val_acc: 0.9040\n",
      "Epoch 91/200\n",
      "10000/10000 [==============================] - 3s 293us/step - loss: 0.2677 - acc: 0.8986 - val_loss: 0.2678 - val_acc: 0.9070\n",
      "Epoch 92/200\n",
      "10000/10000 [==============================] - 3s 283us/step - loss: 0.2771 - acc: 0.8979 - val_loss: 0.2632 - val_acc: 0.9040\n",
      "Epoch 93/200\n",
      "10000/10000 [==============================] - 3s 286us/step - loss: 0.2743 - acc: 0.9008 - val_loss: 0.2656 - val_acc: 0.9060\n",
      "Epoch 94/200\n",
      "10000/10000 [==============================] - 3s 289us/step - loss: 0.2631 - acc: 0.9051 - val_loss: 0.2840 - val_acc: 0.8860\n",
      "Epoch 95/200\n",
      "10000/10000 [==============================] - 3s 266us/step - loss: 0.2615 - acc: 0.9037 - val_loss: 0.2546 - val_acc: 0.9130\n",
      "Epoch 96/200\n",
      "10000/10000 [==============================] - 3s 253us/step - loss: 0.2520 - acc: 0.9072 - val_loss: 0.2477 - val_acc: 0.9100\n",
      "Epoch 97/200\n",
      "10000/10000 [==============================] - 3s 254us/step - loss: 0.2480 - acc: 0.9095 - val_loss: 0.2454 - val_acc: 0.9180\n",
      "Epoch 98/200\n",
      "10000/10000 [==============================] - 2s 249us/step - loss: 0.2471 - acc: 0.9103 - val_loss: 0.2503 - val_acc: 0.9190\n",
      "Epoch 99/200\n",
      "10000/10000 [==============================] - 3s 256us/step - loss: 0.2493 - acc: 0.9097 - val_loss: 0.2492 - val_acc: 0.9110\n",
      "Epoch 100/200\n",
      "10000/10000 [==============================] - 2s 242us/step - loss: 0.2449 - acc: 0.9118 - val_loss: 0.2402 - val_acc: 0.9130\n",
      "Epoch 101/200\n",
      "10000/10000 [==============================] - 3s 260us/step - loss: 0.2409 - acc: 0.9136 - val_loss: 0.2361 - val_acc: 0.9170\n",
      "Epoch 102/200\n",
      "10000/10000 [==============================] - 2s 242us/step - loss: 0.2368 - acc: 0.9113 - val_loss: 0.2398 - val_acc: 0.9150\n",
      "Epoch 103/200\n",
      "10000/10000 [==============================] - 3s 254us/step - loss: 0.2469 - acc: 0.9089 - val_loss: 0.2453 - val_acc: 0.9160\n",
      "Epoch 104/200\n",
      "10000/10000 [==============================] - 2s 240us/step - loss: 0.2295 - acc: 0.9173 - val_loss: 0.2340 - val_acc: 0.9210\n",
      "Epoch 105/200\n",
      "10000/10000 [==============================] - 2s 250us/step - loss: 0.2332 - acc: 0.9173 - val_loss: 0.2289 - val_acc: 0.9220\n",
      "Epoch 106/200\n",
      "10000/10000 [==============================] - 2s 247us/step - loss: 0.2275 - acc: 0.9163 - val_loss: 0.2294 - val_acc: 0.9260\n",
      "Epoch 107/200\n",
      "10000/10000 [==============================] - 2s 246us/step - loss: 0.2236 - acc: 0.9199 - val_loss: 0.2286 - val_acc: 0.9230\n",
      "Epoch 108/200\n",
      "10000/10000 [==============================] - 2s 243us/step - loss: 0.2326 - acc: 0.9145 - val_loss: 0.2184 - val_acc: 0.9260\n",
      "Epoch 109/200\n",
      "10000/10000 [==============================] - 2s 244us/step - loss: 0.2182 - acc: 0.9237 - val_loss: 0.2196 - val_acc: 0.9280\n",
      "Epoch 110/200\n",
      "10000/10000 [==============================] - 3s 283us/step - loss: 0.2120 - acc: 0.9247 - val_loss: 0.2172 - val_acc: 0.9280\n",
      "Epoch 111/200\n",
      "10000/10000 [==============================] - 3s 272us/step - loss: 0.2189 - acc: 0.9215 - val_loss: 0.2085 - val_acc: 0.9300\n",
      "Epoch 112/200\n",
      "10000/10000 [==============================] - 3s 252us/step - loss: 0.2119 - acc: 0.9219 - val_loss: 0.2062 - val_acc: 0.9290\n",
      "Epoch 113/200\n",
      "10000/10000 [==============================] - 2s 241us/step - loss: 0.2112 - acc: 0.9222 - val_loss: 0.2176 - val_acc: 0.9270\n",
      "Epoch 114/200\n",
      "10000/10000 [==============================] - 3s 251us/step - loss: 0.2112 - acc: 0.9234 - val_loss: 0.2179 - val_acc: 0.9180\n",
      "Epoch 115/200\n",
      "10000/10000 [==============================] - 3s 255us/step - loss: 0.2038 - acc: 0.9248 - val_loss: 0.2095 - val_acc: 0.9300\n",
      "Epoch 116/200\n",
      "10000/10000 [==============================] - 3s 260us/step - loss: 0.1997 - acc: 0.9264 - val_loss: 0.2091 - val_acc: 0.9260\n",
      "Epoch 117/200\n"
     ]
    },
    {
     "name": "stdout",
     "output_type": "stream",
     "text": [
      "10000/10000 [==============================] - 3s 258us/step - loss: 0.2022 - acc: 0.9267 - val_loss: 0.2055 - val_acc: 0.9300\n",
      "Epoch 118/200\n",
      "10000/10000 [==============================] - 3s 253us/step - loss: 0.1926 - acc: 0.9293 - val_loss: 0.1992 - val_acc: 0.9370\n",
      "Epoch 119/200\n",
      "10000/10000 [==============================] - 3s 264us/step - loss: 0.1995 - acc: 0.9308 - val_loss: 0.1946 - val_acc: 0.9360\n",
      "Epoch 120/200\n",
      "10000/10000 [==============================] - 3s 286us/step - loss: 0.1899 - acc: 0.9350 - val_loss: 0.1972 - val_acc: 0.9350\n",
      "Epoch 121/200\n",
      "10000/10000 [==============================] - 3s 268us/step - loss: 0.1979 - acc: 0.9294 - val_loss: 0.2032 - val_acc: 0.9250\n",
      "Epoch 122/200\n",
      "10000/10000 [==============================] - 3s 303us/step - loss: 0.1821 - acc: 0.9339 - val_loss: 0.1948 - val_acc: 0.9350\n",
      "Epoch 123/200\n",
      "10000/10000 [==============================] - 3s 315us/step - loss: 0.1937 - acc: 0.9324 - val_loss: 0.1919 - val_acc: 0.9380\n",
      "Epoch 124/200\n",
      "10000/10000 [==============================] - 3s 327us/step - loss: 0.1965 - acc: 0.9307 - val_loss: 0.2070 - val_acc: 0.9320\n",
      "Epoch 125/200\n",
      "10000/10000 [==============================] - 3s 320us/step - loss: 0.1894 - acc: 0.9325 - val_loss: 0.1869 - val_acc: 0.9340\n",
      "Epoch 126/200\n",
      "10000/10000 [==============================] - 3s 310us/step - loss: 0.1818 - acc: 0.9335 - val_loss: 0.1892 - val_acc: 0.9330\n",
      "Epoch 127/200\n",
      "10000/10000 [==============================] - 4s 372us/step - loss: 0.1877 - acc: 0.9312 - val_loss: 0.1851 - val_acc: 0.9420\n",
      "Epoch 128/200\n",
      "10000/10000 [==============================] - 3s 305us/step - loss: 0.1881 - acc: 0.9322 - val_loss: 0.2217 - val_acc: 0.9180\n",
      "Epoch 129/200\n",
      "10000/10000 [==============================] - 3s 280us/step - loss: 0.1811 - acc: 0.9368 - val_loss: 0.1931 - val_acc: 0.9310\n",
      "Epoch 130/200\n",
      "10000/10000 [==============================] - 3s 268us/step - loss: 0.1764 - acc: 0.9356 - val_loss: 0.1832 - val_acc: 0.9380\n",
      "Epoch 131/200\n",
      "10000/10000 [==============================] - 3s 301us/step - loss: 0.1824 - acc: 0.9318 - val_loss: 0.1880 - val_acc: 0.9390\n",
      "Epoch 132/200\n",
      "10000/10000 [==============================] - 3s 332us/step - loss: 0.1733 - acc: 0.9375 - val_loss: 0.1779 - val_acc: 0.9340\n",
      "Epoch 133/200\n",
      "10000/10000 [==============================] - 3s 271us/step - loss: 0.1773 - acc: 0.9357 - val_loss: 0.1830 - val_acc: 0.9370\n",
      "Epoch 134/200\n",
      "10000/10000 [==============================] - 3s 252us/step - loss: 0.1705 - acc: 0.9387 - val_loss: 0.2052 - val_acc: 0.9310\n",
      "Epoch 135/200\n",
      "10000/10000 [==============================] - 3s 253us/step - loss: 0.1681 - acc: 0.9408 - val_loss: 0.1688 - val_acc: 0.9420\n",
      "Epoch 136/200\n",
      "10000/10000 [==============================] - 2s 246us/step - loss: 0.1686 - acc: 0.9418 - val_loss: 0.1755 - val_acc: 0.9430\n",
      "Epoch 137/200\n",
      "10000/10000 [==============================] - 2s 248us/step - loss: 0.1775 - acc: 0.9364 - val_loss: 0.1573 - val_acc: 0.9460\n",
      "Epoch 138/200\n",
      "10000/10000 [==============================] - 2s 248us/step - loss: 0.1684 - acc: 0.9377 - val_loss: 0.1762 - val_acc: 0.9410\n",
      "Epoch 139/200\n",
      "10000/10000 [==============================] - 2s 247us/step - loss: 0.1638 - acc: 0.9414 - val_loss: 0.1774 - val_acc: 0.9380\n",
      "Epoch 140/200\n",
      "10000/10000 [==============================] - 2s 241us/step - loss: 0.1651 - acc: 0.9403 - val_loss: 0.1677 - val_acc: 0.9400\n",
      "Epoch 141/200\n",
      "10000/10000 [==============================] - 2s 250us/step - loss: 0.1648 - acc: 0.9400 - val_loss: 0.1714 - val_acc: 0.9410\n",
      "Epoch 142/200\n",
      "10000/10000 [==============================] - 2s 240us/step - loss: 0.1670 - acc: 0.9419 - val_loss: 0.1691 - val_acc: 0.9460\n",
      "Epoch 143/200\n",
      "10000/10000 [==============================] - 2s 240us/step - loss: 0.1609 - acc: 0.9434 - val_loss: 0.1647 - val_acc: 0.9430\n",
      "Epoch 144/200\n",
      "10000/10000 [==============================] - 3s 260us/step - loss: 0.1573 - acc: 0.9418 - val_loss: 0.1690 - val_acc: 0.9440\n",
      "Epoch 145/200\n",
      "10000/10000 [==============================] - 3s 262us/step - loss: 0.1581 - acc: 0.9430 - val_loss: 0.1591 - val_acc: 0.9410\n",
      "Epoch 146/200\n",
      "10000/10000 [==============================] - 3s 275us/step - loss: 0.1531 - acc: 0.9427 - val_loss: 0.1632 - val_acc: 0.9380\n",
      "Epoch 147/200\n",
      "10000/10000 [==============================] - 3s 260us/step - loss: 0.1534 - acc: 0.9451 - val_loss: 0.1668 - val_acc: 0.9370\n",
      "Epoch 148/200\n",
      "10000/10000 [==============================] - 3s 304us/step - loss: 0.1538 - acc: 0.9452 - val_loss: 0.1592 - val_acc: 0.9440\n",
      "Epoch 149/200\n",
      "10000/10000 [==============================] - 3s 316us/step - loss: 0.1540 - acc: 0.9464 - val_loss: 0.1584 - val_acc: 0.9480\n",
      "Epoch 150/200\n",
      "10000/10000 [==============================] - 3s 277us/step - loss: 0.1479 - acc: 0.9484 - val_loss: 0.1489 - val_acc: 0.9510\n",
      "Epoch 151/200\n",
      "10000/10000 [==============================] - 2s 249us/step - loss: 0.1492 - acc: 0.9479 - val_loss: 0.1586 - val_acc: 0.9410\n",
      "Epoch 152/200\n",
      "10000/10000 [==============================] - 2s 244us/step - loss: 0.1376 - acc: 0.9492 - val_loss: 0.1652 - val_acc: 0.9420\n",
      "Epoch 153/200\n",
      "10000/10000 [==============================] - 3s 252us/step - loss: 0.1547 - acc: 0.9442 - val_loss: 0.1658 - val_acc: 0.9370\n",
      "Epoch 154/200\n",
      "10000/10000 [==============================] - 2s 250us/step - loss: 0.1479 - acc: 0.9457 - val_loss: 0.1464 - val_acc: 0.9470\n",
      "Epoch 155/200\n",
      "10000/10000 [==============================] - 2s 246us/step - loss: 0.1456 - acc: 0.9500 - val_loss: 0.1749 - val_acc: 0.9370\n",
      "Epoch 156/200\n",
      "10000/10000 [==============================] - 3s 268us/step - loss: 0.1460 - acc: 0.9478 - val_loss: 0.1538 - val_acc: 0.9510\n",
      "Epoch 157/200\n",
      "10000/10000 [==============================] - 3s 255us/step - loss: 0.1340 - acc: 0.9516 - val_loss: 0.1494 - val_acc: 0.9420\n",
      "Epoch 158/200\n",
      "10000/10000 [==============================] - 3s 277us/step - loss: 0.1422 - acc: 0.9488 - val_loss: 0.1417 - val_acc: 0.9530\n",
      "Epoch 159/200\n",
      "10000/10000 [==============================] - 2s 245us/step - loss: 0.1420 - acc: 0.9497 - val_loss: 0.1427 - val_acc: 0.9500\n",
      "Epoch 160/200\n",
      "10000/10000 [==============================] - 2s 245us/step - loss: 0.1347 - acc: 0.9492 - val_loss: 0.1377 - val_acc: 0.9540\n",
      "Epoch 161/200\n",
      "10000/10000 [==============================] - 2s 247us/step - loss: 0.1413 - acc: 0.9506 - val_loss: 0.1366 - val_acc: 0.9510\n",
      "Epoch 162/200\n",
      "10000/10000 [==============================] - 2s 249us/step - loss: 0.1364 - acc: 0.9531 - val_loss: 0.1513 - val_acc: 0.9410\n",
      "Epoch 163/200\n",
      "10000/10000 [==============================] - 2s 246us/step - loss: 0.1439 - acc: 0.9472 - val_loss: 0.1459 - val_acc: 0.9500\n",
      "Epoch 164/200\n",
      "10000/10000 [==============================] - 3s 256us/step - loss: 0.1355 - acc: 0.9524 - val_loss: 0.1413 - val_acc: 0.9500\n",
      "Epoch 165/200\n",
      "10000/10000 [==============================] - 2s 246us/step - loss: 0.1291 - acc: 0.9538 - val_loss: 0.1664 - val_acc: 0.9330\n",
      "Epoch 166/200\n",
      "10000/10000 [==============================] - 2s 249us/step - loss: 0.1313 - acc: 0.9533 - val_loss: 0.1511 - val_acc: 0.9470\n",
      "Epoch 167/200\n",
      "10000/10000 [==============================] - 3s 278us/step - loss: 0.1344 - acc: 0.9524 - val_loss: 0.1393 - val_acc: 0.9560\n",
      "Epoch 168/200\n",
      "10000/10000 [==============================] - 3s 262us/step - loss: 0.1225 - acc: 0.9551 - val_loss: 0.1321 - val_acc: 0.9570\n",
      "Epoch 169/200\n",
      "10000/10000 [==============================] - 2s 242us/step - loss: 0.1270 - acc: 0.9574 - val_loss: 0.1463 - val_acc: 0.9500\n",
      "Epoch 170/200\n",
      "10000/10000 [==============================] - 2s 243us/step - loss: 0.1319 - acc: 0.9539 - val_loss: 0.1370 - val_acc: 0.9520\n",
      "Epoch 171/200\n",
      "10000/10000 [==============================] - 2s 244us/step - loss: 0.1289 - acc: 0.9527 - val_loss: 0.1279 - val_acc: 0.9550\n",
      "Epoch 172/200\n",
      "10000/10000 [==============================] - 2s 242us/step - loss: 0.1374 - acc: 0.9473 - val_loss: 0.1334 - val_acc: 0.9550\n",
      "Epoch 173/200\n",
      "10000/10000 [==============================] - 2s 242us/step - loss: 0.1226 - acc: 0.9578 - val_loss: 0.1307 - val_acc: 0.9580\n",
      "Epoch 174/200\n",
      "10000/10000 [==============================] - 2s 243us/step - loss: 0.1265 - acc: 0.9559 - val_loss: 0.1363 - val_acc: 0.9560\n",
      "Epoch 175/200\n",
      "10000/10000 [==============================] - 2s 250us/step - loss: 0.1228 - acc: 0.9558 - val_loss: 0.1314 - val_acc: 0.9570\n",
      "Epoch 176/200\n",
      "10000/10000 [==============================] - 3s 266us/step - loss: 0.1227 - acc: 0.9566 - val_loss: 0.1344 - val_acc: 0.9540\n",
      "Epoch 177/200\n",
      "10000/10000 [==============================] - 2s 246us/step - loss: 0.1270 - acc: 0.9566 - val_loss: 0.1349 - val_acc: 0.9560\n",
      "Epoch 178/200\n",
      "10000/10000 [==============================] - 2s 248us/step - loss: 0.1256 - acc: 0.9544 - val_loss: 0.1372 - val_acc: 0.9540\n",
      "Epoch 179/200\n",
      "10000/10000 [==============================] - 2s 248us/step - loss: 0.1235 - acc: 0.9544 - val_loss: 0.1286 - val_acc: 0.9510\n",
      "Epoch 180/200\n",
      "10000/10000 [==============================] - 3s 253us/step - loss: 0.1206 - acc: 0.9563 - val_loss: 0.1263 - val_acc: 0.9540\n",
      "Epoch 181/200\n",
      "10000/10000 [==============================] - 2s 248us/step - loss: 0.1191 - acc: 0.9583 - val_loss: 0.1290 - val_acc: 0.9570\n",
      "Epoch 182/200\n",
      "10000/10000 [==============================] - 3s 253us/step - loss: 0.1140 - acc: 0.9620 - val_loss: 0.1192 - val_acc: 0.9580\n",
      "Epoch 183/200\n",
      "10000/10000 [==============================] - 2s 242us/step - loss: 0.1147 - acc: 0.9593 - val_loss: 0.1768 - val_acc: 0.9400\n",
      "Epoch 184/200\n",
      "10000/10000 [==============================] - 2s 247us/step - loss: 0.1194 - acc: 0.9574 - val_loss: 0.1243 - val_acc: 0.9560\n",
      "Epoch 185/200\n",
      "10000/10000 [==============================] - 2s 240us/step - loss: 0.1209 - acc: 0.9571 - val_loss: 0.1194 - val_acc: 0.9590\n",
      "Epoch 186/200\n",
      "10000/10000 [==============================] - 2s 243us/step - loss: 0.1194 - acc: 0.9584 - val_loss: 0.1257 - val_acc: 0.9620\n",
      "Epoch 187/200\n",
      "10000/10000 [==============================] - 2s 243us/step - loss: 0.1148 - acc: 0.9572 - val_loss: 0.1194 - val_acc: 0.9590\n",
      "Epoch 188/200\n",
      "10000/10000 [==============================] - 2s 248us/step - loss: 0.1042 - acc: 0.9646 - val_loss: 0.1361 - val_acc: 0.9510\n",
      "Epoch 189/200\n",
      "10000/10000 [==============================] - 3s 254us/step - loss: 0.1153 - acc: 0.9584 - val_loss: 0.1288 - val_acc: 0.9580\n",
      "Epoch 190/200\n",
      "10000/10000 [==============================] - 3s 251us/step - loss: 0.1170 - acc: 0.9582 - val_loss: 0.1242 - val_acc: 0.9550\n",
      "Epoch 191/200\n",
      "10000/10000 [==============================] - 2s 241us/step - loss: 0.1111 - acc: 0.9591 - val_loss: 0.1173 - val_acc: 0.9580\n",
      "Epoch 192/200\n",
      "10000/10000 [==============================] - 2s 242us/step - loss: 0.1067 - acc: 0.9630 - val_loss: 0.1253 - val_acc: 0.9520\n",
      "Epoch 193/200\n",
      "10000/10000 [==============================] - 2s 240us/step - loss: 0.1045 - acc: 0.9641 - val_loss: 0.1227 - val_acc: 0.9570\n",
      "Epoch 194/200\n",
      "10000/10000 [==============================] - 2s 247us/step - loss: 0.0973 - acc: 0.9649 - val_loss: 0.1159 - val_acc: 0.9610\n",
      "Epoch 195/200\n",
      "10000/10000 [==============================] - 2s 246us/step - loss: 0.1063 - acc: 0.9611 - val_loss: 0.1260 - val_acc: 0.9600\n",
      "Epoch 196/200\n",
      "10000/10000 [==============================] - 2s 248us/step - loss: 0.1053 - acc: 0.9622 - val_loss: 0.1281 - val_acc: 0.9570\n",
      "Epoch 197/200\n",
      "10000/10000 [==============================] - 3s 250us/step - loss: 0.1088 - acc: 0.9618 - val_loss: 0.1151 - val_acc: 0.9640\n",
      "Epoch 198/200\n",
      "10000/10000 [==============================] - 2s 245us/step - loss: 0.1034 - acc: 0.9608 - val_loss: 0.1110 - val_acc: 0.9620\n",
      "Epoch 199/200\n",
      "10000/10000 [==============================] - 2s 249us/step - loss: 0.0991 - acc: 0.9636 - val_loss: 0.1168 - val_acc: 0.9590\n",
      "Epoch 200/200\n",
      "10000/10000 [==============================] - 2s 242us/step - loss: 0.1014 - acc: 0.9637 - val_loss: 0.1208 - val_acc: 0.9570\n"
     ]
    },
    {
     "data": {
      "text/plain": [
       "<tensorflow.python.keras.callbacks.History at 0xe16a198>"
      ]
     },
     "execution_count": 45,
     "metadata": {},
     "output_type": "execute_result"
    }
   ],
   "source": [
    "model.fit([train_stories_seq, train_q_seq], train_a_seq,\n",
    "          batch_size=32,\n",
    "          epochs=200,\n",
    "          validation_data=([test_stories_seq, test_q_seq], test_a_seq))"
   ]
  },
  {
   "cell_type": "code",
   "execution_count": 46,
   "metadata": {
    "colab": {
     "autoexec": {
      "startup": false,
      "wait_interval": 0
     }
    },
    "colab_type": "code",
    "id": "zhqYAJaJKvQ9"
   },
   "outputs": [],
   "source": [
    "model.save('babi_memn2n_task_1.hd5')"
   ]
  },
  {
   "cell_type": "markdown",
   "metadata": {
    "colab_type": "text",
    "id": "XHQs_ohjKvRA"
   },
   "source": [
    "# Model Prediction"
   ]
  },
  {
   "cell_type": "code",
   "execution_count": 47,
   "metadata": {
    "colab": {
     "autoexec": {
      "startup": false,
      "wait_interval": 0
     }
    },
    "colab_type": "code",
    "id": "-6vgv5h6KvRA"
   },
   "outputs": [],
   "source": [
    "test_num = 723"
   ]
  },
  {
   "cell_type": "code",
   "execution_count": 48,
   "metadata": {
    "colab": {
     "autoexec": {
      "startup": false,
      "wait_interval": 0
     }
    },
    "colab_type": "code",
    "id": "gxAHYMwHKvRD"
   },
   "outputs": [],
   "source": [
    "#Get padded story seuqence\n",
    "story_seq_ex = test_stories_seq[test_num]\n",
    "\n",
    "#Get padded question sequence\n",
    "question_seq_ex = test_q_seq[test_num]\n",
    "\n",
    "#reshape to batch_size 1\n",
    "story_seq_ex = np.reshape(story_seq_ex,(1,len(story_seq_ex)))\n",
    "question_seq_ex = np.reshape(question_seq_ex,(1,len(question_seq_ex)))\n",
    "\n",
    "#Predict\n",
    "result = model.predict([story_seq_ex, question_seq_ex])\n",
    "\n",
    "#Get the index with highest probability\n",
    "result = np.argmax(result)\n",
    "\n",
    "#Convert index to word\n",
    "result = int_to_word[result]"
   ]
  },
  {
   "cell_type": "code",
   "execution_count": 49,
   "metadata": {
    "colab": {
     "autoexec": {
      "startup": false,
      "wait_interval": 0
     }
    },
    "colab_type": "code",
    "id": "g60qRZxHKvRF"
   },
   "outputs": [
    {
     "name": "stdout",
     "output_type": "stream",
     "text": [
      "Story : \n",
      "Sandra moved to the bedroom. Daniel journeyed to the garden. Mary moved to the bedroom. Sandra went back to the hallway. John went to the office. Sandra went back to the bathroom. Sandra went back to the kitchen. Sandra travelled to the office.\n",
      "Question : \n",
      "Where is Sandra? \n",
      "Answer : \n",
      "office\n"
     ]
    }
   ],
   "source": [
    "print ('Story : \\n' + test_stories_txt[test_num])\n",
    "print ('Question : \\n' + test_q_txt[test_num])\n",
    "print ('Answer : \\n' + result)"
   ]
  }
 ],
 "metadata": {
  "colab": {
   "default_view": {},
   "name": "4. MemN2N_bAbI.ipynb",
   "private_outputs": true,
   "provenance": [],
   "version": "0.3.2",
   "views": {}
  },
  "kernelspec": {
   "display_name": "Python 3",
   "language": "python",
   "name": "python3"
  },
  "language_info": {
   "codemirror_mode": {
    "name": "ipython",
    "version": 3
   },
   "file_extension": ".py",
   "mimetype": "text/x-python",
   "name": "python",
   "nbconvert_exporter": "python",
   "pygments_lexer": "ipython3",
   "version": "3.6.5"
  }
 },
 "nbformat": 4,
 "nbformat_minor": 1
}
